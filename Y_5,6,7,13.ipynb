{
  "nbformat": 4,
  "nbformat_minor": 0,
  "metadata": {
    "colab": {
      "name": "Untitled22.ipynb",
      "provenance": [],
      "authorship_tag": "ABX9TyOOeSOh9DUJ2wfTfWgh/JxC",
      "include_colab_link": true
    },
    "kernelspec": {
      "name": "python3",
      "display_name": "Python 3"
    },
    "language_info": {
      "name": "python"
    },
    "accelerator": "GPU",
    "gpuClass": "standard"
  },
  "cells": [
    {
      "cell_type": "markdown",
      "metadata": {
        "id": "view-in-github",
        "colab_type": "text"
      },
      "source": [
        "<a href=\"https://colab.research.google.com/github/dangdang2222/LG_Aimers/blob/main/Y_5%2C6%2C7%2C13.ipynb\" target=\"_parent\"><img src=\"https://colab.research.google.com/assets/colab-badge.svg\" alt=\"Open In Colab\"/></a>"
      ]
    },
    {
      "cell_type": "code",
      "execution_count": 1,
      "metadata": {
        "colab": {
          "base_uri": "https://localhost:8080/"
        },
        "id": "PkIatagVX9Qa",
        "outputId": "4f6da327-8684-4412-f607-a3048e3a1dae"
      },
      "outputs": [
        {
          "output_type": "stream",
          "name": "stdout",
          "text": [
            "Mounted at /content/drive/\n"
          ]
        }
      ],
      "source": [
        "from google.colab import drive\n",
        "drive.mount('/content/drive/')"
      ]
    },
    {
      "cell_type": "code",
      "source": [
        "import pandas as pd\n",
        "import random\n",
        "import os\n",
        "import numpy as np\n",
        "%matplotlib inline\n",
        "import seaborn as sns\n",
        "import matplotlib.pyplot as plt\n",
        "\n",
        "from sklearn.linear_model import LinearRegression\n",
        "from sklearn.multioutput import MultiOutputRegressor\n",
        "from sklearn.ensemble import RandomForestRegressor\n",
        "from sklearn.model_selection import train_test_split\n",
        "from sklearn.metrics import mean_squared_error\n",
        "from xgboost import XGBRegressor"
      ],
      "metadata": {
        "id": "bSchQq4DX_Ad"
      },
      "execution_count": 2,
      "outputs": []
    },
    {
      "cell_type": "code",
      "source": [
        "def seed_everything(seed):\n",
        "    random.seed(seed)\n",
        "    os.environ['PYTHONHASHSEED'] = str(seed)\n",
        "    np.random.seed(seed)\n",
        "seed_everything(42) # Seed 고정\n",
        "\n",
        "def lg_nrmse(gt, preds):\n",
        "    # 각 Y Feature별 NRMSE 총합\n",
        "    # Y_01 ~ Y_08 까지 20% 가중치 부여\n",
        "    all_nrmse = []\n",
        "    for idx in range(0,13): # ignore 'ID'\n",
        "        rmse = mean_squared_error(np.array(gt)[:,idx], preds[:,idx], squared=False)\n",
        "        nrmse = rmse/np.mean(np.abs(np.array(gt)[:,idx]))\n",
        "        all_nrmse.append(nrmse)\n",
        "    score = 1.2 * np.sum(all_nrmse[:8]) + 1.0 * np.sum(all_nrmse[8:15])\n",
        "    return score\n",
        "def lg_nrmse_one(gt, preds):\n",
        "    # Y_08의 경우는 가중치 1.2 부여. 8 이후부터는 모두 가중치 1.0\n",
        "    all_nrmse = []\n",
        "    rmse = mean_squared_error(np.array(gt), preds, squared=False)\n",
        "    nrmse = rmse/np.mean(np.abs(np.array(gt)))\n",
        "    all_nrmse.append(nrmse)\n",
        "    score = 1.2 * np.sum(all_nrmse)\n",
        "    return score"
      ],
      "metadata": {
        "id": "jqobXR7GYImt"
      },
      "execution_count": 3,
      "outputs": []
    },
    {
      "cell_type": "code",
      "source": [
        "train_df = pd.read_csv('/content/drive/MyDrive/LG_Aimer/train.csv').drop(columns=\"ID\")\n",
        "train_x = train_df.filter(regex='X') # Input : X Featrue\n",
        "train_x=train_x.drop(columns=['X_04','X_23','X_47','X_48'])\n",
        "train_y = train_df.filter(regex='Y') # Output : Y Feature"
      ],
      "metadata": {
        "id": "-BO2y51vYKOR"
      },
      "execution_count": 4,
      "outputs": []
    },
    {
      "cell_type": "code",
      "source": [
        "train_y06 = train_y['Y_06']\n",
        "train_y06\n",
        "train_y06=pd.DataFrame(train_y06, index= train_y.index)"
      ],
      "metadata": {
        "id": "QgXd5tVQYLnq"
      },
      "execution_count": 14,
      "outputs": []
    },
    {
      "cell_type": "code",
      "source": [
        "from sklearn.model_selection import train_test_split\n",
        "\n",
        "# -----------------------------------\n",
        "# 열마다 학습 데이터의 1%, 99% 지점을 확인\n",
        "p01 = train_x.quantile(0.01)\n",
        "p99 = train_x.quantile(0.99)\n",
        "\n",
        "# 1％점 이하의 값은 1%점으로, 99%점 이상의 값은 99%점으로 클리핑\n",
        "train_x = train_x.clip(p01, p99, axis=1)"
      ],
      "metadata": {
        "id": "LV0UuHBMYRXy"
      },
      "execution_count": 6,
      "outputs": []
    },
    {
      "cell_type": "code",
      "source": [
        "train_x['X__21'] = (train_x['X_24'] - train_x['X_12'])\n",
        "train_x['X__22'] = (train_x['X_25'] - train_x['X_12'])\n",
        "train_x['X__23'] = (train_x['X_26'] - train_x['X_12'])\n",
        "train_x['X__24'] = (train_x['X_27'] - train_x['X_12'])\n",
        "train_x['X__25'] = (train_x['X_28'] - train_x['X_12'])\n",
        "train_x['X__26'] = (train_x['X_29'] - train_x['X_12'])"
      ],
      "metadata": {
        "id": "vHIHrLjWYUVK"
      },
      "execution_count": 7,
      "outputs": []
    },
    {
      "cell_type": "code",
      "source": [
        "import xgboost as xgb\n",
        "regressor1= xgb.XGBRegressor(n_estimators=200, learning_rate=0.05, gamma=1, subsample=0.75,\n",
        "                           colsample_bytree=1, max_depth=7)"
      ],
      "metadata": {
        "id": "d1QwBgNeYWcp"
      },
      "execution_count": 8,
      "outputs": []
    },
    {
      "cell_type": "markdown",
      "source": [
        "## Y_06"
      ],
      "metadata": {
        "id": "DoL3n1iQwWiM"
      }
    },
    {
      "cell_type": "code",
      "source": [
        "    x_train,x_valid, y_train,y_valid = train_test_split(train_x,train_y06,test_size=0.3) \n",
        "\n",
        "    model_xgb = xgb.XGBRegressor(n_estimators=200, learning_rate=0.05, gamma=1, subsample=0.75,colsample_bytree=1, max_depth=7)\n",
        "    model_xgb.fit(x_train, y_train) ##xgboost error....?\n",
        "    y_predict = model_xgb.predict(x_valid)\n",
        "    score = lg_nrmse_one(y_valid, y_predict)\n",
        "    print(score)\n"
      ],
      "metadata": {
        "colab": {
          "base_uri": "https://localhost:8080/"
        },
        "id": "FQ1qxqWpYqjh",
        "outputId": "604712f9-ba68-4282-8003-15758b84417b"
      },
      "execution_count": 9,
      "outputs": [
        {
          "output_type": "stream",
          "name": "stdout",
          "text": [
            "[10:29:16] WARNING: /workspace/src/objective/regression_obj.cu:152: reg:linear is now deprecated in favor of reg:squarederror.\n",
            "0.12698733705760756\n"
          ]
        }
      ]
    },
    {
      "cell_type": "code",
      "source": [
        "new_col = ['X_49', 'X_09', 'X_14', 'X_05', 'X_15', 'X_07', 'X_03', 'X_02', 'X_38', 'X_16', 'X_01', 'X_50', 'X_56', 'X_08', 'X_44', 'X_22', 'X_41', 'X_21','X_42']\n",
        "train_x_xgb = train_x[new_col]\n",
        "\n"
      ],
      "metadata": {
        "id": "GJZcNUGSZizW"
      },
      "execution_count": 15,
      "outputs": []
    },
    {
      "cell_type": "code",
      "source": [
        "train_x_xgb.columns"
      ],
      "metadata": {
        "colab": {
          "base_uri": "https://localhost:8080/"
        },
        "id": "OfkNBJLmaN_n",
        "outputId": "3655191c-ef5a-4c3f-d51b-5eaaf0cd3ecf"
      },
      "execution_count": 16,
      "outputs": [
        {
          "output_type": "execute_result",
          "data": {
            "text/plain": [
              "Index(['X_49', 'X_09', 'X_14', 'X_05', 'X_15', 'X_07', 'X_03', 'X_02', 'X_38',\n",
              "       'X_16', 'X_01', 'X_50', 'X_56', 'X_08', 'X_44', 'X_22', 'X_41', 'X_21',\n",
              "       'X_42'],\n",
              "      dtype='object')"
            ]
          },
          "metadata": {},
          "execution_count": 16
        }
      ]
    },
    {
      "cell_type": "code",
      "source": [
        "    x_train,x_valid, y_train,y_valid = train_test_split(train_x_xgb,train_y06,test_size=0.3,random_state=42) \n",
        "\n",
        "    model_xgb = xgb.XGBRegressor(n_estimators=200, learning_rate=0.05, gamma=1, subsample=0.75,colsample_bytree=1, max_depth=7)\n",
        "    model_xgb.fit(x_train, y_train) ##xgboost error....?\n",
        "    y_predict = model_xgb.predict(x_valid)\n",
        "    score = lg_nrmse_one(y_valid, y_predict)\n",
        "    print(score)"
      ],
      "metadata": {
        "colab": {
          "base_uri": "https://localhost:8080/"
        },
        "id": "SEPsHSEjZpSZ",
        "outputId": "e4651756-86a1-44bb-cad1-f0401f2d588c"
      },
      "execution_count": 19,
      "outputs": [
        {
          "output_type": "stream",
          "name": "stdout",
          "text": [
            "[12:08:28] WARNING: /workspace/src/objective/regression_obj.cu:152: reg:linear is now deprecated in favor of reg:squarederror.\n",
            "0.12298070045135383\n"
          ]
        }
      ]
    },
    {
      "cell_type": "markdown",
      "source": [
        "## Y_07"
      ],
      "metadata": {
        "id": "drSWswrTwYbI"
      }
    },
    {
      "cell_type": "code",
      "source": [
        "train_y07 = train_y['Y_07']\n",
        "train_y07\n",
        "train_y07=pd.DataFrame(train_y07, index= train_y.index)"
      ],
      "metadata": {
        "id": "uxUwa1dfZq2B"
      },
      "execution_count": 20,
      "outputs": []
    },
    {
      "cell_type": "code",
      "source": [
        "    x_train,x_valid, y_train,y_valid = train_test_split(train_x,train_y07,test_size=0.3) \n",
        "\n",
        "    model_xgb = xgb.XGBRegressor(n_estimators=200, learning_rate=0.05, gamma=1, subsample=0.75,colsample_bytree=1, max_depth=7)\n",
        "    model_xgb.fit(x_train, y_train) ##xgboost error....?\n",
        "    y_predict = model_xgb.predict(x_valid)\n",
        "    score = lg_nrmse_one(y_valid, y_predict)\n",
        "    print(score)\n"
      ],
      "metadata": {
        "colab": {
          "base_uri": "https://localhost:8080/"
        },
        "id": "nEZGzLU5hSqB",
        "outputId": "de225c2d-5c38-4686-9763-fad8e9031557"
      },
      "execution_count": 16,
      "outputs": [
        {
          "output_type": "stream",
          "name": "stdout",
          "text": [
            "[11:03:25] WARNING: /workspace/src/objective/regression_obj.cu:152: reg:linear is now deprecated in favor of reg:squarederror.\n",
            "0.15616743082976933\n"
          ]
        }
      ]
    },
    {
      "cell_type": "code",
      "source": [
        "new_col = ['X_13', 'X_19', 'X_32', 'X_07', 'X_09', 'X_49', 'X_21', 'X_03', 'X_17', 'X__22', 'X_05', 'X_22', 'X__26', 'X_08', 'X_51', 'X__23', 'X_31', 'X_14', 'X_44', 'X__25', 'X_38', 'X__21', 'X_52','X_40']\n",
        "train_x_xgb = train_x[new_col]\n"
      ],
      "metadata": {
        "id": "rXtfVrZChW-P"
      },
      "execution_count": 21,
      "outputs": []
    },
    {
      "cell_type": "code",
      "source": [
        "    x_train,x_valid, y_train,y_valid = train_test_split(train_x_xgb,train_y07,test_size=0.3,random_state=42) \n",
        "\n",
        "    model_xgb = xgb.XGBRegressor(n_estimators=200, learning_rate=0.05, gamma=1, subsample=0.75,colsample_bytree=1, max_depth=7)\n",
        "    model_xgb.fit(x_train, y_train) ##xgboost error....?\n",
        "    y_predict = model_xgb.predict(x_valid)\n",
        "    score = lg_nrmse_one(y_valid, y_predict)\n",
        "    print(score)"
      ],
      "metadata": {
        "colab": {
          "base_uri": "https://localhost:8080/"
        },
        "id": "Rvi7l_zVhe5J",
        "outputId": "90dc4c85-a977-480b-f286-cc31ee90ef0d"
      },
      "execution_count": 22,
      "outputs": [
        {
          "output_type": "stream",
          "name": "stdout",
          "text": [
            "[12:08:48] WARNING: /workspace/src/objective/regression_obj.cu:152: reg:linear is now deprecated in favor of reg:squarederror.\n",
            "0.15573291235781145\n"
          ]
        }
      ]
    },
    {
      "cell_type": "markdown",
      "source": [
        "## Y_05"
      ],
      "metadata": {
        "id": "3wHqEgphtuQv"
      }
    },
    {
      "cell_type": "code",
      "source": [
        "train_y05 = train_y['Y_05']\n",
        "train_y05\n",
        "train_y05=pd.DataFrame(train_y05, index= train_y.index)"
      ],
      "metadata": {
        "id": "mxZNQmKFhjlo"
      },
      "execution_count": 5,
      "outputs": []
    },
    {
      "cell_type": "code",
      "source": [
        "    x_train,x_valid, y_train,y_valid = train_test_split(train_x,train_y05,test_size=0.3,random_state=42) \n",
        "\n",
        "    model_xgb = xgb.XGBRegressor(n_estimators=200, learning_rate=0.05, gamma=1, subsample=0.75,colsample_bytree=1, max_depth=7)\n",
        "    model_xgb.fit(x_train, y_train) ##xgboost error....?\n",
        "    y_predict = model_xgb.predict(x_valid)\n",
        "    score = lg_nrmse_one(y_valid, y_predict)\n",
        "    print(score)\n"
      ],
      "metadata": {
        "colab": {
          "base_uri": "https://localhost:8080/"
        },
        "id": "P6P6L0sxtUGb",
        "outputId": "4a1d1c1d-857d-4a34-cde9-6244a6df9dd7"
      },
      "execution_count": 9,
      "outputs": [
        {
          "output_type": "stream",
          "name": "stdout",
          "text": [
            "[11:56:00] WARNING: /workspace/src/objective/regression_obj.cu:152: reg:linear is now deprecated in favor of reg:squarederror.\n",
            "0.09563775884496022\n"
          ]
        }
      ]
    },
    {
      "cell_type": "code",
      "source": [
        "    new_col = ['X_49', 'X_56', 'X_55', 'X_54', 'X_53', 'X__26', 'X__25', 'X__24', 'X__23', 'X__22', 'X_52', 'X_51', 'X_50', 'X__21', 'X_46', 'X_40', 'X_45', 'X_44', 'X_43', 'X_42', 'X_41', 'X_39', 'X_38', 'X_37', 'X_36', 'X_35', 'X_34', 'X_33', 'X_32', 'X_31', 'X_30', 'X_29', 'X_28', 'X_22', 'X_27', 'X_26', 'X_25', 'X_24', 'X_21', 'X_20', 'X_19', 'X_18', 'X_17', 'X_16', 'X_15', 'X_14', 'X_13', 'X_09', 'X_12', 'X_08', 'X_07', 'X_06', 'X_05', 'X_03', 'X_02','X_01']\n",
        "    train_x_xgb = train_x[new_col]\n",
        "\n",
        "    x_train,x_valid, y_train,y_valid = train_test_split(train_x_xgb,train_y05,test_size=0.3,random_state=42) \n",
        "\n",
        "    model_xgb = xgb.XGBRegressor(n_estimators=200, learning_rate=0.05, gamma=1, subsample=0.75,colsample_bytree=1, max_depth=7)\n",
        "    model_xgb.fit(x_train, y_train) ##xgboost error....?\n",
        "    y_predict = model_xgb.predict(x_valid)\n",
        "    score = lg_nrmse_one(y_valid, y_predict)\n",
        "    print(score)"
      ],
      "metadata": {
        "colab": {
          "base_uri": "https://localhost:8080/"
        },
        "id": "g9cEG8rMtZSm",
        "outputId": "0dfffcb5-ba52-40fe-cbf9-dcfaec5575a3"
      },
      "execution_count": 13,
      "outputs": [
        {
          "output_type": "stream",
          "name": "stdout",
          "text": [
            "[12:05:43] WARNING: /workspace/src/objective/regression_obj.cu:152: reg:linear is now deprecated in favor of reg:squarederror.\n",
            "0.09558576195193111\n"
          ]
        }
      ]
    },
    {
      "cell_type": "markdown",
      "source": [
        "## Y_13"
      ],
      "metadata": {
        "id": "0svPhMdewezv"
      }
    },
    {
      "cell_type": "code",
      "source": [
        "train_y13 = train_y['Y_13']\n",
        "train_y13\n",
        "train_y13=pd.DataFrame(train_y13, index= train_y.index)"
      ],
      "metadata": {
        "id": "t3m64rf0vn0Q"
      },
      "execution_count": 23,
      "outputs": []
    },
    {
      "cell_type": "code",
      "source": [
        "    x_train,x_valid, y_train,y_valid = train_test_split(train_x,train_y13,test_size=0.3,random_state=42) \n",
        "\n",
        "    model_xgb = xgb.XGBRegressor(n_estimators=200, learning_rate=0.05, gamma=1, subsample=0.75,colsample_bytree=1, max_depth=7)\n",
        "    model_xgb.fit(x_train, y_train) ##xgboost error....?\n",
        "    y_predict = model_xgb.predict(x_valid)\n",
        "    score = lg_nrmse_one(y_valid, y_predict)\n",
        "    print(score)"
      ],
      "metadata": {
        "colab": {
          "base_uri": "https://localhost:8080/"
        },
        "id": "z4WvJgPFwjGg",
        "outputId": "73b94b39-6c66-4405-c96d-952393eb9adf"
      },
      "execution_count": 24,
      "outputs": [
        {
          "output_type": "stream",
          "name": "stdout",
          "text": [
            "[12:09:54] WARNING: /workspace/src/objective/regression_obj.cu:152: reg:linear is now deprecated in favor of reg:squarederror.\n",
            "0.028819865420023485\n"
          ]
        }
      ]
    },
    {
      "cell_type": "code",
      "source": [
        "    new_col = ['X_20', 'X_32', 'X_30', 'X_07', 'X_49', 'X_03', 'X_21', 'X_22', 'X_09', 'X_08', 'X_19', 'X__23', 'X_05', 'X_45', 'X_06', 'X_14', 'X_54', 'X_51', 'X_55', 'X_53', 'X_52', 'X__25', 'X_16', 'X__21', 'X_40', 'X_25', 'X_42']\n",
        "    train_x_xgb = train_x[new_col]\n",
        "\n",
        "    x_train,x_valid, y_train,y_valid = train_test_split(train_x_xgb,train_y13,test_size=0.3,random_state=42) \n",
        "\n",
        "    model_xgb = xgb.XGBRegressor(n_estimators=200, learning_rate=0.05, gamma=1, subsample=0.75,colsample_bytree=1, max_depth=7)\n",
        "    model_xgb.fit(x_train, y_train) ##xgboost error....?\n",
        "    y_predict = model_xgb.predict(x_valid)\n",
        "    score = lg_nrmse_one(y_valid, y_predict)\n",
        "    print(score)"
      ],
      "metadata": {
        "colab": {
          "base_uri": "https://localhost:8080/"
        },
        "id": "qQbpw--qwk00",
        "outputId": "55c18f8f-22f8-432b-cca1-903d2fc53a69"
      },
      "execution_count": 25,
      "outputs": [
        {
          "output_type": "stream",
          "name": "stdout",
          "text": [
            "[12:23:25] WARNING: /workspace/src/objective/regression_obj.cu:152: reg:linear is now deprecated in favor of reg:squarederror.\n",
            "0.02873849641625251\n"
          ]
        }
      ]
    },
    {
      "cell_type": "code",
      "source": [
        ""
      ],
      "metadata": {
        "id": "r3Do6-k4zrAu"
      },
      "execution_count": null,
      "outputs": []
    }
  ]
}