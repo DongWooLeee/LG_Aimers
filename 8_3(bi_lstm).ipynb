{
  "nbformat": 4,
  "nbformat_minor": 0,
  "metadata": {
    "colab": {
      "name": "8.3(bi-lstm).ipynb",
      "provenance": [],
      "collapsed_sections": []
    },
    "kernelspec": {
      "name": "python3",
      "display_name": "Python 3"
    },
    "language_info": {
      "name": "python"
    },
    "accelerator": "GPU",
    "gpuClass": "standard"
  },
  "cells": [
    {
      "cell_type": "code",
      "execution_count": 2,
      "metadata": {
        "id": "gdVFt6rJiy3N"
      },
      "outputs": [],
      "source": [
        "import pandas as pd\n",
        "import random\n",
        "import os\n",
        "import numpy as np\n",
        "\n",
        "from sklearn.linear_model import LinearRegression\n",
        "from sklearn.multioutput import MultiOutputRegressor\n",
        "from sklearn.metrics import mean_squared_error"
      ]
    },
    {
      "cell_type": "code",
      "source": [
        "def seed_everything(seed):\n",
        "    random.seed(seed)\n",
        "    os.environ['PYTHONHASHSEED'] = str(seed)\n",
        "    np.random.seed(seed)\n",
        "seed_everything(42) # Seed 고정"
      ],
      "metadata": {
        "id": "eUrd581ti8Od"
      },
      "execution_count": 3,
      "outputs": []
    },
    {
      "cell_type": "code",
      "source": [
        "from google.colab import drive\n",
        "drive.mount('/content/drive')"
      ],
      "metadata": {
        "colab": {
          "base_uri": "https://localhost:8080/"
        },
        "id": "Okr7b5qXC-rD",
        "outputId": "28730a37-c20b-4fd8-c205-5e78d092b298"
      },
      "execution_count": 1,
      "outputs": [
        {
          "output_type": "stream",
          "name": "stdout",
          "text": [
            "Mounted at /content/drive\n"
          ]
        }
      ]
    },
    {
      "cell_type": "code",
      "source": [
        "train_df = pd.read_csv('./drive/MyDrive/LG_Aimer/train.csv')\n",
        "\n",
        "train_x = train_df.filter(regex='X') # Input : X Featrue\n",
        "train_y = train_df.filter(regex='Y') # Output : Y Feature"
      ],
      "metadata": {
        "id": "t3GnzMWyi_bX"
      },
      "execution_count": 9,
      "outputs": []
    },
    {
      "cell_type": "code",
      "source": [
        "def nrmse(gt, preds):\n",
        "    # 각 Y Feature별 NRMSE 총합\n",
        "    # Y_01 ~ Y_08 까지 20% 가중치 부여\n",
        "    all_nrmse = []\n",
        "    for idx in range(0,13): # ignore 'ID'\n",
        "        rmse = mean_squared_error(np.array(gt)[:,idx], preds[:,idx], squared=False)\n",
        "        nrmse = rmse/np.mean(np.abs(np.array(gt)[:,idx]))\n",
        "        all_nrmse.append(nrmse)\n",
        "    score = 1.2 * np.sum(all_nrmse[:8]) + 1.0 * np.sum(all_nrmse[8:15])\n",
        "    return score"
      ],
      "metadata": {
        "id": "VlyeqOCSkb0e"
      },
      "execution_count": 5,
      "outputs": []
    },
    {
      "cell_type": "code",
      "source": [
        "test_x = pd.read_csv('./drive/MyDrive/LG_Aimer/test.csv').drop(columns=['ID'])\n",
        "\n",
        "\n",
        "drop_sensors = ['X_04','X_23','X_47','X_48','X_13','X_15','X_14','X_17','X_18','X_45']\n",
        "train_x = train_x.drop(labels = drop_sensors, axis=1, inplace=False)\n",
        "test_x = test_x.drop(labels = drop_sensors, axis=1, inplace=False)"
      ],
      "metadata": {
        "id": "sanWDCCZlPIx"
      },
      "execution_count": 10,
      "outputs": []
    },
    {
      "cell_type": "code",
      "source": [
        "from sklearn.preprocessing import StandardScaler\n",
        "\n",
        "scaler = StandardScaler()\n",
        "train_x_scaled = scaler.fit_transform(train_x)\n",
        "test_x_scaled = scaler.fit_transform(test_x)\n",
        "train_x = pd.DataFrame(train_x_scaled, index=train_x.index,columns = train_x.columns)\n",
        "test_x = pd.DataFrame(test_x_scaled, index=test_x.index, columns= train_x.columns)"
      ],
      "metadata": {
        "id": "DIe8wodslt9U"
      },
      "execution_count": 11,
      "outputs": []
    },
    {
      "cell_type": "code",
      "source": [
        ""
      ],
      "metadata": {
        "id": "Pkv5DE8Bluxc"
      },
      "execution_count": null,
      "outputs": []
    },
    {
      "cell_type": "code",
      "source": [
        "from sklearn.model_selection import train_test_split\n",
        "\n",
        "x_train, x_test, y_train, y_test = train_test_split(train_x, train_y, test_size=0.3, random_state=10)\n"
      ],
      "metadata": {
        "id": "xtBqF93PEloq"
      },
      "execution_count": 12,
      "outputs": []
    },
    {
      "cell_type": "code",
      "source": [
        "x_train"
      ],
      "metadata": {
        "colab": {
          "base_uri": "https://localhost:8080/"
        },
        "id": "1KJJsy2CFYWS",
        "outputId": "83846a2c-2f8a-4f96-daf7-aa411b4e0fde"
      },
      "execution_count": null,
      "outputs": [
        {
          "output_type": "execute_result",
          "data": {
            "text/plain": [
              "array([[[ 67.485   , 103.32    ,  69.47    , ..., 128.808712,\n",
              "         134.3037  , 125.692806],\n",
              "        [ 67.485   , 103.32    ,  66.37    , ..., 123.985599,\n",
              "         133.586453, 127.820431],\n",
              "        [ 64.425   , 103.32    ,  79.87    , ..., 131.546726,\n",
              "         149.012471, 127.745869],\n",
              "        ...,\n",
              "        [ 69.524   , 103.321   ,  64.27    , ..., 132.877315,\n",
              "         144.031117, 130.507931],\n",
              "        [ 67.485   , 103.32    ,  64.87    , ..., 125.412929,\n",
              "         135.170941, 128.05698 ],\n",
              "        [ 67.485   , 103.32    ,  61.97    , ..., 136.309299,\n",
              "         131.845906, 126.341496]]])"
            ]
          },
          "metadata": {},
          "execution_count": 43
        }
      ]
    },
    {
      "cell_type": "code",
      "source": [
        "print(x_train.shape)\n",
        "print(x_test.shape)\n",
        "print(y_train.shape)\n",
        "print(y_test.shape)"
      ],
      "metadata": {
        "colab": {
          "base_uri": "https://localhost:8080/"
        },
        "id": "EWav216nFguJ",
        "outputId": "0deb2dfc-a5be-46e7-c218-0f75ce7c3f77"
      },
      "execution_count": 13,
      "outputs": [
        {
          "output_type": "stream",
          "name": "stdout",
          "text": [
            "(27724, 46)\n",
            "(11883, 46)\n",
            "(27724, 14)\n",
            "(11883, 14)\n"
          ]
        }
      ]
    },
    {
      "cell_type": "code",
      "source": [
        "x_train = x_train.to_numpy().reshape(x_train.shape[0], x_train.shape[1],1)\n",
        "print(x_train.shape)\n",
        "x_test = x_test.to_numpy().reshape(x_test.shape[0],x_test.shape[1],1)\n",
        "print(x_test.shape)"
      ],
      "metadata": {
        "colab": {
          "base_uri": "https://localhost:8080/"
        },
        "id": "7bzN5jieGm_2",
        "outputId": "60ea43f3-6a34-49ec-ef9b-c283961d42cb"
      },
      "execution_count": 14,
      "outputs": [
        {
          "output_type": "stream",
          "name": "stdout",
          "text": [
            "(27724, 46, 1)\n",
            "(11883, 46, 1)\n"
          ]
        }
      ]
    },
    {
      "cell_type": "code",
      "source": [
        "from keras.models import Sequential\n",
        "from keras.layers import Dense, LSTM, Input, Bidirectional,TimeDistributed\n",
        "from numpy import array\n",
        "from numpy.random import uniform\n",
        "from numpy import hstack\n",
        "import matplotlib.pyplot as plt\n",
        "from sklearn.model_selection import train_test_split\n",
        "from sklearn.metrics import mean_squared_error\n",
        "from keras.models import Model\n",
        "from keras.callbacks import EarlyStopping\n",
        "from sklearn.model_selection import RepeatedKFold\n",
        "\n",
        "input_layer = Input(shape=(46,1))\n",
        "lstm_1 = LSTM(64, return_sequences=True)(input_layer)\n",
        "lstm_2 = Bidirectional(\n",
        "    LSTM(64),\n",
        "    merge_mode='concat'\n",
        ")(lstm_1)\n",
        "pred = Dense(14)(lstm_2)\n",
        "model = Model(inputs=input_layer, outputs=pred)\n",
        "model.compile(optimizer = 'adam', loss = 'mean_squared_error')\n",
        "model.summary()\n",
        "\n",
        "# model.fit(X_train, Y_train, epochs = 20, batch_size = 32)\n",
        "\n",
        "early_stopping = EarlyStopping(monitor = 'val_loss', mode = 'min', patience = 10, verbose = 1)\n",
        "hist = model.fit(x_train, y_train, epochs = 1000, batch_size = 20, validation_data = (x_test, y_test),callbacks = [early_stopping])"
      ],
      "metadata": {
        "colab": {
          "base_uri": "https://localhost:8080/"
        },
        "id": "6njl5-3qEGNQ",
        "outputId": "649c11b1-c02b-445c-eeef-b7045d473602"
      },
      "execution_count": 20,
      "outputs": [
        {
          "output_type": "stream",
          "name": "stdout",
          "text": [
            "Model: \"model_3\"\n",
            "_________________________________________________________________\n",
            " Layer (type)                Output Shape              Param #   \n",
            "=================================================================\n",
            " input_5 (InputLayer)        [(None, 46, 1)]           0         \n",
            "                                                                 \n",
            " lstm_6 (LSTM)               (None, 46, 64)            16896     \n",
            "                                                                 \n",
            " bidirectional_4 (Bidirectio  (None, 128)              66048     \n",
            " nal)                                                            \n",
            "                                                                 \n",
            " dense_3 (Dense)             (None, 14)                1806      \n",
            "                                                                 \n",
            "=================================================================\n",
            "Total params: 84,750\n",
            "Trainable params: 84,750\n",
            "Non-trainable params: 0\n",
            "_________________________________________________________________\n",
            "Epoch 1/1000\n",
            "1387/1387 [==============================] - 24s 14ms/step - loss: 19.2627 - val_loss: 1.5681\n",
            "Epoch 2/1000\n",
            "1387/1387 [==============================] - 20s 14ms/step - loss: 1.5325 - val_loss: 1.5663\n",
            "Epoch 3/1000\n",
            "1387/1387 [==============================] - 19s 14ms/step - loss: 1.5352 - val_loss: 1.5731\n",
            "Epoch 4/1000\n",
            "1387/1387 [==============================] - 19s 13ms/step - loss: 1.5358 - val_loss: 1.5731\n",
            "Epoch 5/1000\n",
            "1387/1387 [==============================] - 20s 15ms/step - loss: 1.5398 - val_loss: 1.5719\n",
            "Epoch 6/1000\n",
            "1387/1387 [==============================] - 19s 14ms/step - loss: 1.5398 - val_loss: 1.5712\n",
            "Epoch 7/1000\n",
            "1387/1387 [==============================] - 23s 17ms/step - loss: 1.5380 - val_loss: 1.5901\n",
            "Epoch 8/1000\n",
            "1387/1387 [==============================] - 19s 13ms/step - loss: 1.5391 - val_loss: 1.5716\n",
            "Epoch 9/1000\n",
            "1387/1387 [==============================] - 19s 13ms/step - loss: 1.5392 - val_loss: 1.5699\n",
            "Epoch 10/1000\n",
            "1387/1387 [==============================] - 19s 14ms/step - loss: 1.5387 - val_loss: 1.5744\n",
            "Epoch 11/1000\n",
            "1387/1387 [==============================] - 19s 14ms/step - loss: 1.5381 - val_loss: 1.5743\n",
            "Epoch 12/1000\n",
            "1387/1387 [==============================] - 19s 14ms/step - loss: 1.5385 - val_loss: 1.5829\n",
            "Epoch 12: early stopping\n"
          ]
        }
      ]
    },
    {
      "cell_type": "code",
      "source": [
        "preds = model.predict(x_test)\n",
        "\n",
        "lg_score = nrmse(y_test, preds)\n",
        "print('NRMSE :', lg_score)"
      ],
      "metadata": {
        "colab": {
          "base_uri": "https://localhost:8080/"
        },
        "id": "EglxxjA_kBLf",
        "outputId": "19e94584-bb8c-4bea-ab4c-2bf163382a39"
      },
      "execution_count": 21,
      "outputs": [
        {
          "output_type": "stream",
          "name": "stdout",
          "text": [
            "NRMSE : 2.025684297792766\n"
          ]
        }
      ]
    },
    {
      "cell_type": "code",
      "source": [
        "test_x = pd.read_csv('./drive/MyDrive/LG_Aimer/test.csv').drop(columns=['ID'])\n"
      ],
      "metadata": {
        "id": "w0gbchf2SQfw"
      },
      "execution_count": null,
      "outputs": []
    },
    {
      "cell_type": "code",
      "source": [
        "preds = model.predict(test_x)"
      ],
      "metadata": {
        "id": "gi3oesbtSVtk"
      },
      "execution_count": null,
      "outputs": []
    },
    {
      "cell_type": "code",
      "source": [
        "submit = pd.read_csv('./drive/MyDrive/LG_Aimer/sample_submission.csv')\n",
        "for idx, col in enumerate(submit.columns):\n",
        "    if col=='ID':\n",
        "        continue\n",
        "    submit[col] = preds[:,idx-1]\n",
        "print('Done.')\n",
        "submit.to_csv('./submit.csv', index=False)"
      ],
      "metadata": {
        "colab": {
          "base_uri": "https://localhost:8080/"
        },
        "id": "HMzjJwijjQxV",
        "outputId": "d5abe74f-fdf8-4405-ab6c-b389b394b098"
      },
      "execution_count": null,
      "outputs": [
        {
          "output_type": "stream",
          "name": "stdout",
          "text": [
            "Done.\n"
          ]
        }
      ]
    },
    {
      "cell_type": "code",
      "source": [
        ""
      ],
      "metadata": {
        "id": "33_mSAw3SqtX"
      },
      "execution_count": null,
      "outputs": []
    }
  ]
}