{
  "nbformat": 4,
  "nbformat_minor": 0,
  "metadata": {
    "colab": {
      "name": "분류+회귀.ipynb",
      "provenance": [],
      "authorship_tag": "ABX9TyOGTEg1ZNBGiQ3FyQMhaIij",
      "include_colab_link": true
    },
    "kernelspec": {
      "name": "python3",
      "display_name": "Python 3"
    },
    "language_info": {
      "name": "python"
    },
    "accelerator": "GPU",
    "gpuClass": "standard"
  },
  "cells": [
    {
      "cell_type": "markdown",
      "metadata": {
        "id": "view-in-github",
        "colab_type": "text"
      },
      "source": [
        "<a href=\"https://colab.research.google.com/github/dangdang2222/LG_Aimers/blob/main/%EB%B6%84%EB%A5%98%2B%ED%9A%8C%EA%B7%80.ipynb\" target=\"_parent\"><img src=\"https://colab.research.google.com/assets/colab-badge.svg\" alt=\"Open In Colab\"/></a>"
      ]
    },
    {
      "cell_type": "code",
      "execution_count": 1,
      "metadata": {
        "colab": {
          "base_uri": "https://localhost:8080/"
        },
        "id": "x6VQQMgCijRI",
        "outputId": "832aa406-484a-4605-e8ff-ca6c76d74759"
      },
      "outputs": [
        {
          "output_type": "stream",
          "name": "stdout",
          "text": [
            "Mounted at /content/drive\n"
          ]
        }
      ],
      "source": [
        "from google.colab import drive\n",
        "drive.mount('/content/drive')"
      ]
    },
    {
      "cell_type": "code",
      "source": [
        "import numpy as np\n",
        "import pandas as pd\n",
        "import seaborn as sns\n",
        "import matplotlib.pyplot as plt\n",
        "train = pd.read_csv('./drive/MyDrive/LG_Aimer/train.csv')\n",
        "test = pd.read_csv('./drive/MyDrive/LG_Aimer/test.csv')\n",
        "meta_x_features= pd.read_csv('./drive/MyDrive/LG_Aimer/meta/x_feature_info.csv')\n",
        "meta_y_features= pd.read_csv('./drive/MyDrive/LG_Aimer/meta/y_feature_info.csv')\n",
        "\n",
        "from sklearn.linear_model import LinearRegression\n",
        "from sklearn.multioutput import MultiOutputRegressor\n",
        "import random\n",
        "import os\n",
        "def seed_everything(seed):\n",
        "    random.seed(seed)\n",
        "    os.environ['PYTHONHASHSEED']=str(seed)\n",
        "    np.random.seed(seed)\n",
        "seed_everything(42)\n",
        "\n",
        "train_df = pd.read_csv('./drive/MyDrive/LG_Aimer/train.csv')\n",
        "drop_sensors = ['ID','X_04', 'X_23', 'X_47', 'X_48']\n",
        "train_df= train_df.drop(labels = drop_sensors,axis=1, inplace=False)\n",
        "train_x = train_df.filter(regex='X') # Input : X Featrue\n",
        "train_y = train_df.filter(regex='Y') # Output : Y Feature"
      ],
      "metadata": {
        "id": "ab99_EfHi1n4"
      },
      "execution_count": 160,
      "outputs": []
    },
    {
      "cell_type": "code",
      "source": [
        "df = pd.read_csv('./drive/MyDrive/LG_Aimer/train.csv')\n",
        "df1 = df.copy()\n",
        "df1=df[(df['Y_01']>=0.2)&(df['Y_01']<2.0)&(df['Y_02']>=0.2)\n",
        "&(df['Y_02']<=2.1)&(df['Y_02']>=0.2)\n",
        "&(df['Y_03']>=0.2)&(df['Y_03']<=2.1)\n",
        "&(df['Y_04']<=19)&(df['Y_04']>=7)&(df['Y_05']<=36.5)&(df['Y_05']>=22)\n",
        "&(df['Y_06']>=-19.2)&(df['Y_06']<=19)&(df['Y_07']>=2.4)&(df['Y_07']<=4)\n",
        "&(df['Y_08']>=-29.2)&(df['Y_08']<=-24)&(df['Y_09']>=-29.2)&(df['Y_09']<=-24)\n",
        "&(df['Y_10']>=-30.6)&(df['Y_10']<=-20)&(df['Y_11']>=19.6)&(df['Y_11']<=26.6)\n",
        "&(df['Y_12']>=-29.2)&(df['Y_12']<=-24)&(df['Y_13']>=-29.2)&(df['Y_13']<=-24)\n",
        "&(df['Y_14']>=-29.2)&(df['Y_14']<=-24)]\n",
        "\n",
        "for idx in range(0,39607):\n",
        "    if idx in df1.index:\n",
        "        df.loc[idx,'pass']=1\n",
        "    else:\n",
        "        df.loc[idx,'pass']=0"
      ],
      "metadata": {
        "id": "9sUUQl72i7in"
      },
      "execution_count": 161,
      "outputs": []
    },
    {
      "cell_type": "code",
      "source": [
        "from sklearn.model_selection import train_test_split\n",
        "\n",
        "drop_sensors = ['ID','X_04', 'X_23', 'X_47', 'X_48','X_14','X_15','X_16','X_17','X_18','Y_01', 'Y_02', 'Y_03', 'Y_04', 'Y_05', 'Y_06', 'Y_07', 'Y_08', 'Y_09',\n",
        "       'Y_10', 'Y_11', 'Y_12', 'Y_13', 'Y_14']\n",
        "df= df.drop(labels = drop_sensors,axis=1, inplace=False)\n",
        "label = df['pass']\n",
        "df= df.drop(labels = 'pass',axis=1, inplace=False)\n",
        "print(len(df.columns))\n",
        "x_train, x_test, y_train, y_test = train_test_split(df, label, test_size=0.3, random_state=10)"
      ],
      "metadata": {
        "colab": {
          "base_uri": "https://localhost:8080/"
        },
        "id": "sIVwaZ1yjFyF",
        "outputId": "f95e4d4f-9a56-4c06-cb40-8a1ffbbc4cbd"
      },
      "execution_count": 162,
      "outputs": [
        {
          "output_type": "stream",
          "name": "stdout",
          "text": [
            "47\n"
          ]
        }
      ]
    },
    {
      "cell_type": "code",
      "source": [
        "x_train = x_train.to_numpy().reshape(x_train.shape[0], x_train.shape[1],1)\n",
        "print(x_train.shape)\n",
        "x_test = x_test.to_numpy().reshape(x_test.shape[0],x_test.shape[1],1)\n",
        "print(x_test.shape)"
      ],
      "metadata": {
        "colab": {
          "base_uri": "https://localhost:8080/"
        },
        "id": "oBpa_7H1tQRt",
        "outputId": "7a6df004-cbd8-4620-9a3c-5bd1d77822c7"
      },
      "execution_count": 163,
      "outputs": [
        {
          "output_type": "stream",
          "name": "stdout",
          "text": [
            "(27724, 47, 1)\n",
            "(11883, 47, 1)\n"
          ]
        }
      ]
    },
    {
      "cell_type": "markdown",
      "source": [
        "## DNN 분류기"
      ],
      "metadata": {
        "id": "Gvsh38KCjj2R"
      }
    },
    {
      "cell_type": "code",
      "source": [
        "from keras.models import Sequential\n",
        "from keras.layers import Dense, LSTM, Input, Bidirectional,TimeDistributed, Flatten\n",
        "from keras.layers.convolutional import Conv1D, MaxPooling1D\n",
        "from numpy import array\n",
        "from numpy.random import uniform\n",
        "from numpy import hstack\n",
        "import matplotlib.pyplot as plt\n",
        "from sklearn.model_selection import train_test_split\n",
        "from sklearn.metrics import mean_squared_error\n",
        "from keras.models import Model\n",
        "from keras.callbacks import EarlyStopping\n",
        "from sklearn.model_selection import RepeatedKFold\n",
        "from tensorflow.keras import optimizers\n",
        "\n",
        "model = Sequential()\n",
        "model.add(Input(shape=(47,1)))\n",
        "model.add(Dense(256,activation='relu'))\n",
        "model.add(Dense(128, activation='relu'))\n",
        "model.add(Dense(64,activation='relu'))\n",
        "model.add(Flatten())\n",
        "model.add(Dense(128,activation='relu'))\n",
        "model.add(Dense(64,activation='relu'))\n",
        "model.add(Dense(1, activation='sigmoid'))\n",
        "\n",
        "model.compile(optimizer=optimizers.RMSprop(learning_rate=0.001),loss='binary_crossentropy',metrics=['accuracy'])\n",
        "model.summary()"
      ],
      "metadata": {
        "colab": {
          "base_uri": "https://localhost:8080/"
        },
        "id": "__M0dVRKjXEq",
        "outputId": "d1df6575-6af7-4700-f48c-b16932b9be32"
      },
      "execution_count": 21,
      "outputs": [
        {
          "output_type": "stream",
          "name": "stdout",
          "text": [
            "Model: \"sequential_1\"\n",
            "_________________________________________________________________\n",
            " Layer (type)                Output Shape              Param #   \n",
            "=================================================================\n",
            " dense_6 (Dense)             (None, 47, 256)           512       \n",
            "                                                                 \n",
            " dense_7 (Dense)             (None, 47, 128)           32896     \n",
            "                                                                 \n",
            " dense_8 (Dense)             (None, 47, 64)            8256      \n",
            "                                                                 \n",
            " flatten_1 (Flatten)         (None, 3008)              0         \n",
            "                                                                 \n",
            " dense_9 (Dense)             (None, 128)               385152    \n",
            "                                                                 \n",
            " dense_10 (Dense)            (None, 64)                8256      \n",
            "                                                                 \n",
            " dense_11 (Dense)            (None, 1)                 65        \n",
            "                                                                 \n",
            "=================================================================\n",
            "Total params: 435,137\n",
            "Trainable params: 435,137\n",
            "Non-trainable params: 0\n",
            "_________________________________________________________________\n"
          ]
        }
      ]
    },
    {
      "cell_type": "code",
      "source": [
        "early_stopping = EarlyStopping(monitor = 'val_loss', mode = 'min', patience = 30, verbose = 1)\n",
        "hist = model.fit(x_train, y_train, epochs = 1000, batch_size = 20, validation_data = (x_test, y_test),callbacks = [early_stopping])"
      ],
      "metadata": {
        "id": "ZRh5vKVVo1he"
      },
      "execution_count": null,
      "outputs": []
    },
    {
      "cell_type": "code",
      "source": [
        "preds = model.predict(x_test)"
      ],
      "metadata": {
        "id": "0PBA4mWepaPX"
      },
      "execution_count": 164,
      "outputs": []
    },
    {
      "cell_type": "code",
      "source": [
        "predss = []\n",
        "\n",
        "count = 0 \n",
        "for i in preds:\n",
        "  if i < 0.907: #임계값 바꾸기\n",
        "    count+=1\n",
        "    predss.append(0)\n",
        "  else:\n",
        "    predss.append(1)\n",
        "print(count)"
      ],
      "metadata": {
        "colab": {
          "base_uri": "https://localhost:8080/"
        },
        "id": "m6Ye_q3Tw4HK",
        "outputId": "cff25ee9-cd6d-4fae-8472-9213511040cc"
      },
      "execution_count": 165,
      "outputs": [
        {
          "output_type": "stream",
          "name": "stdout",
          "text": [
            "1162\n"
          ]
        }
      ]
    },
    {
      "cell_type": "code",
      "source": [
        "x_test.shape"
      ],
      "metadata": {
        "id": "yjWhQrucOEDK",
        "outputId": "586f7467-9a8a-4fbd-8ec5-911379dd71cd",
        "colab": {
          "base_uri": "https://localhost:8080/"
        }
      },
      "execution_count": 166,
      "outputs": [
        {
          "output_type": "execute_result",
          "data": {
            "text/plain": [
              "(11883, 47, 1)"
            ]
          },
          "metadata": {},
          "execution_count": 166
        }
      ]
    },
    {
      "cell_type": "code",
      "source": [
        "from sklearn.metrics import confusion_matrix\n",
        "\n",
        "cm = confusion_matrix(y_test, predss)\n",
        "print(cm)"
      ],
      "metadata": {
        "colab": {
          "base_uri": "https://localhost:8080/"
        },
        "id": "-oP5CypfzvV3",
        "outputId": "330e0471-fe57-4d82-d08b-26567aa2bb83"
      },
      "execution_count": 167,
      "outputs": [
        {
          "output_type": "stream",
          "name": "stdout",
          "text": [
            "[[ 119 1040]\n",
            " [1043 9681]]\n"
          ]
        }
      ]
    },
    {
      "cell_type": "code",
      "source": [
        "test = pd.read_csv('./drive/MyDrive/LG_Aimer/test.csv')\n",
        "drop_sensors = ['ID','X_04', 'X_23', 'X_47', 'X_48','X_14','X_15','X_16','X_17','X_18']\n",
        "test = test.drop(labels = drop_sensors,axis=1, inplace=False)\n",
        "test = test.to_numpy().reshape(test.shape[0], test.shape[1],1)\n",
        "print(test.shape)"
      ],
      "metadata": {
        "id": "x2eUQ7f15V6L",
        "outputId": "16eba8fa-e0e2-463c-b02a-fa1bf7696212",
        "colab": {
          "base_uri": "https://localhost:8080/"
        }
      },
      "execution_count": 168,
      "outputs": [
        {
          "output_type": "stream",
          "name": "stdout",
          "text": [
            "(39608, 47, 1)\n"
          ]
        }
      ]
    },
    {
      "cell_type": "code",
      "source": [
        "preds = model.predict(test)"
      ],
      "metadata": {
        "id": "deUwuS3GDv2K"
      },
      "execution_count": 169,
      "outputs": []
    },
    {
      "cell_type": "code",
      "source": [
        "predss = []\n",
        "\n",
        "count = 0 \n",
        "for i in preds:\n",
        "  if i < 0.907: #임계값 바꾸기\n",
        "    count+=1\n",
        "    predss.append(0)\n",
        "  else:\n",
        "    predss.append(1)\n",
        "print(count)"
      ],
      "metadata": {
        "id": "T1_WTNxpDweC",
        "outputId": "7dd2bd47-de0d-4d7a-f955-242fb889e955",
        "colab": {
          "base_uri": "https://localhost:8080/"
        }
      },
      "execution_count": 170,
      "outputs": [
        {
          "output_type": "stream",
          "name": "stdout",
          "text": [
            "4060\n"
          ]
        }
      ]
    },
    {
      "cell_type": "markdown",
      "source": [
        "## pass 회귀 모델\n",
        "\n"
      ],
      "metadata": {
        "id": "R5U4cLp8EblQ"
      }
    },
    {
      "cell_type": "code",
      "source": [
        "train_x = train.filter(regex='X') # Input : X Feature\n",
        "train_y = train.filter(regex='Y') # Input : y Feature\n",
        "df=train_y\n",
        "df1=df[(df['Y_01']>=0.2)&(df['Y_01']<2.0)&(df['Y_02']>=0.2)\n",
        "&(df['Y_02']<=2.1)&(df['Y_02']>=0.2)\n",
        "&(df['Y_03']>=0.2)&(df['Y_03']<=2.1)\n",
        "&(df['Y_04']<=19)&(df['Y_04']>=7)&(df['Y_05']<=36.5)&(df['Y_05']>=22)\n",
        "&(df['Y_06']>=-19.2)&(df['Y_06']<=19)&(df['Y_07']>=2.4)&(df['Y_07']<=4)\n",
        "&(df['Y_08']>=-29.2)&(df['Y_08']<=-24)&(df['Y_09']>=-29.2)&(df['Y_09']<=-24)\n",
        "&(df['Y_10']>=-30.6)&(df['Y_10']<=-20)&(df['Y_11']>=19.6)&(df['Y_11']<=26.6)\n",
        "&(df['Y_12']>=-29.2)&(df['Y_12']<=-24)&(df['Y_13']>=-29.2)&(df['Y_13']<=-24)\n",
        "&(df['Y_14']>=-29.2)&(df['Y_14']<=-24)]\n",
        "len(df1.index)\n",
        "\n",
        "\n",
        "for idx in range(0,39607):\n",
        "    if idx in df1.index:\n",
        "        train_x.loc[idx,'X_60']=1\n",
        "    else:\n",
        "        train_x.loc[idx,'X_60']=0\n",
        "train_x['X_60'].value_counts()\n",
        "\n",
        "df1 = train_x.query('X_60 ==1')\n",
        "df2= train_x.query('X_60==0')\n",
        "\n",
        "df1_target= train_y.loc[df1.index,:]\n",
        "df2_target = train_y.drop(index=df1.index)"
      ],
      "metadata": {
        "id": "kRWzXY_UEaVu",
        "outputId": "99d46b4e-826c-4b0c-d346-a38655f2e400",
        "colab": {
          "base_uri": "https://localhost:8080/"
        }
      },
      "execution_count": 88,
      "outputs": [
        {
          "output_type": "stream",
          "name": "stderr",
          "text": [
            "/usr/local/lib/python3.7/dist-packages/pandas/core/indexing.py:1684: SettingWithCopyWarning: \n",
            "A value is trying to be set on a copy of a slice from a DataFrame.\n",
            "Try using .loc[row_indexer,col_indexer] = value instead\n",
            "\n",
            "See the caveats in the documentation: https://pandas.pydata.org/pandas-docs/stable/user_guide/indexing.html#returning-a-view-versus-a-copy\n",
            "  self.obj[key] = infer_fill_value(value)\n",
            "/usr/local/lib/python3.7/dist-packages/pandas/core/indexing.py:1817: SettingWithCopyWarning: \n",
            "A value is trying to be set on a copy of a slice from a DataFrame.\n",
            "Try using .loc[row_indexer,col_indexer] = value instead\n",
            "\n",
            "See the caveats in the documentation: https://pandas.pydata.org/pandas-docs/stable/user_guide/indexing.html#returning-a-view-versus-a-copy\n",
            "  self._setitem_single_column(loc, value, pi)\n"
          ]
        }
      ]
    },
    {
      "cell_type": "code",
      "source": [
        "drop_x_cols = ['X_04', 'X_23', 'X_47', 'X_48','X_14','X_15','X_16','X_17','X_18','X_60']\n",
        "df1=df1.drop(columns=drop_x_cols)\n",
        "df2=df2.drop(columns=drop_x_cols)"
      ],
      "metadata": {
        "id": "WbBFX_wsEX_F"
      },
      "execution_count": 89,
      "outputs": []
    },
    {
      "cell_type": "code",
      "source": [
        "from sklearn.metrics import mean_squared_error\n",
        "def nrmse(gt, preds):\n",
        "    # 각 Y Feature별 NRMSE 총합\n",
        "    # Y_01 ~ Y_08 까지 20% 가중치 부여\n",
        "    all_nrmse = []\n",
        "    for idx in range(0,13): # ignore 'ID'\n",
        "        rmse = mean_squared_error(np.array(gt)[:,idx], preds[:,idx], squared=False)\n",
        "        nrmse = rmse/np.mean(np.abs(np.array(gt)[:,idx]))\n",
        "        all_nrmse.append(nrmse)\n",
        "    score = 1.2 * np.sum(all_nrmse[:8]) + 1.0 * np.sum(all_nrmse[8:15])\n",
        "    return score"
      ],
      "metadata": {
        "id": "Thtea6WSFFCV"
      },
      "execution_count": 90,
      "outputs": []
    },
    {
      "cell_type": "code",
      "source": [
        "\n",
        "from sklearn.model_selection import train_test_split\n",
        "x_train_pass, x_val_pass, y_train_pass, y_val_pass = train_test_split(df1, df1_target, \n",
        "test_size=0.2, random_state=42)\n",
        "\n",
        "from sklearn.preprocessing import StandardScaler\n",
        "\n",
        "import xgboost as xgb\n",
        "xgb_1 = MultiOutputRegressor(xgb.XGBRegressor(n_estimators=100, learning_rate=0.08, gamma = 1, subsample=0.75, colsample_bytree = 1, max_depth=7)).fit(x_train_pass, y_train_pass)\n",
        "preds_1 = xgb_1.predict(x_val_pass)\n",
        "score1=nrmse(y_val_pass,preds_1)"
      ],
      "metadata": {
        "id": "jhp6UPR2Ftss",
        "outputId": "7f701f76-a78b-4067-d2c8-e31bb1698400",
        "colab": {
          "base_uri": "https://localhost:8080/"
        }
      },
      "execution_count": 91,
      "outputs": [
        {
          "output_type": "stream",
          "name": "stdout",
          "text": [
            "[12:47:39] WARNING: /workspace/src/objective/regression_obj.cu:152: reg:linear is now deprecated in favor of reg:squarederror.\n",
            "[12:47:54] WARNING: /workspace/src/objective/regression_obj.cu:152: reg:linear is now deprecated in favor of reg:squarederror.\n",
            "[12:48:10] WARNING: /workspace/src/objective/regression_obj.cu:152: reg:linear is now deprecated in favor of reg:squarederror.\n",
            "[12:48:22] WARNING: /workspace/src/objective/regression_obj.cu:152: reg:linear is now deprecated in favor of reg:squarederror.\n",
            "[12:48:33] WARNING: /workspace/src/objective/regression_obj.cu:152: reg:linear is now deprecated in favor of reg:squarederror.\n",
            "[12:48:43] WARNING: /workspace/src/objective/regression_obj.cu:152: reg:linear is now deprecated in favor of reg:squarederror.\n",
            "[12:48:55] WARNING: /workspace/src/objective/regression_obj.cu:152: reg:linear is now deprecated in favor of reg:squarederror.\n",
            "[12:49:09] WARNING: /workspace/src/objective/regression_obj.cu:152: reg:linear is now deprecated in favor of reg:squarederror.\n",
            "[12:49:26] WARNING: /workspace/src/objective/regression_obj.cu:152: reg:linear is now deprecated in favor of reg:squarederror.\n",
            "[12:49:38] WARNING: /workspace/src/objective/regression_obj.cu:152: reg:linear is now deprecated in favor of reg:squarederror.\n",
            "[12:49:54] WARNING: /workspace/src/objective/regression_obj.cu:152: reg:linear is now deprecated in favor of reg:squarederror.\n",
            "[12:50:10] WARNING: /workspace/src/objective/regression_obj.cu:152: reg:linear is now deprecated in favor of reg:squarederror.\n",
            "[12:50:24] WARNING: /workspace/src/objective/regression_obj.cu:152: reg:linear is now deprecated in favor of reg:squarederror.\n",
            "[12:50:37] WARNING: /workspace/src/objective/regression_obj.cu:152: reg:linear is now deprecated in favor of reg:squarederror.\n"
          ]
        }
      ]
    },
    {
      "cell_type": "code",
      "source": [
        "score1"
      ],
      "metadata": {
        "id": "iAXJlzfuGI_T",
        "outputId": "8886cd60-cc75-4142-b9f4-c4ed61e84ada",
        "colab": {
          "base_uri": "https://localhost:8080/"
        }
      },
      "execution_count": 92,
      "outputs": [
        {
          "output_type": "execute_result",
          "data": {
            "text/plain": [
              "1.674105697989075"
            ]
          },
          "metadata": {},
          "execution_count": 92
        }
      ]
    },
    {
      "cell_type": "markdown",
      "source": [
        "## 전체 회귀 모델"
      ],
      "metadata": {
        "id": "uTpi4xlMGNVd"
      }
    },
    {
      "cell_type": "code",
      "source": [
        "train_df = pd.read_csv('./drive/MyDrive/LG_Aimer/train.csv')\n",
        "train_x = train_df.filter(regex='X') # Input : X Featrue\n",
        "train_y = train_df.filter(regex='Y') # Output : Y Feature\n",
        "\n",
        "drop_x_cols = ['X_04', 'X_23', 'X_47', 'X_48','X_14','X_15','X_16','X_17','X_18']\n",
        "train_x=train_x.drop(columns=drop_x_cols)"
      ],
      "metadata": {
        "id": "heWfK8_OGQ9g"
      },
      "execution_count": 95,
      "outputs": []
    },
    {
      "cell_type": "code",
      "source": [
        "from sklearn.model_selection import train_test_split\n",
        "x_train, x_val, y_train, y_val = train_test_split(train_x, train_y, \n",
        "test_size=0.2, random_state=42)\n",
        "\n",
        "import xgboost as xgb\n",
        "xgb_2 = MultiOutputRegressor(xgb.XGBRegressor(n_estimators=100, learning_rate=0.08, gamma = 1, subsample=0.75, colsample_bytree = 1, max_depth=7)).fit(x_train, y_train)\n",
        "preds_2 = xgb_2.predict(x_val)\n",
        "score2=nrmse(y_val,preds_2)"
      ],
      "metadata": {
        "id": "oFkzfER4Gmjx",
        "outputId": "46b9e156-c2c7-4aaa-db7f-f6fcd0939a43",
        "colab": {
          "base_uri": "https://localhost:8080/"
        }
      },
      "execution_count": 97,
      "outputs": [
        {
          "output_type": "stream",
          "name": "stdout",
          "text": [
            "[12:52:06] WARNING: /workspace/src/objective/regression_obj.cu:152: reg:linear is now deprecated in favor of reg:squarederror.\n",
            "[12:52:19] WARNING: /workspace/src/objective/regression_obj.cu:152: reg:linear is now deprecated in favor of reg:squarederror.\n",
            "[12:52:33] WARNING: /workspace/src/objective/regression_obj.cu:152: reg:linear is now deprecated in favor of reg:squarederror.\n",
            "[12:52:48] WARNING: /workspace/src/objective/regression_obj.cu:152: reg:linear is now deprecated in favor of reg:squarederror.\n",
            "[12:53:02] WARNING: /workspace/src/objective/regression_obj.cu:152: reg:linear is now deprecated in favor of reg:squarederror.\n",
            "[12:53:15] WARNING: /workspace/src/objective/regression_obj.cu:152: reg:linear is now deprecated in favor of reg:squarederror.\n",
            "[12:53:26] WARNING: /workspace/src/objective/regression_obj.cu:152: reg:linear is now deprecated in favor of reg:squarederror.\n",
            "[12:53:38] WARNING: /workspace/src/objective/regression_obj.cu:152: reg:linear is now deprecated in favor of reg:squarederror.\n",
            "[12:53:50] WARNING: /workspace/src/objective/regression_obj.cu:152: reg:linear is now deprecated in favor of reg:squarederror.\n",
            "[12:54:02] WARNING: /workspace/src/objective/regression_obj.cu:152: reg:linear is now deprecated in favor of reg:squarederror.\n",
            "[12:54:16] WARNING: /workspace/src/objective/regression_obj.cu:152: reg:linear is now deprecated in favor of reg:squarederror.\n",
            "[12:54:26] WARNING: /workspace/src/objective/regression_obj.cu:152: reg:linear is now deprecated in favor of reg:squarederror.\n",
            "[12:54:36] WARNING: /workspace/src/objective/regression_obj.cu:152: reg:linear is now deprecated in favor of reg:squarederror.\n",
            "[12:54:46] WARNING: /workspace/src/objective/regression_obj.cu:152: reg:linear is now deprecated in favor of reg:squarederror.\n"
          ]
        }
      ]
    },
    {
      "cell_type": "code",
      "source": [
        "score2"
      ],
      "metadata": {
        "id": "6oI8FRMOGxwq",
        "outputId": "6de51ecf-7b54-47a2-d891-c8adcb105ef1",
        "colab": {
          "base_uri": "https://localhost:8080/"
        }
      },
      "execution_count": 98,
      "outputs": [
        {
          "output_type": "execute_result",
          "data": {
            "text/plain": [
              "1.9193847169763514"
            ]
          },
          "metadata": {},
          "execution_count": 98
        }
      ]
    },
    {
      "cell_type": "markdown",
      "source": [
        "## testing"
      ],
      "metadata": {
        "id": "J_irohsvGl6f"
      }
    },
    {
      "cell_type": "code",
      "source": [
        "test = pd.read_csv('./drive/MyDrive/LG_Aimer/test.csv')\n",
        "drop_sensors = ['ID','X_04', 'X_23', 'X_47', 'X_48','X_14','X_15','X_16','X_17','X_18']\n",
        "test = test.drop(labels = drop_sensors,axis=1, inplace=False)"
      ],
      "metadata": {
        "id": "MoBQb25nHPDY"
      },
      "execution_count": 171,
      "outputs": []
    },
    {
      "cell_type": "code",
      "source": [
        "test['pass'] = predss"
      ],
      "metadata": {
        "id": "5qYFSqz6OmOj"
      },
      "execution_count": 172,
      "outputs": []
    },
    {
      "cell_type": "code",
      "source": [
        "test"
      ],
      "metadata": {
        "id": "y11wEudgTqXu",
        "outputId": "b984bb5d-346b-448a-c565-fe4874c64e10",
        "colab": {
          "base_uri": "https://localhost:8080/",
          "height": 424
        }
      },
      "execution_count": 173,
      "outputs": [
        {
          "output_type": "execute_result",
          "data": {
            "text/plain": [
              "         X_01     X_02   X_03     X_05    X_06   X_07    X_08    X_09  X_10  \\\n",
              "0      68.504  103.321  76.67  101.867  73.963  30.51   63.57  239.80   0.0   \n",
              "1      67.485  103.320  69.37  101.992  67.845  28.03  116.99  189.23   0.0   \n",
              "2      69.524  103.320  68.97  101.884  77.022  29.65  205.68  214.93   0.0   \n",
              "3      69.524  103.320  65.87  101.866  73.963  28.15  103.38  180.80   0.0   \n",
              "4      73.603  103.321  66.67  101.891  74.983  29.92   71.20  231.93   0.0   \n",
              "...       ...      ...    ...      ...     ...    ...     ...     ...   ...   \n",
              "39603  68.504  103.320  63.97  103.157  68.864  29.49  116.35  284.16   0.0   \n",
              "39604  68.504  103.320  61.37  103.137  68.864  32.29  116.28  272.41   0.0   \n",
              "39605  69.524  103.320  63.67  103.149  69.884  30.00  113.05  295.54   0.0   \n",
              "39606  67.485  103.321  61.77  103.148  67.845  32.05  115.05  267.26   0.0   \n",
              "39607  71.563  103.320  63.07  103.158  71.923  31.14  102.22  215.85   0.0   \n",
              "\n",
              "       X_11  ...  X_46      X_49        X_50        X_51        X_52  \\\n",
              "0       0.0  ...  1469  17227.63  138.130429  129.460682  141.506570   \n",
              "1       0.0  ...  1462  17134.53  136.148839  128.266277  145.911745   \n",
              "2       0.0  ...  1469  14860.83  120.447446  119.988804  132.099908   \n",
              "3       0.0  ...  1469  15252.53  133.994695  125.069180  147.507669   \n",
              "4       0.0  ...  1469  10752.23  137.918202  135.116192  138.600473   \n",
              "...     ...  ...   ...       ...         ...         ...         ...   \n",
              "39603   0.0  ...  1469  62123.53  127.741246  126.494312  139.119905   \n",
              "39604   0.0  ...  1469  61844.13  127.767377  124.062809  138.238664   \n",
              "39605   0.0  ...  1469  60277.53  128.593640  124.774037  138.659624   \n",
              "39606   0.0  ...  1469  60236.73  121.110646  125.471699  134.989984   \n",
              "39607   0.0  ...  1469  60680.73  134.263593  129.765515  139.681833   \n",
              "\n",
              "             X_53        X_54        X_55        X_56  pass  \n",
              "0      133.427229  129.711498  133.138096  121.859684     1  \n",
              "1      131.196417  132.411480  133.629025  124.178623     1  \n",
              "2      120.450155  130.051708  128.252972  114.475628     1  \n",
              "3      123.142653  125.963665  139.666592  126.589253     1  \n",
              "4      127.173033  137.252712  134.411335  124.020016     1  \n",
              "...           ...         ...         ...         ...   ...  \n",
              "39603  125.271109  128.284572  140.176945  128.292843     1  \n",
              "39604  119.879393  127.322529  137.312047  131.570614     1  \n",
              "39605  123.999571  126.075542  135.656132  127.671108     1  \n",
              "39606  120.889578  129.296909  132.673977  131.882893     1  \n",
              "39607  128.243391  131.757923  139.903401  121.479191     1  \n",
              "\n",
              "[39608 rows x 48 columns]"
            ],
            "text/html": [
              "\n",
              "  <div id=\"df-794d0ad9-22c6-49e1-81c0-e8798d37ba8b\">\n",
              "    <div class=\"colab-df-container\">\n",
              "      <div>\n",
              "<style scoped>\n",
              "    .dataframe tbody tr th:only-of-type {\n",
              "        vertical-align: middle;\n",
              "    }\n",
              "\n",
              "    .dataframe tbody tr th {\n",
              "        vertical-align: top;\n",
              "    }\n",
              "\n",
              "    .dataframe thead th {\n",
              "        text-align: right;\n",
              "    }\n",
              "</style>\n",
              "<table border=\"1\" class=\"dataframe\">\n",
              "  <thead>\n",
              "    <tr style=\"text-align: right;\">\n",
              "      <th></th>\n",
              "      <th>X_01</th>\n",
              "      <th>X_02</th>\n",
              "      <th>X_03</th>\n",
              "      <th>X_05</th>\n",
              "      <th>X_06</th>\n",
              "      <th>X_07</th>\n",
              "      <th>X_08</th>\n",
              "      <th>X_09</th>\n",
              "      <th>X_10</th>\n",
              "      <th>X_11</th>\n",
              "      <th>...</th>\n",
              "      <th>X_46</th>\n",
              "      <th>X_49</th>\n",
              "      <th>X_50</th>\n",
              "      <th>X_51</th>\n",
              "      <th>X_52</th>\n",
              "      <th>X_53</th>\n",
              "      <th>X_54</th>\n",
              "      <th>X_55</th>\n",
              "      <th>X_56</th>\n",
              "      <th>pass</th>\n",
              "    </tr>\n",
              "  </thead>\n",
              "  <tbody>\n",
              "    <tr>\n",
              "      <th>0</th>\n",
              "      <td>68.504</td>\n",
              "      <td>103.321</td>\n",
              "      <td>76.67</td>\n",
              "      <td>101.867</td>\n",
              "      <td>73.963</td>\n",
              "      <td>30.51</td>\n",
              "      <td>63.57</td>\n",
              "      <td>239.80</td>\n",
              "      <td>0.0</td>\n",
              "      <td>0.0</td>\n",
              "      <td>...</td>\n",
              "      <td>1469</td>\n",
              "      <td>17227.63</td>\n",
              "      <td>138.130429</td>\n",
              "      <td>129.460682</td>\n",
              "      <td>141.506570</td>\n",
              "      <td>133.427229</td>\n",
              "      <td>129.711498</td>\n",
              "      <td>133.138096</td>\n",
              "      <td>121.859684</td>\n",
              "      <td>1</td>\n",
              "    </tr>\n",
              "    <tr>\n",
              "      <th>1</th>\n",
              "      <td>67.485</td>\n",
              "      <td>103.320</td>\n",
              "      <td>69.37</td>\n",
              "      <td>101.992</td>\n",
              "      <td>67.845</td>\n",
              "      <td>28.03</td>\n",
              "      <td>116.99</td>\n",
              "      <td>189.23</td>\n",
              "      <td>0.0</td>\n",
              "      <td>0.0</td>\n",
              "      <td>...</td>\n",
              "      <td>1462</td>\n",
              "      <td>17134.53</td>\n",
              "      <td>136.148839</td>\n",
              "      <td>128.266277</td>\n",
              "      <td>145.911745</td>\n",
              "      <td>131.196417</td>\n",
              "      <td>132.411480</td>\n",
              "      <td>133.629025</td>\n",
              "      <td>124.178623</td>\n",
              "      <td>1</td>\n",
              "    </tr>\n",
              "    <tr>\n",
              "      <th>2</th>\n",
              "      <td>69.524</td>\n",
              "      <td>103.320</td>\n",
              "      <td>68.97</td>\n",
              "      <td>101.884</td>\n",
              "      <td>77.022</td>\n",
              "      <td>29.65</td>\n",
              "      <td>205.68</td>\n",
              "      <td>214.93</td>\n",
              "      <td>0.0</td>\n",
              "      <td>0.0</td>\n",
              "      <td>...</td>\n",
              "      <td>1469</td>\n",
              "      <td>14860.83</td>\n",
              "      <td>120.447446</td>\n",
              "      <td>119.988804</td>\n",
              "      <td>132.099908</td>\n",
              "      <td>120.450155</td>\n",
              "      <td>130.051708</td>\n",
              "      <td>128.252972</td>\n",
              "      <td>114.475628</td>\n",
              "      <td>1</td>\n",
              "    </tr>\n",
              "    <tr>\n",
              "      <th>3</th>\n",
              "      <td>69.524</td>\n",
              "      <td>103.320</td>\n",
              "      <td>65.87</td>\n",
              "      <td>101.866</td>\n",
              "      <td>73.963</td>\n",
              "      <td>28.15</td>\n",
              "      <td>103.38</td>\n",
              "      <td>180.80</td>\n",
              "      <td>0.0</td>\n",
              "      <td>0.0</td>\n",
              "      <td>...</td>\n",
              "      <td>1469</td>\n",
              "      <td>15252.53</td>\n",
              "      <td>133.994695</td>\n",
              "      <td>125.069180</td>\n",
              "      <td>147.507669</td>\n",
              "      <td>123.142653</td>\n",
              "      <td>125.963665</td>\n",
              "      <td>139.666592</td>\n",
              "      <td>126.589253</td>\n",
              "      <td>1</td>\n",
              "    </tr>\n",
              "    <tr>\n",
              "      <th>4</th>\n",
              "      <td>73.603</td>\n",
              "      <td>103.321</td>\n",
              "      <td>66.67</td>\n",
              "      <td>101.891</td>\n",
              "      <td>74.983</td>\n",
              "      <td>29.92</td>\n",
              "      <td>71.20</td>\n",
              "      <td>231.93</td>\n",
              "      <td>0.0</td>\n",
              "      <td>0.0</td>\n",
              "      <td>...</td>\n",
              "      <td>1469</td>\n",
              "      <td>10752.23</td>\n",
              "      <td>137.918202</td>\n",
              "      <td>135.116192</td>\n",
              "      <td>138.600473</td>\n",
              "      <td>127.173033</td>\n",
              "      <td>137.252712</td>\n",
              "      <td>134.411335</td>\n",
              "      <td>124.020016</td>\n",
              "      <td>1</td>\n",
              "    </tr>\n",
              "    <tr>\n",
              "      <th>...</th>\n",
              "      <td>...</td>\n",
              "      <td>...</td>\n",
              "      <td>...</td>\n",
              "      <td>...</td>\n",
              "      <td>...</td>\n",
              "      <td>...</td>\n",
              "      <td>...</td>\n",
              "      <td>...</td>\n",
              "      <td>...</td>\n",
              "      <td>...</td>\n",
              "      <td>...</td>\n",
              "      <td>...</td>\n",
              "      <td>...</td>\n",
              "      <td>...</td>\n",
              "      <td>...</td>\n",
              "      <td>...</td>\n",
              "      <td>...</td>\n",
              "      <td>...</td>\n",
              "      <td>...</td>\n",
              "      <td>...</td>\n",
              "      <td>...</td>\n",
              "    </tr>\n",
              "    <tr>\n",
              "      <th>39603</th>\n",
              "      <td>68.504</td>\n",
              "      <td>103.320</td>\n",
              "      <td>63.97</td>\n",
              "      <td>103.157</td>\n",
              "      <td>68.864</td>\n",
              "      <td>29.49</td>\n",
              "      <td>116.35</td>\n",
              "      <td>284.16</td>\n",
              "      <td>0.0</td>\n",
              "      <td>0.0</td>\n",
              "      <td>...</td>\n",
              "      <td>1469</td>\n",
              "      <td>62123.53</td>\n",
              "      <td>127.741246</td>\n",
              "      <td>126.494312</td>\n",
              "      <td>139.119905</td>\n",
              "      <td>125.271109</td>\n",
              "      <td>128.284572</td>\n",
              "      <td>140.176945</td>\n",
              "      <td>128.292843</td>\n",
              "      <td>1</td>\n",
              "    </tr>\n",
              "    <tr>\n",
              "      <th>39604</th>\n",
              "      <td>68.504</td>\n",
              "      <td>103.320</td>\n",
              "      <td>61.37</td>\n",
              "      <td>103.137</td>\n",
              "      <td>68.864</td>\n",
              "      <td>32.29</td>\n",
              "      <td>116.28</td>\n",
              "      <td>272.41</td>\n",
              "      <td>0.0</td>\n",
              "      <td>0.0</td>\n",
              "      <td>...</td>\n",
              "      <td>1469</td>\n",
              "      <td>61844.13</td>\n",
              "      <td>127.767377</td>\n",
              "      <td>124.062809</td>\n",
              "      <td>138.238664</td>\n",
              "      <td>119.879393</td>\n",
              "      <td>127.322529</td>\n",
              "      <td>137.312047</td>\n",
              "      <td>131.570614</td>\n",
              "      <td>1</td>\n",
              "    </tr>\n",
              "    <tr>\n",
              "      <th>39605</th>\n",
              "      <td>69.524</td>\n",
              "      <td>103.320</td>\n",
              "      <td>63.67</td>\n",
              "      <td>103.149</td>\n",
              "      <td>69.884</td>\n",
              "      <td>30.00</td>\n",
              "      <td>113.05</td>\n",
              "      <td>295.54</td>\n",
              "      <td>0.0</td>\n",
              "      <td>0.0</td>\n",
              "      <td>...</td>\n",
              "      <td>1469</td>\n",
              "      <td>60277.53</td>\n",
              "      <td>128.593640</td>\n",
              "      <td>124.774037</td>\n",
              "      <td>138.659624</td>\n",
              "      <td>123.999571</td>\n",
              "      <td>126.075542</td>\n",
              "      <td>135.656132</td>\n",
              "      <td>127.671108</td>\n",
              "      <td>1</td>\n",
              "    </tr>\n",
              "    <tr>\n",
              "      <th>39606</th>\n",
              "      <td>67.485</td>\n",
              "      <td>103.321</td>\n",
              "      <td>61.77</td>\n",
              "      <td>103.148</td>\n",
              "      <td>67.845</td>\n",
              "      <td>32.05</td>\n",
              "      <td>115.05</td>\n",
              "      <td>267.26</td>\n",
              "      <td>0.0</td>\n",
              "      <td>0.0</td>\n",
              "      <td>...</td>\n",
              "      <td>1469</td>\n",
              "      <td>60236.73</td>\n",
              "      <td>121.110646</td>\n",
              "      <td>125.471699</td>\n",
              "      <td>134.989984</td>\n",
              "      <td>120.889578</td>\n",
              "      <td>129.296909</td>\n",
              "      <td>132.673977</td>\n",
              "      <td>131.882893</td>\n",
              "      <td>1</td>\n",
              "    </tr>\n",
              "    <tr>\n",
              "      <th>39607</th>\n",
              "      <td>71.563</td>\n",
              "      <td>103.320</td>\n",
              "      <td>63.07</td>\n",
              "      <td>103.158</td>\n",
              "      <td>71.923</td>\n",
              "      <td>31.14</td>\n",
              "      <td>102.22</td>\n",
              "      <td>215.85</td>\n",
              "      <td>0.0</td>\n",
              "      <td>0.0</td>\n",
              "      <td>...</td>\n",
              "      <td>1469</td>\n",
              "      <td>60680.73</td>\n",
              "      <td>134.263593</td>\n",
              "      <td>129.765515</td>\n",
              "      <td>139.681833</td>\n",
              "      <td>128.243391</td>\n",
              "      <td>131.757923</td>\n",
              "      <td>139.903401</td>\n",
              "      <td>121.479191</td>\n",
              "      <td>1</td>\n",
              "    </tr>\n",
              "  </tbody>\n",
              "</table>\n",
              "<p>39608 rows × 48 columns</p>\n",
              "</div>\n",
              "      <button class=\"colab-df-convert\" onclick=\"convertToInteractive('df-794d0ad9-22c6-49e1-81c0-e8798d37ba8b')\"\n",
              "              title=\"Convert this dataframe to an interactive table.\"\n",
              "              style=\"display:none;\">\n",
              "        \n",
              "  <svg xmlns=\"http://www.w3.org/2000/svg\" height=\"24px\"viewBox=\"0 0 24 24\"\n",
              "       width=\"24px\">\n",
              "    <path d=\"M0 0h24v24H0V0z\" fill=\"none\"/>\n",
              "    <path d=\"M18.56 5.44l.94 2.06.94-2.06 2.06-.94-2.06-.94-.94-2.06-.94 2.06-2.06.94zm-11 1L8.5 8.5l.94-2.06 2.06-.94-2.06-.94L8.5 2.5l-.94 2.06-2.06.94zm10 10l.94 2.06.94-2.06 2.06-.94-2.06-.94-.94-2.06-.94 2.06-2.06.94z\"/><path d=\"M17.41 7.96l-1.37-1.37c-.4-.4-.92-.59-1.43-.59-.52 0-1.04.2-1.43.59L10.3 9.45l-7.72 7.72c-.78.78-.78 2.05 0 2.83L4 21.41c.39.39.9.59 1.41.59.51 0 1.02-.2 1.41-.59l7.78-7.78 2.81-2.81c.8-.78.8-2.07 0-2.86zM5.41 20L4 18.59l7.72-7.72 1.47 1.35L5.41 20z\"/>\n",
              "  </svg>\n",
              "      </button>\n",
              "      \n",
              "  <style>\n",
              "    .colab-df-container {\n",
              "      display:flex;\n",
              "      flex-wrap:wrap;\n",
              "      gap: 12px;\n",
              "    }\n",
              "\n",
              "    .colab-df-convert {\n",
              "      background-color: #E8F0FE;\n",
              "      border: none;\n",
              "      border-radius: 50%;\n",
              "      cursor: pointer;\n",
              "      display: none;\n",
              "      fill: #1967D2;\n",
              "      height: 32px;\n",
              "      padding: 0 0 0 0;\n",
              "      width: 32px;\n",
              "    }\n",
              "\n",
              "    .colab-df-convert:hover {\n",
              "      background-color: #E2EBFA;\n",
              "      box-shadow: 0px 1px 2px rgba(60, 64, 67, 0.3), 0px 1px 3px 1px rgba(60, 64, 67, 0.15);\n",
              "      fill: #174EA6;\n",
              "    }\n",
              "\n",
              "    [theme=dark] .colab-df-convert {\n",
              "      background-color: #3B4455;\n",
              "      fill: #D2E3FC;\n",
              "    }\n",
              "\n",
              "    [theme=dark] .colab-df-convert:hover {\n",
              "      background-color: #434B5C;\n",
              "      box-shadow: 0px 1px 3px 1px rgba(0, 0, 0, 0.15);\n",
              "      filter: drop-shadow(0px 1px 2px rgba(0, 0, 0, 0.3));\n",
              "      fill: #FFFFFF;\n",
              "    }\n",
              "  </style>\n",
              "\n",
              "      <script>\n",
              "        const buttonEl =\n",
              "          document.querySelector('#df-794d0ad9-22c6-49e1-81c0-e8798d37ba8b button.colab-df-convert');\n",
              "        buttonEl.style.display =\n",
              "          google.colab.kernel.accessAllowed ? 'block' : 'none';\n",
              "\n",
              "        async function convertToInteractive(key) {\n",
              "          const element = document.querySelector('#df-794d0ad9-22c6-49e1-81c0-e8798d37ba8b');\n",
              "          const dataTable =\n",
              "            await google.colab.kernel.invokeFunction('convertToInteractive',\n",
              "                                                     [key], {});\n",
              "          if (!dataTable) return;\n",
              "\n",
              "          const docLinkHtml = 'Like what you see? Visit the ' +\n",
              "            '<a target=\"_blank\" href=https://colab.research.google.com/notebooks/data_table.ipynb>data table notebook</a>'\n",
              "            + ' to learn more about interactive tables.';\n",
              "          element.innerHTML = '';\n",
              "          dataTable['output_type'] = 'display_data';\n",
              "          await google.colab.output.renderOutput(dataTable, element);\n",
              "          const docLink = document.createElement('div');\n",
              "          docLink.innerHTML = docLinkHtml;\n",
              "          element.appendChild(docLink);\n",
              "        }\n",
              "      </script>\n",
              "    </div>\n",
              "  </div>\n",
              "  "
            ]
          },
          "metadata": {},
          "execution_count": 173
        }
      ]
    },
    {
      "cell_type": "code",
      "source": [
        "pass_test = test[test['pass']==1]\n",
        "fail_test = test[test['pass']==0]"
      ],
      "metadata": {
        "id": "ORPvjUXOOsKG"
      },
      "execution_count": 132,
      "outputs": []
    },
    {
      "cell_type": "code",
      "source": [
        "pass_test = pass_test.drop('pass',axis=1)"
      ],
      "metadata": {
        "id": "NmDgknl_O4LL"
      },
      "execution_count": 135,
      "outputs": []
    },
    {
      "cell_type": "code",
      "source": [
        "fail_test = fail_test.drop('pass',axis=1)"
      ],
      "metadata": {
        "id": "8g4PPdF0PrDI"
      },
      "execution_count": 137,
      "outputs": []
    },
    {
      "cell_type": "code",
      "source": [
        "pass_pred = xgb_1.predict(pass_test)"
      ],
      "metadata": {
        "id": "8HTvhM6aPJ2m"
      },
      "execution_count": 138,
      "outputs": []
    },
    {
      "cell_type": "code",
      "source": [
        "pass_pred = pd.DataFrame(pass_pred, index=pass_test.index)"
      ],
      "metadata": {
        "id": "Q3c0sgWDPvOu"
      },
      "execution_count": 140,
      "outputs": []
    },
    {
      "cell_type": "code",
      "source": [
        "fail_pred = xgb_2.predict(fail_test)"
      ],
      "metadata": {
        "id": "iKii9vAVQn1A"
      },
      "execution_count": 146,
      "outputs": []
    },
    {
      "cell_type": "code",
      "source": [
        "fail_pred = pd.DataFrame(fail_pred, index=fail_test.index)"
      ],
      "metadata": {
        "id": "xxDDIcwUQvLu"
      },
      "execution_count": 147,
      "outputs": []
    },
    {
      "cell_type": "code",
      "source": [
        "final = pd.concat([pass_pred, fail_pred]).sort_index(ascending=True)"
      ],
      "metadata": {
        "id": "-2-4VWxdQ1Bm"
      },
      "execution_count": 152,
      "outputs": []
    },
    {
      "cell_type": "code",
      "source": [
        "final"
      ],
      "metadata": {
        "id": "04B1jpgHTwlG",
        "outputId": "a8d4fa43-5e1c-4f59-e599-81491b8a222d",
        "colab": {
          "base_uri": "https://localhost:8080/",
          "height": 424
        }
      },
      "execution_count": 174,
      "outputs": [
        {
          "output_type": "execute_result",
          "data": {
            "text/plain": [
              "             0         1         2          3          4          5   \\\n",
              "0      1.388842  1.102641  1.063192  14.275603  31.500191  16.832821   \n",
              "1      1.467951  1.208646  1.099824  13.711733  31.361696  16.735426   \n",
              "2      1.379874  1.120898  0.995068  13.565459  31.922886  16.795238   \n",
              "3      1.417747  1.128300  1.016971  15.474136  32.809299  17.239452   \n",
              "4      1.323217  0.982340  0.953654  15.327987  32.244492  17.248947   \n",
              "...         ...       ...       ...        ...        ...        ...   \n",
              "39603  1.321902  1.010210  1.043739  13.037948  31.198471  16.769083   \n",
              "39604  1.257241  0.920144  0.986886  14.857346  30.955332  16.887556   \n",
              "39605  1.315065  0.946337  0.922454  13.354900  30.850128  16.626284   \n",
              "39606  1.257449  0.933694  1.021127  13.207811  30.962023  16.702501   \n",
              "39607  1.340231  0.973725  0.990983  13.246638  31.672588  16.559965   \n",
              "\n",
              "             6          7          8          9          10         11  \\\n",
              "0      3.110303 -26.066635 -25.971573 -22.290552  24.437771 -26.009293   \n",
              "1      3.155328 -26.085487 -26.147621 -22.215969  24.387421 -26.023899   \n",
              "2      2.995768 -25.933990 -25.828384 -21.997131  24.602486 -25.424952   \n",
              "3      3.016834 -25.594851 -25.730661 -21.608120  24.933098 -25.582399   \n",
              "4      2.989896 -25.579590 -25.564873 -21.784492  25.224924 -25.536865   \n",
              "...         ...        ...        ...        ...        ...        ...   \n",
              "39603  3.141090 -26.453703 -26.471933 -22.634325  24.489698 -26.368305   \n",
              "39604  3.130708 -26.411585 -26.364214 -22.843750  24.476746 -26.261854   \n",
              "39605  3.178425 -26.397606 -26.540842 -22.798115  24.201654 -26.559097   \n",
              "39606  3.125632 -26.436462 -26.405931 -22.777399  24.479591 -26.467655   \n",
              "39607  3.163481 -26.691284 -26.540876 -23.042284  24.266987 -26.519279   \n",
              "\n",
              "              12         13  \n",
              "0     -25.985958 -26.050285  \n",
              "1     -25.966240 -26.084509  \n",
              "2     -25.782543 -25.691729  \n",
              "3     -25.713903 -25.521070  \n",
              "4     -25.360033 -25.689516  \n",
              "...          ...        ...  \n",
              "39603 -26.424488 -26.454170  \n",
              "39604 -26.247116 -26.320038  \n",
              "39605 -26.448717 -26.577545  \n",
              "39606 -26.488829 -26.458929  \n",
              "39607 -26.443960 -26.307898  \n",
              "\n",
              "[39608 rows x 14 columns]"
            ],
            "text/html": [
              "\n",
              "  <div id=\"df-d4ace5c9-106d-4921-a4b3-bb951cc38382\">\n",
              "    <div class=\"colab-df-container\">\n",
              "      <div>\n",
              "<style scoped>\n",
              "    .dataframe tbody tr th:only-of-type {\n",
              "        vertical-align: middle;\n",
              "    }\n",
              "\n",
              "    .dataframe tbody tr th {\n",
              "        vertical-align: top;\n",
              "    }\n",
              "\n",
              "    .dataframe thead th {\n",
              "        text-align: right;\n",
              "    }\n",
              "</style>\n",
              "<table border=\"1\" class=\"dataframe\">\n",
              "  <thead>\n",
              "    <tr style=\"text-align: right;\">\n",
              "      <th></th>\n",
              "      <th>0</th>\n",
              "      <th>1</th>\n",
              "      <th>2</th>\n",
              "      <th>3</th>\n",
              "      <th>4</th>\n",
              "      <th>5</th>\n",
              "      <th>6</th>\n",
              "      <th>7</th>\n",
              "      <th>8</th>\n",
              "      <th>9</th>\n",
              "      <th>10</th>\n",
              "      <th>11</th>\n",
              "      <th>12</th>\n",
              "      <th>13</th>\n",
              "    </tr>\n",
              "  </thead>\n",
              "  <tbody>\n",
              "    <tr>\n",
              "      <th>0</th>\n",
              "      <td>1.388842</td>\n",
              "      <td>1.102641</td>\n",
              "      <td>1.063192</td>\n",
              "      <td>14.275603</td>\n",
              "      <td>31.500191</td>\n",
              "      <td>16.832821</td>\n",
              "      <td>3.110303</td>\n",
              "      <td>-26.066635</td>\n",
              "      <td>-25.971573</td>\n",
              "      <td>-22.290552</td>\n",
              "      <td>24.437771</td>\n",
              "      <td>-26.009293</td>\n",
              "      <td>-25.985958</td>\n",
              "      <td>-26.050285</td>\n",
              "    </tr>\n",
              "    <tr>\n",
              "      <th>1</th>\n",
              "      <td>1.467951</td>\n",
              "      <td>1.208646</td>\n",
              "      <td>1.099824</td>\n",
              "      <td>13.711733</td>\n",
              "      <td>31.361696</td>\n",
              "      <td>16.735426</td>\n",
              "      <td>3.155328</td>\n",
              "      <td>-26.085487</td>\n",
              "      <td>-26.147621</td>\n",
              "      <td>-22.215969</td>\n",
              "      <td>24.387421</td>\n",
              "      <td>-26.023899</td>\n",
              "      <td>-25.966240</td>\n",
              "      <td>-26.084509</td>\n",
              "    </tr>\n",
              "    <tr>\n",
              "      <th>2</th>\n",
              "      <td>1.379874</td>\n",
              "      <td>1.120898</td>\n",
              "      <td>0.995068</td>\n",
              "      <td>13.565459</td>\n",
              "      <td>31.922886</td>\n",
              "      <td>16.795238</td>\n",
              "      <td>2.995768</td>\n",
              "      <td>-25.933990</td>\n",
              "      <td>-25.828384</td>\n",
              "      <td>-21.997131</td>\n",
              "      <td>24.602486</td>\n",
              "      <td>-25.424952</td>\n",
              "      <td>-25.782543</td>\n",
              "      <td>-25.691729</td>\n",
              "    </tr>\n",
              "    <tr>\n",
              "      <th>3</th>\n",
              "      <td>1.417747</td>\n",
              "      <td>1.128300</td>\n",
              "      <td>1.016971</td>\n",
              "      <td>15.474136</td>\n",
              "      <td>32.809299</td>\n",
              "      <td>17.239452</td>\n",
              "      <td>3.016834</td>\n",
              "      <td>-25.594851</td>\n",
              "      <td>-25.730661</td>\n",
              "      <td>-21.608120</td>\n",
              "      <td>24.933098</td>\n",
              "      <td>-25.582399</td>\n",
              "      <td>-25.713903</td>\n",
              "      <td>-25.521070</td>\n",
              "    </tr>\n",
              "    <tr>\n",
              "      <th>4</th>\n",
              "      <td>1.323217</td>\n",
              "      <td>0.982340</td>\n",
              "      <td>0.953654</td>\n",
              "      <td>15.327987</td>\n",
              "      <td>32.244492</td>\n",
              "      <td>17.248947</td>\n",
              "      <td>2.989896</td>\n",
              "      <td>-25.579590</td>\n",
              "      <td>-25.564873</td>\n",
              "      <td>-21.784492</td>\n",
              "      <td>25.224924</td>\n",
              "      <td>-25.536865</td>\n",
              "      <td>-25.360033</td>\n",
              "      <td>-25.689516</td>\n",
              "    </tr>\n",
              "    <tr>\n",
              "      <th>...</th>\n",
              "      <td>...</td>\n",
              "      <td>...</td>\n",
              "      <td>...</td>\n",
              "      <td>...</td>\n",
              "      <td>...</td>\n",
              "      <td>...</td>\n",
              "      <td>...</td>\n",
              "      <td>...</td>\n",
              "      <td>...</td>\n",
              "      <td>...</td>\n",
              "      <td>...</td>\n",
              "      <td>...</td>\n",
              "      <td>...</td>\n",
              "      <td>...</td>\n",
              "    </tr>\n",
              "    <tr>\n",
              "      <th>39603</th>\n",
              "      <td>1.321902</td>\n",
              "      <td>1.010210</td>\n",
              "      <td>1.043739</td>\n",
              "      <td>13.037948</td>\n",
              "      <td>31.198471</td>\n",
              "      <td>16.769083</td>\n",
              "      <td>3.141090</td>\n",
              "      <td>-26.453703</td>\n",
              "      <td>-26.471933</td>\n",
              "      <td>-22.634325</td>\n",
              "      <td>24.489698</td>\n",
              "      <td>-26.368305</td>\n",
              "      <td>-26.424488</td>\n",
              "      <td>-26.454170</td>\n",
              "    </tr>\n",
              "    <tr>\n",
              "      <th>39604</th>\n",
              "      <td>1.257241</td>\n",
              "      <td>0.920144</td>\n",
              "      <td>0.986886</td>\n",
              "      <td>14.857346</td>\n",
              "      <td>30.955332</td>\n",
              "      <td>16.887556</td>\n",
              "      <td>3.130708</td>\n",
              "      <td>-26.411585</td>\n",
              "      <td>-26.364214</td>\n",
              "      <td>-22.843750</td>\n",
              "      <td>24.476746</td>\n",
              "      <td>-26.261854</td>\n",
              "      <td>-26.247116</td>\n",
              "      <td>-26.320038</td>\n",
              "    </tr>\n",
              "    <tr>\n",
              "      <th>39605</th>\n",
              "      <td>1.315065</td>\n",
              "      <td>0.946337</td>\n",
              "      <td>0.922454</td>\n",
              "      <td>13.354900</td>\n",
              "      <td>30.850128</td>\n",
              "      <td>16.626284</td>\n",
              "      <td>3.178425</td>\n",
              "      <td>-26.397606</td>\n",
              "      <td>-26.540842</td>\n",
              "      <td>-22.798115</td>\n",
              "      <td>24.201654</td>\n",
              "      <td>-26.559097</td>\n",
              "      <td>-26.448717</td>\n",
              "      <td>-26.577545</td>\n",
              "    </tr>\n",
              "    <tr>\n",
              "      <th>39606</th>\n",
              "      <td>1.257449</td>\n",
              "      <td>0.933694</td>\n",
              "      <td>1.021127</td>\n",
              "      <td>13.207811</td>\n",
              "      <td>30.962023</td>\n",
              "      <td>16.702501</td>\n",
              "      <td>3.125632</td>\n",
              "      <td>-26.436462</td>\n",
              "      <td>-26.405931</td>\n",
              "      <td>-22.777399</td>\n",
              "      <td>24.479591</td>\n",
              "      <td>-26.467655</td>\n",
              "      <td>-26.488829</td>\n",
              "      <td>-26.458929</td>\n",
              "    </tr>\n",
              "    <tr>\n",
              "      <th>39607</th>\n",
              "      <td>1.340231</td>\n",
              "      <td>0.973725</td>\n",
              "      <td>0.990983</td>\n",
              "      <td>13.246638</td>\n",
              "      <td>31.672588</td>\n",
              "      <td>16.559965</td>\n",
              "      <td>3.163481</td>\n",
              "      <td>-26.691284</td>\n",
              "      <td>-26.540876</td>\n",
              "      <td>-23.042284</td>\n",
              "      <td>24.266987</td>\n",
              "      <td>-26.519279</td>\n",
              "      <td>-26.443960</td>\n",
              "      <td>-26.307898</td>\n",
              "    </tr>\n",
              "  </tbody>\n",
              "</table>\n",
              "<p>39608 rows × 14 columns</p>\n",
              "</div>\n",
              "      <button class=\"colab-df-convert\" onclick=\"convertToInteractive('df-d4ace5c9-106d-4921-a4b3-bb951cc38382')\"\n",
              "              title=\"Convert this dataframe to an interactive table.\"\n",
              "              style=\"display:none;\">\n",
              "        \n",
              "  <svg xmlns=\"http://www.w3.org/2000/svg\" height=\"24px\"viewBox=\"0 0 24 24\"\n",
              "       width=\"24px\">\n",
              "    <path d=\"M0 0h24v24H0V0z\" fill=\"none\"/>\n",
              "    <path d=\"M18.56 5.44l.94 2.06.94-2.06 2.06-.94-2.06-.94-.94-2.06-.94 2.06-2.06.94zm-11 1L8.5 8.5l.94-2.06 2.06-.94-2.06-.94L8.5 2.5l-.94 2.06-2.06.94zm10 10l.94 2.06.94-2.06 2.06-.94-2.06-.94-.94-2.06-.94 2.06-2.06.94z\"/><path d=\"M17.41 7.96l-1.37-1.37c-.4-.4-.92-.59-1.43-.59-.52 0-1.04.2-1.43.59L10.3 9.45l-7.72 7.72c-.78.78-.78 2.05 0 2.83L4 21.41c.39.39.9.59 1.41.59.51 0 1.02-.2 1.41-.59l7.78-7.78 2.81-2.81c.8-.78.8-2.07 0-2.86zM5.41 20L4 18.59l7.72-7.72 1.47 1.35L5.41 20z\"/>\n",
              "  </svg>\n",
              "      </button>\n",
              "      \n",
              "  <style>\n",
              "    .colab-df-container {\n",
              "      display:flex;\n",
              "      flex-wrap:wrap;\n",
              "      gap: 12px;\n",
              "    }\n",
              "\n",
              "    .colab-df-convert {\n",
              "      background-color: #E8F0FE;\n",
              "      border: none;\n",
              "      border-radius: 50%;\n",
              "      cursor: pointer;\n",
              "      display: none;\n",
              "      fill: #1967D2;\n",
              "      height: 32px;\n",
              "      padding: 0 0 0 0;\n",
              "      width: 32px;\n",
              "    }\n",
              "\n",
              "    .colab-df-convert:hover {\n",
              "      background-color: #E2EBFA;\n",
              "      box-shadow: 0px 1px 2px rgba(60, 64, 67, 0.3), 0px 1px 3px 1px rgba(60, 64, 67, 0.15);\n",
              "      fill: #174EA6;\n",
              "    }\n",
              "\n",
              "    [theme=dark] .colab-df-convert {\n",
              "      background-color: #3B4455;\n",
              "      fill: #D2E3FC;\n",
              "    }\n",
              "\n",
              "    [theme=dark] .colab-df-convert:hover {\n",
              "      background-color: #434B5C;\n",
              "      box-shadow: 0px 1px 3px 1px rgba(0, 0, 0, 0.15);\n",
              "      filter: drop-shadow(0px 1px 2px rgba(0, 0, 0, 0.3));\n",
              "      fill: #FFFFFF;\n",
              "    }\n",
              "  </style>\n",
              "\n",
              "      <script>\n",
              "        const buttonEl =\n",
              "          document.querySelector('#df-d4ace5c9-106d-4921-a4b3-bb951cc38382 button.colab-df-convert');\n",
              "        buttonEl.style.display =\n",
              "          google.colab.kernel.accessAllowed ? 'block' : 'none';\n",
              "\n",
              "        async function convertToInteractive(key) {\n",
              "          const element = document.querySelector('#df-d4ace5c9-106d-4921-a4b3-bb951cc38382');\n",
              "          const dataTable =\n",
              "            await google.colab.kernel.invokeFunction('convertToInteractive',\n",
              "                                                     [key], {});\n",
              "          if (!dataTable) return;\n",
              "\n",
              "          const docLinkHtml = 'Like what you see? Visit the ' +\n",
              "            '<a target=\"_blank\" href=https://colab.research.google.com/notebooks/data_table.ipynb>data table notebook</a>'\n",
              "            + ' to learn more about interactive tables.';\n",
              "          element.innerHTML = '';\n",
              "          dataTable['output_type'] = 'display_data';\n",
              "          await google.colab.output.renderOutput(dataTable, element);\n",
              "          const docLink = document.createElement('div');\n",
              "          docLink.innerHTML = docLinkHtml;\n",
              "          element.appendChild(docLink);\n",
              "        }\n",
              "      </script>\n",
              "    </div>\n",
              "  </div>\n",
              "  "
            ]
          },
          "metadata": {},
          "execution_count": 174
        }
      ]
    },
    {
      "cell_type": "code",
      "source": [
        "final_p = final.to_numpy() "
      ],
      "metadata": {
        "id": "eYLjZFhJRaqM"
      },
      "execution_count": 155,
      "outputs": []
    },
    {
      "cell_type": "code",
      "source": [
        "submit = pd.read_csv('./drive/MyDrive/LG_Aimer/sample_submission.csv') #/drive/MyDrive/LG_Aimer\n",
        "for idx, col in enumerate(submit.columns):\n",
        "    if col=='ID':\n",
        "        continue\n",
        "    submit[col] = final_p[:,idx-1]\n",
        "print('Done.')\n",
        "submit.to_csv('./submit.csv', index=False)"
      ],
      "metadata": {
        "id": "s9MIPX19RbeN",
        "outputId": "d8c778c5-8437-420d-d877-92257eeb4b1d",
        "colab": {
          "base_uri": "https://localhost:8080/"
        }
      },
      "execution_count": 156,
      "outputs": [
        {
          "output_type": "stream",
          "name": "stdout",
          "text": [
            "Done.\n"
          ]
        }
      ]
    },
    {
      "cell_type": "markdown",
      "source": [
        ""
      ],
      "metadata": {
        "id": "KHLRnzrXRzDg"
      }
    }
  ]
}