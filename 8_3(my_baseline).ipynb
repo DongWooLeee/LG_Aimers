{
  "nbformat": 4,
  "nbformat_minor": 0,
  "metadata": {
    "colab": {
      "name": "8.3(my_baseline).ipynb",
      "provenance": []
    },
    "kernelspec": {
      "name": "python3",
      "display_name": "Python 3"
    },
    "language_info": {
      "name": "python"
    },
    "accelerator": "GPU",
    "gpuClass": "standard"
  },
  "cells": [
    {
      "cell_type": "code",
      "execution_count": 1,
      "metadata": {
        "id": "gdVFt6rJiy3N"
      },
      "outputs": [],
      "source": [
        "import pandas as pd\n",
        "import random\n",
        "import os\n",
        "import numpy as np\n",
        "\n",
        "from sklearn.linear_model import LinearRegression\n",
        "from sklearn.multioutput import MultiOutputRegressor\n",
        "from sklearn.metrics import mean_squared_error"
      ]
    },
    {
      "cell_type": "code",
      "source": [
        "def seed_everything(seed):\n",
        "    random.seed(seed)\n",
        "    os.environ['PYTHONHASHSEED'] = str(seed)\n",
        "    np.random.seed(seed)\n",
        "seed_everything(42) # Seed 고정"
      ],
      "metadata": {
        "id": "eUrd581ti8Od"
      },
      "execution_count": 2,
      "outputs": []
    },
    {
      "cell_type": "code",
      "source": [
        "from google.colab import drive\n",
        "drive.mount('/content/drive')"
      ],
      "metadata": {
        "colab": {
          "base_uri": "https://localhost:8080/"
        },
        "id": "Okr7b5qXC-rD",
        "outputId": "fb62a502-c26e-4d85-ac2c-9433fd499842"
      },
      "execution_count": 3,
      "outputs": [
        {
          "output_type": "stream",
          "name": "stdout",
          "text": [
            "Mounted at /content/drive\n"
          ]
        }
      ]
    },
    {
      "cell_type": "code",
      "source": [
        "train_df = pd.read_csv('./drive/MyDrive/LG_Aimer/train.csv')\n",
        "\n",
        "train_x = train_df.filter(regex='X') # Input : X Featrue\n",
        "train_y = train_df.filter(regex='Y') # Output : Y Feature"
      ],
      "metadata": {
        "id": "t3GnzMWyi_bX"
      },
      "execution_count": 4,
      "outputs": []
    },
    {
      "cell_type": "code",
      "source": [
        "def nrmse(gt, preds):\n",
        "    # 각 Y Feature별 NRMSE 총합\n",
        "    # Y_01 ~ Y_08 까지 20% 가중치 부여\n",
        "    all_nrmse = []\n",
        "    for idx in range(0,13): # ignore 'ID'\n",
        "        rmse = mean_squared_error(np.array(gt)[:,idx], preds[:,idx], squared=False)\n",
        "        nrmse = rmse/np.mean(np.abs(np.array(gt)[:,idx]))\n",
        "        all_nrmse.append(nrmse)\n",
        "    score = 1.2 * np.sum(all_nrmse[:8]) + 1.0 * np.sum(all_nrmse[8:15])\n",
        "    return score"
      ],
      "metadata": {
        "id": "VlyeqOCSkb0e"
      },
      "execution_count": 5,
      "outputs": []
    },
    {
      "cell_type": "code",
      "source": [
        "from sklearn.model_selection import train_test_split\n",
        "\n",
        "x_train, x_test, y_train, y_test = train_test_split(train_x, train_y, test_size=0.3, random_state=10)\n"
      ],
      "metadata": {
        "id": "xtBqF93PEloq"
      },
      "execution_count": 44,
      "outputs": []
    },
    {
      "cell_type": "code",
      "source": [
        "x_train"
      ],
      "metadata": {
        "colab": {
          "base_uri": "https://localhost:8080/"
        },
        "id": "1KJJsy2CFYWS",
        "outputId": "83846a2c-2f8a-4f96-daf7-aa411b4e0fde"
      },
      "execution_count": 43,
      "outputs": [
        {
          "output_type": "execute_result",
          "data": {
            "text/plain": [
              "array([[[ 67.485   , 103.32    ,  69.47    , ..., 128.808712,\n",
              "         134.3037  , 125.692806],\n",
              "        [ 67.485   , 103.32    ,  66.37    , ..., 123.985599,\n",
              "         133.586453, 127.820431],\n",
              "        [ 64.425   , 103.32    ,  79.87    , ..., 131.546726,\n",
              "         149.012471, 127.745869],\n",
              "        ...,\n",
              "        [ 69.524   , 103.321   ,  64.27    , ..., 132.877315,\n",
              "         144.031117, 130.507931],\n",
              "        [ 67.485   , 103.32    ,  64.87    , ..., 125.412929,\n",
              "         135.170941, 128.05698 ],\n",
              "        [ 67.485   , 103.32    ,  61.97    , ..., 136.309299,\n",
              "         131.845906, 126.341496]]])"
            ]
          },
          "metadata": {},
          "execution_count": 43
        }
      ]
    },
    {
      "cell_type": "code",
      "source": [
        "print(x_train.shape)\n",
        "print(x_test.shape)\n",
        "print(y_train.shape)\n",
        "print(y_test.shape)"
      ],
      "metadata": {
        "colab": {
          "base_uri": "https://localhost:8080/"
        },
        "id": "EWav216nFguJ",
        "outputId": "2d6103f1-3854-4772-b84c-94a77e3016b4"
      },
      "execution_count": 48,
      "outputs": [
        {
          "output_type": "stream",
          "name": "stdout",
          "text": [
            "(27724, 56, 1)\n",
            "(11883, 56, 1)\n",
            "(27724, 14)\n",
            "(11883, 14)\n"
          ]
        }
      ]
    },
    {
      "cell_type": "code",
      "source": [
        "x_train = x_train.to_numpy().reshape(x_train.shape[0], x_train.shape[1],1)\n",
        "print(x_train.shape)\n",
        "x_test = x_test.to_numpy().reshape(x_test.shape[0],x_test.shape[1],1)\n",
        "print(x_test.shape)"
      ],
      "metadata": {
        "colab": {
          "base_uri": "https://localhost:8080/"
        },
        "id": "7bzN5jieGm_2",
        "outputId": "832ec380-487c-4915-de3e-a9143d04e05e"
      },
      "execution_count": 45,
      "outputs": [
        {
          "output_type": "stream",
          "name": "stdout",
          "text": [
            "(27724, 56, 1)\n",
            "(11883, 56, 1)\n"
          ]
        }
      ]
    },
    {
      "cell_type": "code",
      "source": [
        "from keras.models import Sequential\n",
        "from keras.layers import Dense, LSTM, Input, Bidirectional,TimeDistributed\n",
        "from numpy import array\n",
        "from numpy.random import uniform\n",
        "from numpy import hstack\n",
        "import matplotlib.pyplot as plt\n",
        "from sklearn.model_selection import train_test_split\n",
        "from sklearn.metrics import mean_squared_error\n",
        "from keras.models import Model\n",
        "from keras.callbacks import EarlyStopping\n",
        "from sklearn.model_selection import RepeatedKFold\n",
        "\n",
        "input_layer = Input(shape=(56,1))\n",
        "\n",
        "lstm = Bidirectional(\n",
        "    LSTM(250),\n",
        "    merge_mode='concat'\n",
        ")(input_layer)\n",
        "\n",
        "pred = Dense(14)(lstm)\n",
        "model = Model(inputs=input_layer, outputs=pred)\n",
        "model.compile(optimizer = 'adam', loss = 'mean_squared_error')\n",
        "model.summary()\n",
        "\n",
        "# model.fit(X_train, Y_train, epochs = 20, batch_size = 32)\n",
        "\n",
        "early_stopping = EarlyStopping(monitor = 'val_loss', mode = 'min', patience = 10, verbose = 1)\n",
        "hist = model.fit(x_train, y_train, epochs = 1000, batch_size = 20, validation_data = (x_test, y_test),callbacks = [early_stopping])"
      ],
      "metadata": {
        "colab": {
          "base_uri": "https://localhost:8080/"
        },
        "id": "6njl5-3qEGNQ",
        "outputId": "b11a8c31-9959-4aa3-ecc7-e45ecaee3d87"
      },
      "execution_count": 58,
      "outputs": [
        {
          "output_type": "stream",
          "name": "stdout",
          "text": [
            "Model: \"model_14\"\n",
            "_________________________________________________________________\n",
            " Layer (type)                Output Shape              Param #   \n",
            "=================================================================\n",
            " input_19 (InputLayer)       [(None, 56, 1)]           0         \n",
            "                                                                 \n",
            " bidirectional_17 (Bidirecti  (None, 500)              504000    \n",
            " onal)                                                           \n",
            "                                                                 \n",
            " dense_18 (Dense)            (None, 14)                7014      \n",
            "                                                                 \n",
            "=================================================================\n",
            "Total params: 511,014\n",
            "Trainable params: 511,014\n",
            "Non-trainable params: 0\n",
            "_________________________________________________________________\n",
            "Epoch 1/1000\n",
            "1387/1387 [==============================] - 59s 41ms/step - loss: 7.7434 - val_loss: 1.5782\n",
            "Epoch 2/1000\n",
            "1387/1387 [==============================] - 19s 14ms/step - loss: 1.5516 - val_loss: 1.5862\n",
            "Epoch 3/1000\n",
            "1387/1387 [==============================] - 19s 14ms/step - loss: 1.5575 - val_loss: 1.5802\n",
            "Epoch 4/1000\n",
            "1387/1387 [==============================] - 19s 14ms/step - loss: 1.5599 - val_loss: 1.6539\n",
            "Epoch 5/1000\n",
            "1387/1387 [==============================] - 19s 14ms/step - loss: 1.5670 - val_loss: 1.6295\n",
            "Epoch 6/1000\n",
            "1387/1387 [==============================] - 19s 14ms/step - loss: 1.5669 - val_loss: 1.5990\n",
            "Epoch 7/1000\n",
            "1387/1387 [==============================] - 20s 14ms/step - loss: 1.5640 - val_loss: 1.5897\n",
            "Epoch 8/1000\n",
            "1387/1387 [==============================] - 19s 14ms/step - loss: 1.5624 - val_loss: 1.5823\n",
            "Epoch 9/1000\n",
            "1387/1387 [==============================] - 19s 14ms/step - loss: 1.5635 - val_loss: 1.5716\n",
            "Epoch 10/1000\n",
            "1387/1387 [==============================] - 20s 14ms/step - loss: 1.5614 - val_loss: 1.5901\n",
            "Epoch 11/1000\n",
            "1387/1387 [==============================] - 19s 14ms/step - loss: 1.5602 - val_loss: 1.6316\n",
            "Epoch 12/1000\n",
            "1387/1387 [==============================] - 20s 14ms/step - loss: 1.5645 - val_loss: 1.5830\n",
            "Epoch 13/1000\n",
            "1387/1387 [==============================] - 20s 14ms/step - loss: 1.5611 - val_loss: 1.5977\n",
            "Epoch 14/1000\n",
            "1387/1387 [==============================] - 20s 14ms/step - loss: 1.5673 - val_loss: 1.6380\n",
            "Epoch 15/1000\n",
            "1387/1387 [==============================] - 20s 14ms/step - loss: 1.5661 - val_loss: 1.6084\n",
            "Epoch 16/1000\n",
            "1387/1387 [==============================] - 19s 14ms/step - loss: 1.5652 - val_loss: 1.5972\n",
            "Epoch 17/1000\n",
            "1387/1387 [==============================] - 19s 14ms/step - loss: 1.5598 - val_loss: 1.5835\n",
            "Epoch 18/1000\n",
            "1387/1387 [==============================] - 19s 14ms/step - loss: 1.5634 - val_loss: 1.5941\n",
            "Epoch 19/1000\n",
            "1387/1387 [==============================] - 19s 14ms/step - loss: 1.5635 - val_loss: 1.6700\n",
            "Epoch 19: early stopping\n"
          ]
        }
      ]
    },
    {
      "cell_type": "code",
      "source": [
        "preds = model.predict(x_test)\n",
        "\n",
        "lg_score = nrmse(y_test, preds)\n",
        "print('NRMSE :', lg_score)"
      ],
      "metadata": {
        "id": "EglxxjA_kBLf",
        "outputId": "8563dcaa-be89-464e-ace3-703e7eee6c7a",
        "colab": {
          "base_uri": "https://localhost:8080/"
        }
      },
      "execution_count": 60,
      "outputs": [
        {
          "output_type": "stream",
          "name": "stdout",
          "text": [
            "NRMSE : 2.0577477779854334\n"
          ]
        }
      ]
    },
    {
      "cell_type": "code",
      "source": [
        "test_x = pd.read_csv('./drive/MyDrive/LG_Aimer/test.csv').drop(columns=['ID'])\n"
      ],
      "metadata": {
        "id": "w0gbchf2SQfw"
      },
      "execution_count": 11,
      "outputs": []
    },
    {
      "cell_type": "code",
      "source": [
        "preds = model.predict(test_x)"
      ],
      "metadata": {
        "id": "gi3oesbtSVtk"
      },
      "execution_count": 15,
      "outputs": []
    },
    {
      "cell_type": "code",
      "source": [
        "submit = pd.read_csv('./drive/MyDrive/LG_Aimer/sample_submission.csv')\n",
        "for idx, col in enumerate(submit.columns):\n",
        "    if col=='ID':\n",
        "        continue\n",
        "    submit[col] = preds[:,idx-1]\n",
        "print('Done.')\n",
        "submit.to_csv('./submit.csv', index=False)"
      ],
      "metadata": {
        "colab": {
          "base_uri": "https://localhost:8080/"
        },
        "id": "HMzjJwijjQxV",
        "outputId": "d5abe74f-fdf8-4405-ab6c-b389b394b098"
      },
      "execution_count": 16,
      "outputs": [
        {
          "output_type": "stream",
          "name": "stdout",
          "text": [
            "Done.\n"
          ]
        }
      ]
    },
    {
      "cell_type": "code",
      "source": [
        ""
      ],
      "metadata": {
        "id": "33_mSAw3SqtX"
      },
      "execution_count": null,
      "outputs": []
    }
  ]
}