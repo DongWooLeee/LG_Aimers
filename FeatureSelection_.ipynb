{
  "nbformat": 4,
  "nbformat_minor": 0,
  "metadata": {
    "colab": {
      "name": "FeatureSelection....ipynb",
      "provenance": [],
      "collapsed_sections": []
    },
    "kernelspec": {
      "name": "python3",
      "display_name": "Python 3"
    },
    "language_info": {
      "name": "python"
    }
  },
  "cells": [
    {
      "cell_type": "code",
      "execution_count": null,
      "metadata": {
        "colab": {
          "base_uri": "https://localhost:8080/"
        },
        "id": "laHN6Z7kwzjn",
        "outputId": "646b4f7a-19ca-4936-9f88-d57c97a616bd"
      },
      "outputs": [
        {
          "output_type": "stream",
          "name": "stdout",
          "text": [
            "Mounted at /content/drive/\n"
          ]
        }
      ],
      "source": [
        "from google.colab import drive\n",
        "drive.mount('/content/drive/')"
      ]
    },
    {
      "cell_type": "code",
      "source": [
        "import pandas as pd\n",
        "import random\n",
        "import os\n",
        "import numpy as np\n",
        "%matplotlib inline\n",
        "import seaborn as sns\n",
        "import matplotlib.pyplot as plt\n",
        "\n",
        "from sklearn.linear_model import LinearRegression\n",
        "from sklearn.multioutput import MultiOutputRegressor\n",
        "from sklearn.ensemble import RandomForestRegressor\n",
        "from sklearn.model_selection import train_test_split\n",
        "from sklearn.metrics import mean_squared_error\n",
        "from xgboost import XGBRegressor"
      ],
      "metadata": {
        "id": "lxRm91oOw0QD"
      },
      "execution_count": null,
      "outputs": []
    },
    {
      "cell_type": "code",
      "source": [
        "def seed_everything(seed):\n",
        "    random.seed(seed)\n",
        "    os.environ['PYTHONHASHSEED'] = str(seed)\n",
        "    np.random.seed(seed)\n",
        "seed_everything(42) # Seed 고정\n",
        "\n",
        "def lg_nrmse(gt, preds):\n",
        "    # 각 Y Feature별 NRMSE 총합\n",
        "    # Y_01 ~ Y_08 까지 20% 가중치 부여\n",
        "    all_nrmse = []\n",
        "    for idx in range(0,13): # ignore 'ID'\n",
        "        rmse = mean_squared_error(np.array(gt)[:,idx], preds[:,idx], squared=False)\n",
        "        nrmse = rmse/np.mean(np.abs(np.array(gt)[:,idx]))\n",
        "        all_nrmse.append(nrmse)\n",
        "    score = 1.2 * np.sum(all_nrmse[:8]) + 1.0 * np.sum(all_nrmse[8:15])\n",
        "    return score"
      ],
      "metadata": {
        "id": "WwhA6IA0w6og"
      },
      "execution_count": null,
      "outputs": []
    },
    {
      "cell_type": "code",
      "source": [
        "train_df = pd.read_csv('/content/drive/MyDrive/LG Aimer/train.csv').drop(columns=\"ID\")\n",
        "train_x = train_df.filter(regex='X') # Input : X Featrue\n",
        "train_y = train_df.filter(regex='Y') # Output : Y Feature"
      ],
      "metadata": {
        "id": "oW4WlRJkw7mz"
      },
      "execution_count": null,
      "outputs": []
    },
    {
      "cell_type": "code",
      "source": [
        "train_x = train_x.drop(columns=['X_04','X_23','X_47','X_48'])\n",
        "train_x=train_x[['X_03','X_05','X_07','X_08','X_09','X_10','X_11','X_13','X_14','X_17','X_18','X_19','X_20','X_21','X_22','X_30','X_32','X_49','X_50','X_51','X_52','X_53','X_54','X_55','X_56']]"
      ],
      "metadata": {
        "id": "O8IthnkCxEhm"
      },
      "execution_count": null,
      "outputs": []
    },
    {
      "cell_type": "code",
      "source": [
        "#xgboost\n",
        "\n",
        "x_train, x_test, y_train, y_test = train_test_split(train_x, train_y, test_size = 0.3, random_state=42)\n",
        "\n",
        "model = MultiOutputRegressor(XGBRegressor(n_estimators=200, learning_rate=0.05, gamma=1, subsample=0.75,\n",
        "                           colsample_bytree=1, max_depth=7))\n",
        "model.fit(x_train, y_train)\n",
        "\n",
        "y_predict = model.predict(x_test)\n",
        "\n",
        "score = lg_nrmse(y_test,y_predict)\n",
        "print(score)"
      ],
      "metadata": {
        "colab": {
          "base_uri": "https://localhost:8080/"
        },
        "id": "RXrf54Iu-V1P",
        "outputId": "f87551b7-e3c5-48cd-c7d4-2cbc913400ee"
      },
      "execution_count": null,
      "outputs": [
        {
          "output_type": "stream",
          "name": "stdout",
          "text": [
            "[08:04:57] WARNING: /workspace/src/objective/regression_obj.cu:152: reg:linear is now deprecated in favor of reg:squarederror.\n",
            "[08:05:22] WARNING: /workspace/src/objective/regression_obj.cu:152: reg:linear is now deprecated in favor of reg:squarederror.\n",
            "[08:05:53] WARNING: /workspace/src/objective/regression_obj.cu:152: reg:linear is now deprecated in favor of reg:squarederror.\n",
            "[08:06:21] WARNING: /workspace/src/objective/regression_obj.cu:152: reg:linear is now deprecated in favor of reg:squarederror.\n",
            "[08:06:50] WARNING: /workspace/src/objective/regression_obj.cu:152: reg:linear is now deprecated in favor of reg:squarederror.\n",
            "[08:07:15] WARNING: /workspace/src/objective/regression_obj.cu:152: reg:linear is now deprecated in favor of reg:squarederror.\n",
            "[08:07:35] WARNING: /workspace/src/objective/regression_obj.cu:152: reg:linear is now deprecated in favor of reg:squarederror.\n",
            "[08:07:52] WARNING: /workspace/src/objective/regression_obj.cu:152: reg:linear is now deprecated in favor of reg:squarederror.\n",
            "[08:08:07] WARNING: /workspace/src/objective/regression_obj.cu:152: reg:linear is now deprecated in favor of reg:squarederror.\n",
            "[08:08:22] WARNING: /workspace/src/objective/regression_obj.cu:152: reg:linear is now deprecated in favor of reg:squarederror.\n",
            "[08:08:46] WARNING: /workspace/src/objective/regression_obj.cu:152: reg:linear is now deprecated in favor of reg:squarederror.\n",
            "[08:09:03] WARNING: /workspace/src/objective/regression_obj.cu:152: reg:linear is now deprecated in favor of reg:squarederror.\n",
            "[08:09:18] WARNING: /workspace/src/objective/regression_obj.cu:152: reg:linear is now deprecated in favor of reg:squarederror.\n",
            "[08:09:36] WARNING: /workspace/src/objective/regression_obj.cu:152: reg:linear is now deprecated in favor of reg:squarederror.\n",
            "1.9426425412471673\n"
          ]
        }
      ]
    },
    {
      "cell_type": "code",
      "source": [
        "#randomforest\n",
        "\n",
        "x_train, x_test, y_train, y_test = train_test_split(train_x, train_y, test_size = 0.3, random_state=42)\n",
        "\n",
        "model = MultiOutputRegressor(RandomForestRegressor(n_estimators=300, n_jobs=-1))\n",
        "model.fit(x_train, y_train)\n",
        "\n",
        "y_predict = model.predict(x_test)\n",
        "\n",
        "score = lg_nrmse(y_test,y_predict)\n",
        "print(score)"
      ],
      "metadata": {
        "colab": {
          "base_uri": "https://localhost:8080/"
        },
        "id": "BYZJsLhb-_Cs",
        "outputId": "26ba902b-de81-475c-f89e-e1856064aac2"
      },
      "execution_count": null,
      "outputs": [
        {
          "output_type": "stream",
          "name": "stdout",
          "text": [
            "1.9418420327153105\n"
          ]
        }
      ]
    },
    {
      "cell_type": "code",
      "source": [
        "#lgbm\n",
        "import lightgbm as lgb\n",
        "x_train, x_test, y_train, y_test = train_test_split(train_x, train_y, test_size = 0.3, random_state=42)\n",
        "lightgb = lgb.LGBMRegressor(objective='regression', learning_rate=0.1, num_leaves = 25)\n",
        "model = MultiOutputRegressor(lightgb)\n",
        "model.fit(x_train, y_train)\n",
        "\n",
        "y_predict = model.predict(x_test)\n",
        "\n",
        "score = lg_nrmse(y_test,y_predict)\n",
        "print(score)"
      ],
      "metadata": {
        "colab": {
          "base_uri": "https://localhost:8080/"
        },
        "id": "iIyUAwcJ_gqf",
        "outputId": "7f852e4c-3e92-4563-a604-9b0a4cb9919a"
      },
      "execution_count": null,
      "outputs": [
        {
          "output_type": "stream",
          "name": "stdout",
          "text": [
            "1.9445237637921848\n"
          ]
        }
      ]
    },
    {
      "cell_type": "code",
      "source": [
        "#xgboost\n",
        "x_temp =train_x.drop(columns=['X_10','X_11'])\n",
        "x_train, x_test, y_train, y_test = train_test_split(x_temp, train_y, test_size = 0.3, random_state=42)\n",
        "\n",
        "model = MultiOutputRegressor(XGBRegressor(n_estimators=200, learning_rate=0.05, gamma=1, subsample=0.75,\n",
        "                           colsample_bytree=1, max_depth=7))\n",
        "model.fit(x_train, y_train)\n",
        "\n",
        "y_predict = model.predict(x_test)\n",
        "\n",
        "score = lg_nrmse(y_test,y_predict)\n",
        "print(score)"
      ],
      "metadata": {
        "colab": {
          "base_uri": "https://localhost:8080/"
        },
        "id": "9ETNCZMJ_hGk",
        "outputId": "c6a7e48a-4683-4a8b-f616-bb6ed9c50e72"
      },
      "execution_count": null,
      "outputs": [
        {
          "output_type": "stream",
          "name": "stdout",
          "text": [
            "[09:10:16] WARNING: /workspace/src/objective/regression_obj.cu:152: reg:linear is now deprecated in favor of reg:squarederror.\n",
            "[09:10:39] WARNING: /workspace/src/objective/regression_obj.cu:152: reg:linear is now deprecated in favor of reg:squarederror.\n",
            "[09:10:55] WARNING: /workspace/src/objective/regression_obj.cu:152: reg:linear is now deprecated in favor of reg:squarederror.\n",
            "[09:11:12] WARNING: /workspace/src/objective/regression_obj.cu:152: reg:linear is now deprecated in favor of reg:squarederror.\n",
            "[09:11:28] WARNING: /workspace/src/objective/regression_obj.cu:152: reg:linear is now deprecated in favor of reg:squarederror.\n",
            "[09:11:44] WARNING: /workspace/src/objective/regression_obj.cu:152: reg:linear is now deprecated in favor of reg:squarederror.\n",
            "[09:12:00] WARNING: /workspace/src/objective/regression_obj.cu:152: reg:linear is now deprecated in favor of reg:squarederror.\n",
            "[09:12:16] WARNING: /workspace/src/objective/regression_obj.cu:152: reg:linear is now deprecated in favor of reg:squarederror.\n",
            "[09:12:31] WARNING: /workspace/src/objective/regression_obj.cu:152: reg:linear is now deprecated in favor of reg:squarederror.\n",
            "[09:12:45] WARNING: /workspace/src/objective/regression_obj.cu:152: reg:linear is now deprecated in favor of reg:squarederror.\n",
            "[09:13:03] WARNING: /workspace/src/objective/regression_obj.cu:152: reg:linear is now deprecated in favor of reg:squarederror.\n",
            "[09:13:17] WARNING: /workspace/src/objective/regression_obj.cu:152: reg:linear is now deprecated in favor of reg:squarederror.\n",
            "[09:13:31] WARNING: /workspace/src/objective/regression_obj.cu:152: reg:linear is now deprecated in favor of reg:squarederror.\n",
            "[09:13:45] WARNING: /workspace/src/objective/regression_obj.cu:152: reg:linear is now deprecated in favor of reg:squarederror.\n",
            "1.9427390478336046\n"
          ]
        }
      ]
    },
    {
      "cell_type": "code",
      "source": [
        "#lgbm\n",
        "import lightgbm as lgb\n",
        "x_train, x_test, y_train, y_test = train_test_split(x_temp, train_y, test_size = 0.3, random_state=42)\n",
        "lightgb = lgb.LGBMRegressor(objective='regression', learning_rate=0.1, num_leaves = 25)\n",
        "model = MultiOutputRegressor(lightgb)\n",
        "model.fit(x_train, y_train)\n",
        "\n",
        "y_predict = model.predict(x_test)\n",
        "\n",
        "score = lg_nrmse(y_test,y_predict)\n",
        "print(score)"
      ],
      "metadata": {
        "colab": {
          "base_uri": "https://localhost:8080/"
        },
        "id": "OjRFz2e9-V6a",
        "outputId": "97e0000c-37ad-4ead-9295-3b92bd7309f9"
      },
      "execution_count": null,
      "outputs": [
        {
          "output_type": "stream",
          "name": "stdout",
          "text": [
            "1.9438635871265932\n"
          ]
        }
      ]
    },
    {
      "cell_type": "code",
      "source": [
        "#randomforest\n",
        "\n",
        "x_train, x_test, y_train, y_test = train_test_split(x_temp, train_y, test_size = 0.3, random_state=42)\n",
        "\n",
        "model = MultiOutputRegressor(RandomForestRegressor(n_estimators=300, n_jobs=-1))\n",
        "model.fit(x_train, y_train)\n",
        "\n",
        "y_predict = model.predict(x_test)\n",
        "\n",
        "score = lg_nrmse(y_test,y_predict)\n",
        "print(score)"
      ],
      "metadata": {
        "colab": {
          "base_uri": "https://localhost:8080/"
        },
        "id": "sUyKhQjy-V8Z",
        "outputId": "847812c1-4129-4492-95ee-4d79c50982b6"
      },
      "execution_count": null,
      "outputs": [
        {
          "output_type": "stream",
          "name": "stdout",
          "text": [
            "1.9421188919622998\n"
          ]
        }
      ]
    },
    {
      "cell_type": "code",
      "source": [
        "x_temp"
      ],
      "metadata": {
        "colab": {
          "base_uri": "https://localhost:8080/",
          "height": 488
        },
        "id": "7siLDKS4kvxt",
        "outputId": "b71db067-1d66-467a-f4aa-22db6750675a"
      },
      "execution_count": null,
      "outputs": [
        {
          "output_type": "execute_result",
          "data": {
            "text/plain": [
              "        X_03     X_05   X_07    X_08    X_09  X_13   X_14   X_17   X_18  X_19  \\\n",
              "0      67.47  101.892  29.45   62.38  245.71  0.18  13.34  13.52  13.44  3.11   \n",
              "1      65.17  101.944  28.73   61.23  233.61  0.18  13.33  13.51  13.42  2.97   \n",
              "2      64.07  103.153  28.81  105.77  272.20  0.15  13.36  13.51  13.43  3.04   \n",
              "3      67.57  101.971  28.92  115.21  255.36  0.21  13.30  13.51  13.40  3.05   \n",
              "4      63.57  101.981  29.68  103.38  241.46  0.16  13.35  13.50  13.42  3.04   \n",
              "...      ...      ...    ...     ...     ...   ...    ...    ...    ...   ...   \n",
              "39602  62.27  103.150  30.20   77.83  298.05  0.15  13.37  13.52  13.46  3.20   \n",
              "39603  62.77  102.021  29.21  102.25  270.67  0.13  13.36  13.49  13.44  3.15   \n",
              "39604  64.67  103.144  29.96  102.61  198.07  0.14  13.38  13.52  13.46  3.23   \n",
              "39605  63.67  102.025  30.30  112.60  275.52  0.16  13.36  13.52  13.46  3.18   \n",
              "39606  65.67  102.004  30.16  112.90  276.06  0.14  13.39  13.52  13.47  3.11   \n",
              "\n",
              "       ...  X_30  X_32      X_49        X_50        X_51        X_52  \\\n",
              "0      ...  1.49  1.46   9706.03  137.043591  135.359219  147.837968   \n",
              "1      ...  1.49  1.45  10423.43  133.736691  135.979817  149.924692   \n",
              "2      ...  1.49  1.46  10948.53  132.805112  131.055355  146.814592   \n",
              "3      ...  1.47  1.47  15007.03  134.138760  133.239422  139.720132   \n",
              "4      ...  1.49  1.47  11051.03  142.728970  136.620022  134.853555   \n",
              "...    ...   ...   ...       ...         ...         ...         ...   \n",
              "39602  ...  1.37  1.36  60630.73  129.965741  130.807148  133.481737   \n",
              "39603  ...  1.40  1.37  60763.43  127.633885  120.158764  142.667802   \n",
              "39604  ...  1.39  1.37   8813.33  132.501286  136.893025  134.419328   \n",
              "39605  ...  1.37  1.36  62222.33  128.189679  121.495930  141.288011   \n",
              "39606  ...  1.39  1.36  62172.23  135.096272  122.988476  142.019357   \n",
              "\n",
              "             X_53        X_54        X_55        X_56  \n",
              "0      134.313475  125.605427  136.721425  125.028256  \n",
              "1      123.630583  127.893337  143.322659  124.877308  \n",
              "2      128.939070  127.012195  140.395688  122.238232  \n",
              "3      132.260824  130.723186  147.624829  134.875225  \n",
              "4      134.760252  125.647793  139.331105  123.272762  \n",
              "...           ...         ...         ...         ...  \n",
              "39602  125.273130  121.780933  133.780110  129.029812  \n",
              "39603  122.465490  122.987209  143.090741  122.811413  \n",
              "39604  129.115431  130.920147  140.489232  119.166699  \n",
              "39605  130.141676  125.518825  136.603634  124.525929  \n",
              "39606  123.752157  130.648365  139.695370  136.714504  \n",
              "\n",
              "[39607 rows x 23 columns]"
            ],
            "text/html": [
              "\n",
              "  <div id=\"df-17d925d8-5135-4e45-94f1-b5596a38faaf\">\n",
              "    <div class=\"colab-df-container\">\n",
              "      <div>\n",
              "<style scoped>\n",
              "    .dataframe tbody tr th:only-of-type {\n",
              "        vertical-align: middle;\n",
              "    }\n",
              "\n",
              "    .dataframe tbody tr th {\n",
              "        vertical-align: top;\n",
              "    }\n",
              "\n",
              "    .dataframe thead th {\n",
              "        text-align: right;\n",
              "    }\n",
              "</style>\n",
              "<table border=\"1\" class=\"dataframe\">\n",
              "  <thead>\n",
              "    <tr style=\"text-align: right;\">\n",
              "      <th></th>\n",
              "      <th>X_03</th>\n",
              "      <th>X_05</th>\n",
              "      <th>X_07</th>\n",
              "      <th>X_08</th>\n",
              "      <th>X_09</th>\n",
              "      <th>X_13</th>\n",
              "      <th>X_14</th>\n",
              "      <th>X_17</th>\n",
              "      <th>X_18</th>\n",
              "      <th>X_19</th>\n",
              "      <th>...</th>\n",
              "      <th>X_30</th>\n",
              "      <th>X_32</th>\n",
              "      <th>X_49</th>\n",
              "      <th>X_50</th>\n",
              "      <th>X_51</th>\n",
              "      <th>X_52</th>\n",
              "      <th>X_53</th>\n",
              "      <th>X_54</th>\n",
              "      <th>X_55</th>\n",
              "      <th>X_56</th>\n",
              "    </tr>\n",
              "  </thead>\n",
              "  <tbody>\n",
              "    <tr>\n",
              "      <th>0</th>\n",
              "      <td>67.47</td>\n",
              "      <td>101.892</td>\n",
              "      <td>29.45</td>\n",
              "      <td>62.38</td>\n",
              "      <td>245.71</td>\n",
              "      <td>0.18</td>\n",
              "      <td>13.34</td>\n",
              "      <td>13.52</td>\n",
              "      <td>13.44</td>\n",
              "      <td>3.11</td>\n",
              "      <td>...</td>\n",
              "      <td>1.49</td>\n",
              "      <td>1.46</td>\n",
              "      <td>9706.03</td>\n",
              "      <td>137.043591</td>\n",
              "      <td>135.359219</td>\n",
              "      <td>147.837968</td>\n",
              "      <td>134.313475</td>\n",
              "      <td>125.605427</td>\n",
              "      <td>136.721425</td>\n",
              "      <td>125.028256</td>\n",
              "    </tr>\n",
              "    <tr>\n",
              "      <th>1</th>\n",
              "      <td>65.17</td>\n",
              "      <td>101.944</td>\n",
              "      <td>28.73</td>\n",
              "      <td>61.23</td>\n",
              "      <td>233.61</td>\n",
              "      <td>0.18</td>\n",
              "      <td>13.33</td>\n",
              "      <td>13.51</td>\n",
              "      <td>13.42</td>\n",
              "      <td>2.97</td>\n",
              "      <td>...</td>\n",
              "      <td>1.49</td>\n",
              "      <td>1.45</td>\n",
              "      <td>10423.43</td>\n",
              "      <td>133.736691</td>\n",
              "      <td>135.979817</td>\n",
              "      <td>149.924692</td>\n",
              "      <td>123.630583</td>\n",
              "      <td>127.893337</td>\n",
              "      <td>143.322659</td>\n",
              "      <td>124.877308</td>\n",
              "    </tr>\n",
              "    <tr>\n",
              "      <th>2</th>\n",
              "      <td>64.07</td>\n",
              "      <td>103.153</td>\n",
              "      <td>28.81</td>\n",
              "      <td>105.77</td>\n",
              "      <td>272.20</td>\n",
              "      <td>0.15</td>\n",
              "      <td>13.36</td>\n",
              "      <td>13.51</td>\n",
              "      <td>13.43</td>\n",
              "      <td>3.04</td>\n",
              "      <td>...</td>\n",
              "      <td>1.49</td>\n",
              "      <td>1.46</td>\n",
              "      <td>10948.53</td>\n",
              "      <td>132.805112</td>\n",
              "      <td>131.055355</td>\n",
              "      <td>146.814592</td>\n",
              "      <td>128.939070</td>\n",
              "      <td>127.012195</td>\n",
              "      <td>140.395688</td>\n",
              "      <td>122.238232</td>\n",
              "    </tr>\n",
              "    <tr>\n",
              "      <th>3</th>\n",
              "      <td>67.57</td>\n",
              "      <td>101.971</td>\n",
              "      <td>28.92</td>\n",
              "      <td>115.21</td>\n",
              "      <td>255.36</td>\n",
              "      <td>0.21</td>\n",
              "      <td>13.30</td>\n",
              "      <td>13.51</td>\n",
              "      <td>13.40</td>\n",
              "      <td>3.05</td>\n",
              "      <td>...</td>\n",
              "      <td>1.47</td>\n",
              "      <td>1.47</td>\n",
              "      <td>15007.03</td>\n",
              "      <td>134.138760</td>\n",
              "      <td>133.239422</td>\n",
              "      <td>139.720132</td>\n",
              "      <td>132.260824</td>\n",
              "      <td>130.723186</td>\n",
              "      <td>147.624829</td>\n",
              "      <td>134.875225</td>\n",
              "    </tr>\n",
              "    <tr>\n",
              "      <th>4</th>\n",
              "      <td>63.57</td>\n",
              "      <td>101.981</td>\n",
              "      <td>29.68</td>\n",
              "      <td>103.38</td>\n",
              "      <td>241.46</td>\n",
              "      <td>0.16</td>\n",
              "      <td>13.35</td>\n",
              "      <td>13.50</td>\n",
              "      <td>13.42</td>\n",
              "      <td>3.04</td>\n",
              "      <td>...</td>\n",
              "      <td>1.49</td>\n",
              "      <td>1.47</td>\n",
              "      <td>11051.03</td>\n",
              "      <td>142.728970</td>\n",
              "      <td>136.620022</td>\n",
              "      <td>134.853555</td>\n",
              "      <td>134.760252</td>\n",
              "      <td>125.647793</td>\n",
              "      <td>139.331105</td>\n",
              "      <td>123.272762</td>\n",
              "    </tr>\n",
              "    <tr>\n",
              "      <th>...</th>\n",
              "      <td>...</td>\n",
              "      <td>...</td>\n",
              "      <td>...</td>\n",
              "      <td>...</td>\n",
              "      <td>...</td>\n",
              "      <td>...</td>\n",
              "      <td>...</td>\n",
              "      <td>...</td>\n",
              "      <td>...</td>\n",
              "      <td>...</td>\n",
              "      <td>...</td>\n",
              "      <td>...</td>\n",
              "      <td>...</td>\n",
              "      <td>...</td>\n",
              "      <td>...</td>\n",
              "      <td>...</td>\n",
              "      <td>...</td>\n",
              "      <td>...</td>\n",
              "      <td>...</td>\n",
              "      <td>...</td>\n",
              "      <td>...</td>\n",
              "    </tr>\n",
              "    <tr>\n",
              "      <th>39602</th>\n",
              "      <td>62.27</td>\n",
              "      <td>103.150</td>\n",
              "      <td>30.20</td>\n",
              "      <td>77.83</td>\n",
              "      <td>298.05</td>\n",
              "      <td>0.15</td>\n",
              "      <td>13.37</td>\n",
              "      <td>13.52</td>\n",
              "      <td>13.46</td>\n",
              "      <td>3.20</td>\n",
              "      <td>...</td>\n",
              "      <td>1.37</td>\n",
              "      <td>1.36</td>\n",
              "      <td>60630.73</td>\n",
              "      <td>129.965741</td>\n",
              "      <td>130.807148</td>\n",
              "      <td>133.481737</td>\n",
              "      <td>125.273130</td>\n",
              "      <td>121.780933</td>\n",
              "      <td>133.780110</td>\n",
              "      <td>129.029812</td>\n",
              "    </tr>\n",
              "    <tr>\n",
              "      <th>39603</th>\n",
              "      <td>62.77</td>\n",
              "      <td>102.021</td>\n",
              "      <td>29.21</td>\n",
              "      <td>102.25</td>\n",
              "      <td>270.67</td>\n",
              "      <td>0.13</td>\n",
              "      <td>13.36</td>\n",
              "      <td>13.49</td>\n",
              "      <td>13.44</td>\n",
              "      <td>3.15</td>\n",
              "      <td>...</td>\n",
              "      <td>1.40</td>\n",
              "      <td>1.37</td>\n",
              "      <td>60763.43</td>\n",
              "      <td>127.633885</td>\n",
              "      <td>120.158764</td>\n",
              "      <td>142.667802</td>\n",
              "      <td>122.465490</td>\n",
              "      <td>122.987209</td>\n",
              "      <td>143.090741</td>\n",
              "      <td>122.811413</td>\n",
              "    </tr>\n",
              "    <tr>\n",
              "      <th>39604</th>\n",
              "      <td>64.67</td>\n",
              "      <td>103.144</td>\n",
              "      <td>29.96</td>\n",
              "      <td>102.61</td>\n",
              "      <td>198.07</td>\n",
              "      <td>0.14</td>\n",
              "      <td>13.38</td>\n",
              "      <td>13.52</td>\n",
              "      <td>13.46</td>\n",
              "      <td>3.23</td>\n",
              "      <td>...</td>\n",
              "      <td>1.39</td>\n",
              "      <td>1.37</td>\n",
              "      <td>8813.33</td>\n",
              "      <td>132.501286</td>\n",
              "      <td>136.893025</td>\n",
              "      <td>134.419328</td>\n",
              "      <td>129.115431</td>\n",
              "      <td>130.920147</td>\n",
              "      <td>140.489232</td>\n",
              "      <td>119.166699</td>\n",
              "    </tr>\n",
              "    <tr>\n",
              "      <th>39605</th>\n",
              "      <td>63.67</td>\n",
              "      <td>102.025</td>\n",
              "      <td>30.30</td>\n",
              "      <td>112.60</td>\n",
              "      <td>275.52</td>\n",
              "      <td>0.16</td>\n",
              "      <td>13.36</td>\n",
              "      <td>13.52</td>\n",
              "      <td>13.46</td>\n",
              "      <td>3.18</td>\n",
              "      <td>...</td>\n",
              "      <td>1.37</td>\n",
              "      <td>1.36</td>\n",
              "      <td>62222.33</td>\n",
              "      <td>128.189679</td>\n",
              "      <td>121.495930</td>\n",
              "      <td>141.288011</td>\n",
              "      <td>130.141676</td>\n",
              "      <td>125.518825</td>\n",
              "      <td>136.603634</td>\n",
              "      <td>124.525929</td>\n",
              "    </tr>\n",
              "    <tr>\n",
              "      <th>39606</th>\n",
              "      <td>65.67</td>\n",
              "      <td>102.004</td>\n",
              "      <td>30.16</td>\n",
              "      <td>112.90</td>\n",
              "      <td>276.06</td>\n",
              "      <td>0.14</td>\n",
              "      <td>13.39</td>\n",
              "      <td>13.52</td>\n",
              "      <td>13.47</td>\n",
              "      <td>3.11</td>\n",
              "      <td>...</td>\n",
              "      <td>1.39</td>\n",
              "      <td>1.36</td>\n",
              "      <td>62172.23</td>\n",
              "      <td>135.096272</td>\n",
              "      <td>122.988476</td>\n",
              "      <td>142.019357</td>\n",
              "      <td>123.752157</td>\n",
              "      <td>130.648365</td>\n",
              "      <td>139.695370</td>\n",
              "      <td>136.714504</td>\n",
              "    </tr>\n",
              "  </tbody>\n",
              "</table>\n",
              "<p>39607 rows × 23 columns</p>\n",
              "</div>\n",
              "      <button class=\"colab-df-convert\" onclick=\"convertToInteractive('df-17d925d8-5135-4e45-94f1-b5596a38faaf')\"\n",
              "              title=\"Convert this dataframe to an interactive table.\"\n",
              "              style=\"display:none;\">\n",
              "        \n",
              "  <svg xmlns=\"http://www.w3.org/2000/svg\" height=\"24px\"viewBox=\"0 0 24 24\"\n",
              "       width=\"24px\">\n",
              "    <path d=\"M0 0h24v24H0V0z\" fill=\"none\"/>\n",
              "    <path d=\"M18.56 5.44l.94 2.06.94-2.06 2.06-.94-2.06-.94-.94-2.06-.94 2.06-2.06.94zm-11 1L8.5 8.5l.94-2.06 2.06-.94-2.06-.94L8.5 2.5l-.94 2.06-2.06.94zm10 10l.94 2.06.94-2.06 2.06-.94-2.06-.94-.94-2.06-.94 2.06-2.06.94z\"/><path d=\"M17.41 7.96l-1.37-1.37c-.4-.4-.92-.59-1.43-.59-.52 0-1.04.2-1.43.59L10.3 9.45l-7.72 7.72c-.78.78-.78 2.05 0 2.83L4 21.41c.39.39.9.59 1.41.59.51 0 1.02-.2 1.41-.59l7.78-7.78 2.81-2.81c.8-.78.8-2.07 0-2.86zM5.41 20L4 18.59l7.72-7.72 1.47 1.35L5.41 20z\"/>\n",
              "  </svg>\n",
              "      </button>\n",
              "      \n",
              "  <style>\n",
              "    .colab-df-container {\n",
              "      display:flex;\n",
              "      flex-wrap:wrap;\n",
              "      gap: 12px;\n",
              "    }\n",
              "\n",
              "    .colab-df-convert {\n",
              "      background-color: #E8F0FE;\n",
              "      border: none;\n",
              "      border-radius: 50%;\n",
              "      cursor: pointer;\n",
              "      display: none;\n",
              "      fill: #1967D2;\n",
              "      height: 32px;\n",
              "      padding: 0 0 0 0;\n",
              "      width: 32px;\n",
              "    }\n",
              "\n",
              "    .colab-df-convert:hover {\n",
              "      background-color: #E2EBFA;\n",
              "      box-shadow: 0px 1px 2px rgba(60, 64, 67, 0.3), 0px 1px 3px 1px rgba(60, 64, 67, 0.15);\n",
              "      fill: #174EA6;\n",
              "    }\n",
              "\n",
              "    [theme=dark] .colab-df-convert {\n",
              "      background-color: #3B4455;\n",
              "      fill: #D2E3FC;\n",
              "    }\n",
              "\n",
              "    [theme=dark] .colab-df-convert:hover {\n",
              "      background-color: #434B5C;\n",
              "      box-shadow: 0px 1px 3px 1px rgba(0, 0, 0, 0.15);\n",
              "      filter: drop-shadow(0px 1px 2px rgba(0, 0, 0, 0.3));\n",
              "      fill: #FFFFFF;\n",
              "    }\n",
              "  </style>\n",
              "\n",
              "      <script>\n",
              "        const buttonEl =\n",
              "          document.querySelector('#df-17d925d8-5135-4e45-94f1-b5596a38faaf button.colab-df-convert');\n",
              "        buttonEl.style.display =\n",
              "          google.colab.kernel.accessAllowed ? 'block' : 'none';\n",
              "\n",
              "        async function convertToInteractive(key) {\n",
              "          const element = document.querySelector('#df-17d925d8-5135-4e45-94f1-b5596a38faaf');\n",
              "          const dataTable =\n",
              "            await google.colab.kernel.invokeFunction('convertToInteractive',\n",
              "                                                     [key], {});\n",
              "          if (!dataTable) return;\n",
              "\n",
              "          const docLinkHtml = 'Like what you see? Visit the ' +\n",
              "            '<a target=\"_blank\" href=https://colab.research.google.com/notebooks/data_table.ipynb>data table notebook</a>'\n",
              "            + ' to learn more about interactive tables.';\n",
              "          element.innerHTML = '';\n",
              "          dataTable['output_type'] = 'display_data';\n",
              "          await google.colab.output.renderOutput(dataTable, element);\n",
              "          const docLink = document.createElement('div');\n",
              "          docLink.innerHTML = docLinkHtml;\n",
              "          element.appendChild(docLink);\n",
              "        }\n",
              "      </script>\n",
              "    </div>\n",
              "  </div>\n",
              "  "
            ]
          },
          "metadata": {},
          "execution_count": 19
        }
      ]
    },
    {
      "cell_type": "code",
      "source": [
        "from sklearn.model_selection import RandomizedSearchCV\n",
        "from sklearn.model_selection import cross_val_score\n",
        "x_train, x_test, y_train, y_test = train_test_split(train_x, train_y, test_size = 0.3, random_state=42)\n",
        "\n",
        "random_search = {\n",
        "               'max_depth': [2],\n",
        "               'max_features': ['auto', 'sqrt'],\n",
        "               'min_samples_leaf': [4, 6, 8],\n",
        "               'min_samples_split': [5, 7,10],\n",
        "               'n_estimators': [100,200,300]}\n",
        "rf=RandomForestRegressor()\n",
        "model_rf = RandomizedSearchCV(estimator = rf, param_distributions = random_search, n_iter = 10, \n",
        "                               cv = 4, verbose= 1, random_state= 10, n_jobs = -1)\n",
        "model_rf.fit(x_train,y_train)\n",
        "\n"
      ],
      "metadata": {
        "colab": {
          "base_uri": "https://localhost:8080/"
        },
        "id": "ju9BGkw4-V-V",
        "outputId": "413a7d36-6e5d-438a-90db-4f8e2ea55e06"
      },
      "execution_count": null,
      "outputs": [
        {
          "output_type": "stream",
          "name": "stdout",
          "text": [
            "Fitting 4 folds for each of 10 candidates, totalling 40 fits\n"
          ]
        },
        {
          "output_type": "execute_result",
          "data": {
            "text/plain": [
              "RandomizedSearchCV(cv=4, estimator=RandomForestRegressor(), n_jobs=-1,\n",
              "                   param_distributions={'max_depth': [2],\n",
              "                                        'max_features': ['auto', 'sqrt'],\n",
              "                                        'min_samples_leaf': [4, 6, 8],\n",
              "                                        'min_samples_split': [5, 7, 10],\n",
              "                                        'n_estimators': [100, 200, 300]},\n",
              "                   random_state=10, verbose=1)"
            ]
          },
          "metadata": {},
          "execution_count": 40
        }
      ]
    },
    {
      "cell_type": "code",
      "source": [
        "random_rf = model_rf.best_estimator_.predict(x_test)\n",
        "print(model_rf.best_params_)"
      ],
      "metadata": {
        "colab": {
          "base_uri": "https://localhost:8080/"
        },
        "id": "jPImkUtY-WBX",
        "outputId": "025e8881-eafc-4760-a026-337ad8ed528b"
      },
      "execution_count": null,
      "outputs": [
        {
          "output_type": "stream",
          "name": "stdout",
          "text": [
            "{'n_estimators': 100, 'min_samples_split': 7, 'min_samples_leaf': 4, 'max_features': 'auto', 'max_depth': 2}\n"
          ]
        }
      ]
    },
    {
      "cell_type": "code",
      "source": [
        "x_train, x_test, y_train, y_test = train_test_split(train_x, train_y, test_size = 0.3, random_state=42)\n"
      ],
      "metadata": {
        "id": "m0SrCcL_ozjD"
      },
      "execution_count": null,
      "outputs": []
    },
    {
      "cell_type": "code",
      "source": [
        ""
      ],
      "metadata": {
        "id": "Wl-LOrh25a2Q"
      },
      "execution_count": null,
      "outputs": []
    },
    {
      "cell_type": "code",
      "source": [
        "random_search.best_params_"
      ],
      "metadata": {
        "colab": {
          "base_uri": "https://localhost:8080/"
        },
        "id": "FCk-fX18-WEN",
        "outputId": "3a66ead8-32ee-4fb6-99f4-b46650596e74"
      },
      "execution_count": null,
      "outputs": [
        {
          "output_type": "execute_result",
          "data": {
            "text/plain": [
              "{'subsample': 0.6,\n",
              " 'objective': 'reg:squarederror',\n",
              " 'n_estimators': 500,\n",
              " 'min_child_weight': 5,\n",
              " 'max_depth': 2,\n",
              " 'gamma': 0.4,\n",
              " 'eval_metric': 'rmse',\n",
              " 'eta': 0.4,\n",
              " 'colsample_bytree': 0.6,\n",
              " 'booster': 'gblinear'}"
            ]
          },
          "metadata": {},
          "execution_count": 32
        }
      ]
    },
    {
      "cell_type": "code",
      "source": [
        "x_train, x_test, y_train, y_test = train_test_split(train_x, train_y, test_size = 0.3, random_state=42)\n"
      ],
      "metadata": {
        "id": "YXUDeR2r5b1z"
      },
      "execution_count": null,
      "outputs": []
    },
    {
      "cell_type": "code",
      "source": [
        "from xgboost import XGBRegressor\n",
        "from sklearn.model_selection import RandomizedSearchCV,GridSearchCV\n",
        "\n",
        "\n",
        "grid_search_xgb = {\n",
        "    'n_estimators':[200,300,400],\n",
        "    'min_child_weight':[4,5], \n",
        "    'gamma':[i/10.0 for i in range(3,6)],  \n",
        "    'subsample':[i/10.0 for i in range(6,11)],\n",
        "    'colsample_bytree':[i/10.0 for i in range(6,11)], \n",
        "    'max_depth': [2,3,4,6,7],\n",
        "    'objective': ['reg:squarederror', 'reg:tweedie'],\n",
        "    'booster': ['gbtree', 'gblinear'],\n",
        "    'eval_metric': ['rmse'],\n",
        "    'eta': [i/10.0 for i in range(3,6)]\n",
        "}\n",
        "\n",
        "reg = XGBRegressor()\n",
        "\n",
        "# run randomized search\n",
        "n_iter_search = 10\n",
        "model_xgb = GridSearchCV(reg, grid_search_xgb,\n",
        "                                    cv=4,verbose=1,n_jobs=-1)\n",
        "model_xgb.fit(x_train, y_train)\n",
        "\n",
        "print(model_xgb.best_params_)\n",
        "\n"
      ],
      "metadata": {
        "colab": {
          "base_uri": "https://localhost:8080/",
          "height": 1000
        },
        "id": "ZKPmC0rUotSb",
        "outputId": "c6c8880f-b770-42b8-b565-c7b54f6b9d9d"
      },
      "execution_count": null,
      "outputs": [
        {
          "output_type": "stream",
          "name": "stdout",
          "text": [
            "Fitting 4 folds for each of 27000 candidates, totalling 108000 fits\n"
          ]
        },
        {
          "output_type": "stream",
          "name": "stderr",
          "text": [
            "ERROR:concurrent.futures:exception calling callback for <Future at 0x7fe131c3da50 state=finished returned list>\n",
            "Traceback (most recent call last):\n",
            "  File \"/usr/local/lib/python3.7/dist-packages/joblib/externals/loky/_base.py\", line 625, in _invoke_callbacks\n",
            "    callback(self)\n",
            "  File \"/usr/local/lib/python3.7/dist-packages/joblib/parallel.py\", line 359, in __call__\n",
            "    self.parallel.dispatch_next()\n",
            "  File \"/usr/local/lib/python3.7/dist-packages/joblib/parallel.py\", line 794, in dispatch_next\n",
            "    if not self.dispatch_one_batch(self._original_iterator):\n",
            "  File \"/usr/local/lib/python3.7/dist-packages/joblib/parallel.py\", line 861, in dispatch_one_batch\n",
            "    self._dispatch(tasks)\n",
            "  File \"/usr/local/lib/python3.7/dist-packages/joblib/parallel.py\", line 779, in _dispatch\n",
            "    job = self._backend.apply_async(batch, callback=cb)\n",
            "  File \"/usr/local/lib/python3.7/dist-packages/joblib/_parallel_backends.py\", line 531, in apply_async\n",
            "    future = self._workers.submit(SafeFunction(func))\n",
            "AttributeError: 'NoneType' object has no attribute 'submit'\n",
            "ERROR:concurrent.futures:exception calling callback for <Future at 0x7fe131a6ba10 state=finished raised PicklingError>\n",
            "Traceback (most recent call last):\n",
            "  File \"/usr/local/lib/python3.7/dist-packages/joblib/externals/loky/backend/queues.py\", line 153, in _feed\n",
            "    obj_ = dumps(obj, reducers=reducers)\n",
            "  File \"/usr/local/lib/python3.7/dist-packages/joblib/externals/loky/backend/reduction.py\", line 271, in dumps\n",
            "    dump(obj, buf, reducers=reducers, protocol=protocol)\n",
            "  File \"/usr/local/lib/python3.7/dist-packages/joblib/externals/loky/backend/reduction.py\", line 264, in dump\n",
            "    _LokyPickler(file, reducers=reducers, protocol=protocol).dump(obj)\n",
            "  File \"/usr/local/lib/python3.7/dist-packages/joblib/externals/cloudpickle/cloudpickle_fast.py\", line 602, in dump\n",
            "    return Pickler.dump(self, obj)\n",
            "  File \"/usr/lib/python3.7/pickle.py\", line 437, in dump\n",
            "    self.save(obj)\n",
            "  File \"/usr/lib/python3.7/pickle.py\", line 549, in save\n",
            "    self.save_reduce(obj=obj, *rv)\n",
            "  File \"/usr/lib/python3.7/pickle.py\", line 662, in save_reduce\n",
            "    save(state)\n",
            "  File \"/usr/lib/python3.7/pickle.py\", line 504, in save\n",
            "    f(self, obj) # Call unbound method with explicit self\n",
            "  File \"/usr/lib/python3.7/pickle.py\", line 859, in save_dict\n",
            "    self._batch_setitems(obj.items())\n",
            "  File \"/usr/lib/python3.7/pickle.py\", line 885, in _batch_setitems\n",
            "    save(v)\n",
            "  File \"/usr/lib/python3.7/pickle.py\", line 549, in save\n",
            "    self.save_reduce(obj=obj, *rv)\n",
            "  File \"/usr/lib/python3.7/pickle.py\", line 662, in save_reduce\n",
            "    save(state)\n",
            "  File \"/usr/lib/python3.7/pickle.py\", line 504, in save\n",
            "    f(self, obj) # Call unbound method with explicit self\n",
            "  File \"/usr/lib/python3.7/pickle.py\", line 859, in save_dict\n",
            "    self._batch_setitems(obj.items())\n",
            "  File \"/usr/lib/python3.7/pickle.py\", line 890, in _batch_setitems\n",
            "    save(v)\n",
            "  File \"/usr/lib/python3.7/pickle.py\", line 524, in save\n",
            "    rv = reduce(self.proto)\n",
            "  File \"/usr/local/lib/python3.7/dist-packages/joblib/parallel.py\", line 267, in __reduce__\n",
            "    self._reducer_callback()\n",
            "  File \"/usr/local/lib/python3.7/dist-packages/joblib/parallel.py\", line 988, in _batched_calls_reducer_callback\n",
            "    self._backend._workers._temp_folder_manager.set_current_context(  # noqa\n",
            "AttributeError: 'NoneType' object has no attribute '_temp_folder_manager'\n",
            "\n",
            "During handling of the above exception, another exception occurred:\n",
            "\n",
            "Traceback (most recent call last):\n",
            "  File \"/usr/local/lib/python3.7/dist-packages/joblib/externals/loky/_base.py\", line 625, in _invoke_callbacks\n",
            "    callback(self)\n",
            "  File \"/usr/local/lib/python3.7/dist-packages/joblib/parallel.py\", line 359, in __call__\n",
            "    self.parallel.dispatch_next()\n",
            "  File \"/usr/local/lib/python3.7/dist-packages/joblib/parallel.py\", line 794, in dispatch_next\n",
            "    if not self.dispatch_one_batch(self._original_iterator):\n",
            "  File \"/usr/local/lib/python3.7/dist-packages/joblib/parallel.py\", line 861, in dispatch_one_batch\n",
            "    self._dispatch(tasks)\n",
            "  File \"/usr/local/lib/python3.7/dist-packages/joblib/parallel.py\", line 779, in _dispatch\n",
            "    job = self._backend.apply_async(batch, callback=cb)\n",
            "  File \"/usr/local/lib/python3.7/dist-packages/joblib/_parallel_backends.py\", line 531, in apply_async\n",
            "    future = self._workers.submit(SafeFunction(func))\n",
            "AttributeError: 'NoneType' object has no attribute 'submit'\n"
          ]
        },
        {
          "output_type": "error",
          "ename": "KeyboardInterrupt",
          "evalue": "ignored",
          "traceback": [
            "\u001b[0;31m---------------------------------------------------------------------------\u001b[0m",
            "\u001b[0;31mKeyboardInterrupt\u001b[0m                         Traceback (most recent call last)",
            "\u001b[0;32m<ipython-input-47-7425138791b3>\u001b[0m in \u001b[0;36m<module>\u001b[0;34m\u001b[0m\n\u001b[1;32m     22\u001b[0m model_xgb = GridSearchCV(reg, grid_search_xgb,\n\u001b[1;32m     23\u001b[0m                                     cv=4,verbose=1,n_jobs=-1)\n\u001b[0;32m---> 24\u001b[0;31m \u001b[0mmodel_xgb\u001b[0m\u001b[0;34m.\u001b[0m\u001b[0mfit\u001b[0m\u001b[0;34m(\u001b[0m\u001b[0mx_train\u001b[0m\u001b[0;34m,\u001b[0m \u001b[0my_train\u001b[0m\u001b[0;34m)\u001b[0m\u001b[0;34m\u001b[0m\u001b[0;34m\u001b[0m\u001b[0m\n\u001b[0m\u001b[1;32m     25\u001b[0m \u001b[0;34m\u001b[0m\u001b[0m\n\u001b[1;32m     26\u001b[0m \u001b[0mprint\u001b[0m\u001b[0;34m(\u001b[0m\u001b[0mmodel_xgb\u001b[0m\u001b[0;34m.\u001b[0m\u001b[0mbest_params_\u001b[0m\u001b[0;34m)\u001b[0m\u001b[0;34m\u001b[0m\u001b[0;34m\u001b[0m\u001b[0m\n",
            "\u001b[0;32m/usr/local/lib/python3.7/dist-packages/sklearn/model_selection/_search.py\u001b[0m in \u001b[0;36mfit\u001b[0;34m(self, X, y, groups, **fit_params)\u001b[0m\n\u001b[1;32m    889\u001b[0m                 \u001b[0;32mreturn\u001b[0m \u001b[0mresults\u001b[0m\u001b[0;34m\u001b[0m\u001b[0;34m\u001b[0m\u001b[0m\n\u001b[1;32m    890\u001b[0m \u001b[0;34m\u001b[0m\u001b[0m\n\u001b[0;32m--> 891\u001b[0;31m             \u001b[0mself\u001b[0m\u001b[0;34m.\u001b[0m\u001b[0m_run_search\u001b[0m\u001b[0;34m(\u001b[0m\u001b[0mevaluate_candidates\u001b[0m\u001b[0;34m)\u001b[0m\u001b[0;34m\u001b[0m\u001b[0;34m\u001b[0m\u001b[0m\n\u001b[0m\u001b[1;32m    892\u001b[0m \u001b[0;34m\u001b[0m\u001b[0m\n\u001b[1;32m    893\u001b[0m             \u001b[0;31m# multimetric is determined here because in the case of a callable\u001b[0m\u001b[0;34m\u001b[0m\u001b[0;34m\u001b[0m\u001b[0;34m\u001b[0m\u001b[0m\n",
            "\u001b[0;32m/usr/local/lib/python3.7/dist-packages/sklearn/model_selection/_search.py\u001b[0m in \u001b[0;36m_run_search\u001b[0;34m(self, evaluate_candidates)\u001b[0m\n\u001b[1;32m   1390\u001b[0m     \u001b[0;32mdef\u001b[0m \u001b[0m_run_search\u001b[0m\u001b[0;34m(\u001b[0m\u001b[0mself\u001b[0m\u001b[0;34m,\u001b[0m \u001b[0mevaluate_candidates\u001b[0m\u001b[0;34m)\u001b[0m\u001b[0;34m:\u001b[0m\u001b[0;34m\u001b[0m\u001b[0;34m\u001b[0m\u001b[0m\n\u001b[1;32m   1391\u001b[0m         \u001b[0;34m\"\"\"Search all candidates in param_grid\"\"\"\u001b[0m\u001b[0;34m\u001b[0m\u001b[0;34m\u001b[0m\u001b[0m\n\u001b[0;32m-> 1392\u001b[0;31m         \u001b[0mevaluate_candidates\u001b[0m\u001b[0;34m(\u001b[0m\u001b[0mParameterGrid\u001b[0m\u001b[0;34m(\u001b[0m\u001b[0mself\u001b[0m\u001b[0;34m.\u001b[0m\u001b[0mparam_grid\u001b[0m\u001b[0;34m)\u001b[0m\u001b[0;34m)\u001b[0m\u001b[0;34m\u001b[0m\u001b[0;34m\u001b[0m\u001b[0m\n\u001b[0m\u001b[1;32m   1393\u001b[0m \u001b[0;34m\u001b[0m\u001b[0m\n\u001b[1;32m   1394\u001b[0m \u001b[0;34m\u001b[0m\u001b[0m\n",
            "\u001b[0;32m/usr/local/lib/python3.7/dist-packages/sklearn/model_selection/_search.py\u001b[0m in \u001b[0;36mevaluate_candidates\u001b[0;34m(candidate_params, cv, more_results)\u001b[0m\n\u001b[1;32m    849\u001b[0m                     )\n\u001b[1;32m    850\u001b[0m                     for (cand_idx, parameters), (split_idx, (train, test)) in product(\n\u001b[0;32m--> 851\u001b[0;31m                         \u001b[0menumerate\u001b[0m\u001b[0;34m(\u001b[0m\u001b[0mcandidate_params\u001b[0m\u001b[0;34m)\u001b[0m\u001b[0;34m,\u001b[0m \u001b[0menumerate\u001b[0m\u001b[0;34m(\u001b[0m\u001b[0mcv\u001b[0m\u001b[0;34m.\u001b[0m\u001b[0msplit\u001b[0m\u001b[0;34m(\u001b[0m\u001b[0mX\u001b[0m\u001b[0;34m,\u001b[0m \u001b[0my\u001b[0m\u001b[0;34m,\u001b[0m \u001b[0mgroups\u001b[0m\u001b[0;34m)\u001b[0m\u001b[0;34m)\u001b[0m\u001b[0;34m\u001b[0m\u001b[0;34m\u001b[0m\u001b[0m\n\u001b[0m\u001b[1;32m    852\u001b[0m                     )\n\u001b[1;32m    853\u001b[0m                 )\n",
            "\u001b[0;32m/usr/local/lib/python3.7/dist-packages/joblib/parallel.py\u001b[0m in \u001b[0;36m__call__\u001b[0;34m(self, iterable)\u001b[0m\n\u001b[1;32m   1054\u001b[0m \u001b[0;34m\u001b[0m\u001b[0m\n\u001b[1;32m   1055\u001b[0m             \u001b[0;32mwith\u001b[0m \u001b[0mself\u001b[0m\u001b[0;34m.\u001b[0m\u001b[0m_backend\u001b[0m\u001b[0;34m.\u001b[0m\u001b[0mretrieval_context\u001b[0m\u001b[0;34m(\u001b[0m\u001b[0;34m)\u001b[0m\u001b[0;34m:\u001b[0m\u001b[0;34m\u001b[0m\u001b[0;34m\u001b[0m\u001b[0m\n\u001b[0;32m-> 1056\u001b[0;31m                 \u001b[0mself\u001b[0m\u001b[0;34m.\u001b[0m\u001b[0mretrieve\u001b[0m\u001b[0;34m(\u001b[0m\u001b[0;34m)\u001b[0m\u001b[0;34m\u001b[0m\u001b[0;34m\u001b[0m\u001b[0m\n\u001b[0m\u001b[1;32m   1057\u001b[0m             \u001b[0;31m# Make sure that we get a last message telling us we are done\u001b[0m\u001b[0;34m\u001b[0m\u001b[0;34m\u001b[0m\u001b[0;34m\u001b[0m\u001b[0m\n\u001b[1;32m   1058\u001b[0m             \u001b[0melapsed_time\u001b[0m \u001b[0;34m=\u001b[0m \u001b[0mtime\u001b[0m\u001b[0;34m.\u001b[0m\u001b[0mtime\u001b[0m\u001b[0;34m(\u001b[0m\u001b[0;34m)\u001b[0m \u001b[0;34m-\u001b[0m \u001b[0mself\u001b[0m\u001b[0;34m.\u001b[0m\u001b[0m_start_time\u001b[0m\u001b[0;34m\u001b[0m\u001b[0;34m\u001b[0m\u001b[0m\n",
            "\u001b[0;32m/usr/local/lib/python3.7/dist-packages/joblib/parallel.py\u001b[0m in \u001b[0;36mretrieve\u001b[0;34m(self)\u001b[0m\n\u001b[1;32m    928\u001b[0m             \u001b[0;31m# we empty it and Python list are not thread-safe by default hence\u001b[0m\u001b[0;34m\u001b[0m\u001b[0;34m\u001b[0m\u001b[0;34m\u001b[0m\u001b[0m\n\u001b[1;32m    929\u001b[0m             \u001b[0;31m# the use of the lock\u001b[0m\u001b[0;34m\u001b[0m\u001b[0;34m\u001b[0m\u001b[0;34m\u001b[0m\u001b[0m\n\u001b[0;32m--> 930\u001b[0;31m             \u001b[0;32mwith\u001b[0m \u001b[0mself\u001b[0m\u001b[0;34m.\u001b[0m\u001b[0m_lock\u001b[0m\u001b[0;34m:\u001b[0m\u001b[0;34m\u001b[0m\u001b[0;34m\u001b[0m\u001b[0m\n\u001b[0m\u001b[1;32m    931\u001b[0m                 \u001b[0mjob\u001b[0m \u001b[0;34m=\u001b[0m \u001b[0mself\u001b[0m\u001b[0;34m.\u001b[0m\u001b[0m_jobs\u001b[0m\u001b[0;34m.\u001b[0m\u001b[0mpop\u001b[0m\u001b[0;34m(\u001b[0m\u001b[0;36m0\u001b[0m\u001b[0;34m)\u001b[0m\u001b[0;34m\u001b[0m\u001b[0;34m\u001b[0m\u001b[0m\n\u001b[1;32m    932\u001b[0m \u001b[0;34m\u001b[0m\u001b[0m\n",
            "\u001b[0;31mKeyboardInterrupt\u001b[0m: "
          ]
        },
        {
          "output_type": "stream",
          "name": "stderr",
          "text": [
            "ERROR:concurrent.futures:exception calling callback for <Future at 0x7fe131cc85d0 state=finished returned list>\n",
            "Traceback (most recent call last):\n",
            "  File \"/usr/local/lib/python3.7/dist-packages/joblib/externals/loky/_base.py\", line 625, in _invoke_callbacks\n",
            "    callback(self)\n",
            "  File \"/usr/local/lib/python3.7/dist-packages/joblib/parallel.py\", line 359, in __call__\n",
            "    self.parallel.dispatch_next()\n",
            "  File \"/usr/local/lib/python3.7/dist-packages/joblib/parallel.py\", line 794, in dispatch_next\n",
            "    if not self.dispatch_one_batch(self._original_iterator):\n",
            "  File \"/usr/local/lib/python3.7/dist-packages/joblib/parallel.py\", line 861, in dispatch_one_batch\n",
            "    self._dispatch(tasks)\n",
            "  File \"/usr/local/lib/python3.7/dist-packages/joblib/parallel.py\", line 779, in _dispatch\n",
            "    job = self._backend.apply_async(batch, callback=cb)\n",
            "  File \"/usr/local/lib/python3.7/dist-packages/joblib/_parallel_backends.py\", line 531, in apply_async\n",
            "    future = self._workers.submit(SafeFunction(func))\n",
            "AttributeError: 'NoneType' object has no attribute 'submit'\n",
            "ERROR:concurrent.futures:exception calling callback for <Future at 0x7fe131d87890 state=finished returned list>\n",
            "Traceback (most recent call last):\n",
            "  File \"/usr/local/lib/python3.7/dist-packages/joblib/externals/loky/_base.py\", line 625, in _invoke_callbacks\n",
            "    callback(self)\n",
            "  File \"/usr/local/lib/python3.7/dist-packages/joblib/parallel.py\", line 359, in __call__\n",
            "    self.parallel.dispatch_next()\n",
            "  File \"/usr/local/lib/python3.7/dist-packages/joblib/parallel.py\", line 794, in dispatch_next\n",
            "    if not self.dispatch_one_batch(self._original_iterator):\n",
            "  File \"/usr/local/lib/python3.7/dist-packages/joblib/parallel.py\", line 861, in dispatch_one_batch\n",
            "    self._dispatch(tasks)\n",
            "  File \"/usr/local/lib/python3.7/dist-packages/joblib/parallel.py\", line 779, in _dispatch\n",
            "    job = self._backend.apply_async(batch, callback=cb)\n",
            "  File \"/usr/local/lib/python3.7/dist-packages/joblib/_parallel_backends.py\", line 531, in apply_async\n",
            "    future = self._workers.submit(SafeFunction(func))\n",
            "AttributeError: 'NoneType' object has no attribute 'submit'\n"
          ]
        }
      ]
    },
    {
      "cell_type": "code",
      "source": [
        "from sklearn.feature_selection import SelectFromModel\n",
        "import xgboost as xgb\n",
        "train_y01=train_y['Y_01']\n"
      ],
      "metadata": {
        "id": "xaP-VldorXen"
      },
      "execution_count": null,
      "outputs": []
    },
    {
      "cell_type": "code",
      "source": [
        "selector = SelectFromModel(estimator = xgb.XGBRegressor(n_estimators=200, learning_rate=0.05, gamma=1, subsample=0.75,\n",
        "                           colsample_bytree=1, max_depth=7),max_features=10).fit(train_x,train_y01)"
      ],
      "metadata": {
        "colab": {
          "base_uri": "https://localhost:8080/"
        },
        "id": "_ILCtOzo3o1g",
        "outputId": "c43f1e81-9567-42a5-d375-904f34270a81"
      },
      "execution_count": null,
      "outputs": [
        {
          "output_type": "stream",
          "name": "stdout",
          "text": [
            "[17:34:54] WARNING: /workspace/src/objective/regression_obj.cu:152: reg:linear is now deprecated in favor of reg:squarederror.\n"
          ]
        }
      ]
    },
    {
      "cell_type": "code",
      "source": [
        "selected_columns = train_x.columns\n",
        "selected_columns[selector.get_support()]"
      ],
      "metadata": {
        "colab": {
          "base_uri": "https://localhost:8080/"
        },
        "id": "gT8R_zZl33Mg",
        "outputId": "48bfbc77-bc5d-4e49-9580-693212f5e4a2"
      },
      "execution_count": null,
      "outputs": [
        {
          "output_type": "execute_result",
          "data": {
            "text/plain": [
              "Index(['X_03', 'X_07', 'X_09', 'X_13', 'X_18', 'X_19', 'X_20', 'X_21', 'X_22',\n",
              "       'X_49'],\n",
              "      dtype='object')"
            ]
          },
          "metadata": {},
          "execution_count": 24
        }
      ]
    },
    {
      "cell_type": "code",
      "source": [
        "train_y02=train_y['Y_02']\n",
        "selector02 = SelectFromModel(estimator = xgb.XGBRegressor(n_estimators=200, learning_rate=0.05, gamma=1, subsample=0.75,\n",
        "                           colsample_bytree=1, max_depth=7),max_features=10).fit(train_x,train_y02)"
      ],
      "metadata": {
        "colab": {
          "base_uri": "https://localhost:8080/"
        },
        "id": "yeylL82h3pgw",
        "outputId": "15a2c94e-6ad5-4337-d41f-11eb20ffd091"
      },
      "execution_count": null,
      "outputs": [
        {
          "output_type": "stream",
          "name": "stdout",
          "text": [
            "[17:36:35] WARNING: /workspace/src/objective/regression_obj.cu:152: reg:linear is now deprecated in favor of reg:squarederror.\n"
          ]
        }
      ]
    },
    {
      "cell_type": "code",
      "source": [
        "selected_columns02 = train_x.columns\n",
        "selected_columns02[selector02.get_support()]"
      ],
      "metadata": {
        "colab": {
          "base_uri": "https://localhost:8080/"
        },
        "id": "2zxZZlRD4Qex",
        "outputId": "d91c1727-c950-4591-b0e2-85cacb6acae1"
      },
      "execution_count": null,
      "outputs": [
        {
          "output_type": "execute_result",
          "data": {
            "text/plain": [
              "Index(['X_03', 'X_05', 'X_06', 'X_07', 'X_13', 'X_14', 'X_18', 'X_22', 'X_43',\n",
              "       'X_49'],\n",
              "      dtype='object')"
            ]
          },
          "metadata": {},
          "execution_count": 30
        }
      ]
    },
    {
      "cell_type": "code",
      "source": [
        "train_y03=train_y['Y_03']\n",
        "selector03 = SelectFromModel(estimator = xgb.XGBRegressor(n_estimators=200, learning_rate=0.05, gamma=1, subsample=0.75,\n",
        "                           colsample_bytree=1, max_depth=7),max_features=10).fit(train_x,train_y03)\n",
        "          "
      ],
      "metadata": {
        "colab": {
          "base_uri": "https://localhost:8080/"
        },
        "id": "Jdid1vDJ4U3F",
        "outputId": "6737dc07-ea26-4d6c-a6fc-051b0d139bff"
      },
      "execution_count": null,
      "outputs": [
        {
          "output_type": "stream",
          "name": "stdout",
          "text": [
            "[17:37:28] WARNING: /workspace/src/objective/regression_obj.cu:152: reg:linear is now deprecated in favor of reg:squarederror.\n"
          ]
        }
      ]
    },
    {
      "cell_type": "code",
      "source": [
        "selected_columns03 = train_x.columns\n",
        "selected_columns03[selector03.get_support()]"
      ],
      "metadata": {
        "colab": {
          "base_uri": "https://localhost:8080/"
        },
        "id": "F2II8HMh4Y-A",
        "outputId": "0589a6ca-5ee6-44ec-cb4d-6aea90f7edf7"
      },
      "execution_count": null,
      "outputs": [
        {
          "output_type": "execute_result",
          "data": {
            "text/plain": [
              "Index(['X_05', 'X_07', 'X_13', 'X_18', 'X_19', 'X_22', 'X_28', 'X_32', 'X_43',\n",
              "       'X_49'],\n",
              "      dtype='object')"
            ]
          },
          "metadata": {},
          "execution_count": 31
        }
      ]
    },
    {
      "cell_type": "code",
      "source": [
        "train_y04=train_y['Y_04']\n",
        "selector04 = SelectFromModel(estimator = xgb.XGBRegressor(n_estimators=200, learning_rate=0.05, gamma=1, subsample=0.75,\n",
        "                           colsample_bytree=1, max_depth=7),max_features=10).fit(train_x,train_y04)\n",
        "          "
      ],
      "metadata": {
        "colab": {
          "base_uri": "https://localhost:8080/"
        },
        "id": "cD72RqYL4bD8",
        "outputId": "ba3e1b07-f535-4ca8-a799-ba102b8b476f"
      },
      "execution_count": null,
      "outputs": [
        {
          "output_type": "stream",
          "name": "stdout",
          "text": [
            "[17:39:12] WARNING: /workspace/src/objective/regression_obj.cu:152: reg:linear is now deprecated in favor of reg:squarederror.\n"
          ]
        }
      ]
    },
    {
      "cell_type": "code",
      "source": [
        "selected_columns04 = train_x.columns\n",
        "selected_columns04[selector04.get_support()]"
      ],
      "metadata": {
        "colab": {
          "base_uri": "https://localhost:8080/"
        },
        "id": "ln0QiDyz4j7m",
        "outputId": "09708fe5-ca83-4fc4-f2f6-22016b525495"
      },
      "execution_count": null,
      "outputs": [
        {
          "output_type": "execute_result",
          "data": {
            "text/plain": [
              "Index(['X_13', 'X_19', 'X_21', 'X_29', 'X_30', 'X_32', 'X_34', 'X_40', 'X_46',\n",
              "       'X_49'],\n",
              "      dtype='object')"
            ]
          },
          "metadata": {},
          "execution_count": 33
        }
      ]
    },
    {
      "cell_type": "code",
      "source": [
        "train_y05=train_y['Y_05']\n",
        "selector05 = SelectFromModel(estimator = xgb.XGBRegressor(n_estimators=200, learning_rate=0.05, gamma=1, subsample=0.75,\n",
        "                           colsample_bytree=1, max_depth=7),max_features=10).fit(train_x,train_y05)\n",
        "          "
      ],
      "metadata": {
        "colab": {
          "base_uri": "https://localhost:8080/"
        },
        "id": "Cs6UxCni44B9",
        "outputId": "4f831b67-deb1-4b81-a3fd-b8ae2c9f17b0"
      },
      "execution_count": null,
      "outputs": [
        {
          "output_type": "stream",
          "name": "stdout",
          "text": [
            "[17:40:08] WARNING: /workspace/src/objective/regression_obj.cu:152: reg:linear is now deprecated in favor of reg:squarederror.\n"
          ]
        }
      ]
    },
    {
      "cell_type": "code",
      "source": [
        "selected_columns05 = train_x.columns\n",
        "selected_columns05[selector05.get_support()]"
      ],
      "metadata": {
        "colab": {
          "base_uri": "https://localhost:8080/"
        },
        "id": "SCjS0yM049bj",
        "outputId": "d29891f5-d97c-41ad-ac35-d1d58fdcc746"
      },
      "execution_count": null,
      "outputs": [
        {
          "output_type": "execute_result",
          "data": {
            "text/plain": [
              "Index(['X_09', 'X_13', 'X_17', 'X_18', 'X_32', 'X_40', 'X_49', 'X_51', 'X_54',\n",
              "       'X_56'],\n",
              "      dtype='object')"
            ]
          },
          "metadata": {},
          "execution_count": 35
        }
      ]
    },
    {
      "cell_type": "code",
      "source": [
        "train_y06=train_y['Y_06']\n",
        "selector06 = SelectFromModel(estimator = xgb.XGBRegressor(n_estimators=200, learning_rate=0.05, gamma=1, subsample=0.75,\n",
        "                           colsample_bytree=1, max_depth=7),max_features=10).fit(train_x,train_y06)\n",
        "          "
      ],
      "metadata": {
        "colab": {
          "base_uri": "https://localhost:8080/"
        },
        "id": "KZGPbA884_8C",
        "outputId": "5a089f0a-b37d-4a56-e83b-a700c045aa73"
      },
      "execution_count": null,
      "outputs": [
        {
          "output_type": "stream",
          "name": "stdout",
          "text": [
            "[17:41:02] WARNING: /workspace/src/objective/regression_obj.cu:152: reg:linear is now deprecated in favor of reg:squarederror.\n"
          ]
        }
      ]
    },
    {
      "cell_type": "code",
      "source": [
        "selected_columns06 = train_x.columns\n",
        "selected_columns06[selector06.get_support()]"
      ],
      "metadata": {
        "colab": {
          "base_uri": "https://localhost:8080/"
        },
        "id": "cwPRB3-U5G1w",
        "outputId": "18f07a41-f493-4884-bc14-7a2914403442"
      },
      "execution_count": null,
      "outputs": [
        {
          "output_type": "execute_result",
          "data": {
            "text/plain": [
              "Index(['X_02', 'X_03', 'X_05', 'X_07', 'X_09', 'X_13', 'X_14', 'X_38', 'X_44',\n",
              "       'X_49'],\n",
              "      dtype='object')"
            ]
          },
          "metadata": {},
          "execution_count": 37
        }
      ]
    },
    {
      "cell_type": "code",
      "source": [
        "train_y07=train_y['Y_07']\n",
        "selector07 = SelectFromModel(estimator = xgb.XGBRegressor(n_estimators=200, learning_rate=0.05, gamma=1, subsample=0.75,\n",
        "                           colsample_bytree=1, max_depth=7),max_features=10).fit(train_x,train_y07)\n",
        "          "
      ],
      "metadata": {
        "colab": {
          "base_uri": "https://localhost:8080/"
        },
        "id": "k8fnZ_GM5KAM",
        "outputId": "bca87446-6b82-44aa-ea03-a4395e10ba23"
      },
      "execution_count": null,
      "outputs": [
        {
          "output_type": "stream",
          "name": "stdout",
          "text": [
            "[17:41:48] WARNING: /workspace/src/objective/regression_obj.cu:152: reg:linear is now deprecated in favor of reg:squarederror.\n"
          ]
        }
      ]
    },
    {
      "cell_type": "code",
      "source": [
        "selected_columns07 = train_x.columns\n",
        "selected_columns07[selector07.get_support()]"
      ],
      "metadata": {
        "colab": {
          "base_uri": "https://localhost:8080/"
        },
        "id": "fmtZuwvr5Nr8",
        "outputId": "90ae4f33-5ce9-4253-a20c-7ad98ed0245f"
      },
      "execution_count": null,
      "outputs": [
        {
          "output_type": "execute_result",
          "data": {
            "text/plain": [
              "Index(['X_03', 'X_07', 'X_09', 'X_13', 'X_14', 'X_17', 'X_19', 'X_21', 'X_32',\n",
              "       'X_49'],\n",
              "      dtype='object')"
            ]
          },
          "metadata": {},
          "execution_count": 39
        }
      ]
    },
    {
      "cell_type": "code",
      "source": [
        "train_y08=train_y['Y_08']\n",
        "selector08 = SelectFromModel(estimator = xgb.XGBRegressor(n_estimators=200, learning_rate=0.05, gamma=1, subsample=0.75,\n",
        "                           colsample_bytree=1, max_depth=7),max_features=10).fit(train_x,train_y08)\n",
        "          "
      ],
      "metadata": {
        "colab": {
          "base_uri": "https://localhost:8080/"
        },
        "id": "asqRyVqU5ShW",
        "outputId": "8ec373dc-cd03-45d5-b9b9-fcbdc25ef626"
      },
      "execution_count": null,
      "outputs": [
        {
          "output_type": "stream",
          "name": "stdout",
          "text": [
            "[17:42:45] WARNING: /workspace/src/objective/regression_obj.cu:152: reg:linear is now deprecated in favor of reg:squarederror.\n"
          ]
        }
      ]
    },
    {
      "cell_type": "code",
      "source": [
        "selected_columns08 = train_x.columns\n",
        "selected_columns08[selector08.get_support()]"
      ],
      "metadata": {
        "colab": {
          "base_uri": "https://localhost:8080/"
        },
        "id": "yLV6hAIg5d0K",
        "outputId": "42d699f6-3b14-46e7-de52-43cf57e2b452"
      },
      "execution_count": null,
      "outputs": [
        {
          "output_type": "execute_result",
          "data": {
            "text/plain": [
              "Index(['X_03', 'X_07', 'X_08', 'X_10', 'X_20', 'X_21', 'X_22', 'X_30', 'X_32',\n",
              "       'X_49'],\n",
              "      dtype='object')"
            ]
          },
          "metadata": {},
          "execution_count": 41
        }
      ]
    },
    {
      "cell_type": "code",
      "source": [
        "train_y09=train_y['Y_09']\n",
        "selector09 = SelectFromModel(estimator = xgb.XGBRegressor(n_estimators=200, learning_rate=0.05, gamma=1, subsample=0.75,\n",
        "                           colsample_bytree=1, max_depth=7),max_features=10).fit(train_x,train_y09)\n",
        "          "
      ],
      "metadata": {
        "colab": {
          "base_uri": "https://localhost:8080/"
        },
        "id": "51yPZlZ15fvJ",
        "outputId": "31644234-9600-425d-b42a-50c3ca013847"
      },
      "execution_count": null,
      "outputs": [
        {
          "output_type": "stream",
          "name": "stdout",
          "text": [
            "[17:43:36] WARNING: /workspace/src/objective/regression_obj.cu:152: reg:linear is now deprecated in favor of reg:squarederror.\n"
          ]
        }
      ]
    },
    {
      "cell_type": "code",
      "source": [
        "selected_columns09 = train_x.columns\n",
        "selected_columns09[selector09.get_support()]"
      ],
      "metadata": {
        "colab": {
          "base_uri": "https://localhost:8080/"
        },
        "id": "tmW1epTr5jGc",
        "outputId": "584181b1-9799-48e9-d7ee-a88e7e0cffa8"
      },
      "execution_count": null,
      "outputs": [
        {
          "output_type": "execute_result",
          "data": {
            "text/plain": [
              "Index(['X_03', 'X_07', 'X_10', 'X_11', 'X_20', 'X_21', 'X_22', 'X_30', 'X_32',\n",
              "       'X_49'],\n",
              "      dtype='object')"
            ]
          },
          "metadata": {},
          "execution_count": 43
        }
      ]
    },
    {
      "cell_type": "code",
      "source": [
        "train_y10=train_y['Y_10']\n",
        "selector10 = SelectFromModel(estimator = xgb.XGBRegressor(n_estimators=200, learning_rate=0.05, gamma=1, subsample=0.75,\n",
        "                           colsample_bytree=1, max_depth=7),max_features=10).fit(train_x,train_y10)\n",
        "          "
      ],
      "metadata": {
        "colab": {
          "base_uri": "https://localhost:8080/"
        },
        "id": "KiggD6sg5m6F",
        "outputId": "e606a42b-0749-4224-9b54-3d90acd011dd"
      },
      "execution_count": null,
      "outputs": [
        {
          "output_type": "stream",
          "name": "stdout",
          "text": [
            "[17:44:12] WARNING: /workspace/src/objective/regression_obj.cu:152: reg:linear is now deprecated in favor of reg:squarederror.\n"
          ]
        }
      ]
    },
    {
      "cell_type": "code",
      "source": [
        "selected_columns10 = train_x.columns\n",
        "selected_columns10[selector10.get_support()]"
      ],
      "metadata": {
        "colab": {
          "base_uri": "https://localhost:8080/"
        },
        "id": "MTjFSWar5rRh",
        "outputId": "a8a17e89-a1e7-4ac4-fb78-8e39a9b12014"
      },
      "execution_count": null,
      "outputs": [
        {
          "output_type": "execute_result",
          "data": {
            "text/plain": [
              "Index(['X_03', 'X_05', 'X_07', 'X_09', 'X_16', 'X_18', 'X_19', 'X_21', 'X_32',\n",
              "       'X_49'],\n",
              "      dtype='object')"
            ]
          },
          "metadata": {},
          "execution_count": 45
        }
      ]
    },
    {
      "cell_type": "code",
      "source": [
        "train_y11=train_y['Y_11']\n",
        "selector11 = SelectFromModel(estimator = xgb.XGBRegressor(n_estimators=200, learning_rate=0.05, gamma=1, subsample=0.75,\n",
        "                           colsample_bytree=1, max_depth=7),max_features=10).fit(train_x,train_y11)\n",
        "          "
      ],
      "metadata": {
        "colab": {
          "base_uri": "https://localhost:8080/"
        },
        "id": "FvCJ299z5uNb",
        "outputId": "34a42453-a7b2-450d-dcdf-6bcc545b4b3f"
      },
      "execution_count": null,
      "outputs": [
        {
          "output_type": "stream",
          "name": "stdout",
          "text": [
            "[17:44:46] WARNING: /workspace/src/objective/regression_obj.cu:152: reg:linear is now deprecated in favor of reg:squarederror.\n"
          ]
        }
      ]
    },
    {
      "cell_type": "code",
      "source": [
        "selected_columns11 = train_x.columns\n",
        "selected_columns11[selector11.get_support()]"
      ],
      "metadata": {
        "colab": {
          "base_uri": "https://localhost:8080/"
        },
        "id": "YoMyzPch50Zi",
        "outputId": "fc59352c-4b50-485b-a9a8-0bf9ee814f16"
      },
      "execution_count": null,
      "outputs": [
        {
          "output_type": "execute_result",
          "data": {
            "text/plain": [
              "Index(['X_06', 'X_07', 'X_08', 'X_09', 'X_10', 'X_13', 'X_17', 'X_22', 'X_32',\n",
              "       'X_49'],\n",
              "      dtype='object')"
            ]
          },
          "metadata": {},
          "execution_count": 47
        }
      ]
    },
    {
      "cell_type": "code",
      "source": [
        "train_y12=train_y['Y_12']\n",
        "selector12 = SelectFromModel(estimator = xgb.XGBRegressor(n_estimators=200, learning_rate=0.05, gamma=1, subsample=0.75,\n",
        "                           colsample_bytree=1, max_depth=7),max_features=10).fit(train_x,train_y12)\n",
        "          "
      ],
      "metadata": {
        "colab": {
          "base_uri": "https://localhost:8080/"
        },
        "id": "tqWRHRk653Qy",
        "outputId": "62289907-71f1-4e06-c0dd-49c9909e81f7"
      },
      "execution_count": null,
      "outputs": [
        {
          "output_type": "stream",
          "name": "stdout",
          "text": [
            "[17:49:17] WARNING: /workspace/src/objective/regression_obj.cu:152: reg:linear is now deprecated in favor of reg:squarederror.\n"
          ]
        }
      ]
    },
    {
      "cell_type": "code",
      "source": [
        "selected_columns12 = train_x.columns\n",
        "selected_columns12[selector12.get_support()]"
      ],
      "metadata": {
        "colab": {
          "base_uri": "https://localhost:8080/"
        },
        "id": "O_1PkST57Igo",
        "outputId": "6b76a690-d710-40e7-b43c-92ec8a2ef561"
      },
      "execution_count": null,
      "outputs": [
        {
          "output_type": "execute_result",
          "data": {
            "text/plain": [
              "Index(['X_03', 'X_07', 'X_10', 'X_11', 'X_20', 'X_21', 'X_22', 'X_30', 'X_32',\n",
              "       'X_49'],\n",
              "      dtype='object')"
            ]
          },
          "metadata": {},
          "execution_count": 49
        }
      ]
    },
    {
      "cell_type": "code",
      "source": [
        "train_y13=train_y['Y_13']\n",
        "selector13 = SelectFromModel(estimator = xgb.XGBRegressor(n_estimators=200, learning_rate=0.05, gamma=1, subsample=0.75,\n",
        "                           colsample_bytree=1, max_depth=7),max_features=10).fit(train_x,train_y13)\n",
        "          "
      ],
      "metadata": {
        "colab": {
          "base_uri": "https://localhost:8080/"
        },
        "id": "_6hLJFjU7LXG",
        "outputId": "56cf4393-5c76-4852-d756-188ca674454f"
      },
      "execution_count": null,
      "outputs": [
        {
          "output_type": "stream",
          "name": "stdout",
          "text": [
            "[17:50:13] WARNING: /workspace/src/objective/regression_obj.cu:152: reg:linear is now deprecated in favor of reg:squarederror.\n"
          ]
        }
      ]
    },
    {
      "cell_type": "code",
      "source": [
        "selected_columns13 = train_x.columns\n",
        "selected_columns13[selector13.get_support()]"
      ],
      "metadata": {
        "colab": {
          "base_uri": "https://localhost:8080/"
        },
        "id": "aQlrsfxx7NtS",
        "outputId": "9a864145-e617-4512-aeea-28e9b5371231"
      },
      "execution_count": null,
      "outputs": [
        {
          "output_type": "execute_result",
          "data": {
            "text/plain": [
              "Index(['X_03', 'X_07', 'X_09', 'X_10', 'X_20', 'X_21', 'X_22', 'X_30', 'X_32',\n",
              "       'X_49'],\n",
              "      dtype='object')"
            ]
          },
          "metadata": {},
          "execution_count": 51
        }
      ]
    },
    {
      "cell_type": "code",
      "source": [
        ""
      ],
      "metadata": {
        "id": "Uy5lnXfMC5-T"
      },
      "execution_count": null,
      "outputs": []
    },
    {
      "cell_type": "code",
      "source": [
        "train_y14=train_y['Y_14']\n",
        "selector14 = SelectFromModel(estimator = xgb.XGBRegressor(n_estimators=200, learning_rate=0.05, gamma=1, subsample=0.75,\n",
        "                           colsample_bytree=1, max_depth=7),max_features=10).fit(train_x,train_y14)\n",
        "          "
      ],
      "metadata": {
        "colab": {
          "base_uri": "https://localhost:8080/"
        },
        "id": "MLMNQkKU7PvX",
        "outputId": "5963663e-4147-4da5-cb34-995d6f1199d6"
      },
      "execution_count": null,
      "outputs": [
        {
          "output_type": "stream",
          "name": "stdout",
          "text": [
            "[17:50:47] WARNING: /workspace/src/objective/regression_obj.cu:152: reg:linear is now deprecated in favor of reg:squarederror.\n"
          ]
        }
      ]
    },
    {
      "cell_type": "code",
      "source": [
        "selected_columns14 = train_x.columns\n",
        "selected_columns14[selector14.get_support()]"
      ],
      "metadata": {
        "colab": {
          "base_uri": "https://localhost:8080/"
        },
        "id": "6OKoF3qI7TJL",
        "outputId": "d1bbc144-dde2-4a40-98d2-ab70a3cc8135"
      },
      "execution_count": null,
      "outputs": [
        {
          "output_type": "execute_result",
          "data": {
            "text/plain": [
              "Index(['X_03', 'X_07', 'X_10', 'X_11', 'X_20', 'X_21', 'X_22', 'X_30', 'X_32',\n",
              "       'X_49'],\n",
              "      dtype='object')"
            ]
          },
          "metadata": {},
          "execution_count": 53
        }
      ]
    },
    {
      "cell_type": "code",
      "source": [
        "list1=[3,7,9,13,18,19,20,21,22,49]\n",
        "list2=[3,5,6,7,13,14,18,22,43,49]\n",
        "list3=[5,7,13,18,19,22,28,32,43,49]\n",
        "list4=[13,19,21,29,30,32,34,40,46,49]\n",
        "list5=[9,13,17,18,32,40,49,51,54,56]\n",
        "list6=[2,3,5,7,9,13,14,38,44,49]\n",
        "list7=[3,7,9,13,14,17,19,21,32,49]\n",
        "list8=[3,7,8,10,20,21,22,30,32,49]\n",
        "list9=[3,7,10,11,20,21,22,30,32,49]\n",
        "list10=[3,5,7,9,16,18,19,21,32,49]\n",
        "list11=[6,7,8,9,10,13,17,22,32,49]\n",
        "list12=[3,7,10,11,20,21,22,30,32,49]\n",
        "list13=[3,7,9,10,20,21,22,30,32,49]\n",
        "list14=[3,7,10,11,20,21,22,30,32,49]"
      ],
      "metadata": {
        "id": "TWj9Vn8Q7V3f"
      },
      "execution_count": null,
      "outputs": []
    },
    {
      "cell_type": "code",
      "source": [
        "union = list(set(list1) | set(list2) | set(list3) | set(list4) | set(list5) | set(list6) | set(list7) | set(list8) | set(list9) | set(list10) | set(list11) | set(list12) | set(list13) | set(list14))\n",
        "print(union)\n"
      ],
      "metadata": {
        "colab": {
          "base_uri": "https://localhost:8080/"
        },
        "id": "bNZLREAw9GR5",
        "outputId": "4f50a0b6-56c8-4a12-86a8-ba118df2bfa5"
      },
      "execution_count": null,
      "outputs": [
        {
          "output_type": "stream",
          "name": "stdout",
          "text": [
            "[2, 3, 5, 6, 7, 8, 9, 10, 11, 13, 14, 16, 17, 18, 19, 20, 21, 22, 28, 29, 30, 32, 34, 38, 40, 43, 44, 46, 49, 51, 54, 56]\n"
          ]
        }
      ]
    },
    {
      "cell_type": "code",
      "source": [
        "intersection = list(set(list1) & set(list2) & set(list3) & set(list4) & set(list5) & set(list6) & set(list7) & set(list8) & set(list9) & set(list10) & set(list11) & set(list12) & set(list13) & set(list14))\n",
        "intersection"
      ],
      "metadata": {
        "colab": {
          "base_uri": "https://localhost:8080/"
        },
        "id": "KDXOMQL6Atcs",
        "outputId": "47c13e74-4a74-4d9c-9eb0-6552ef414f17"
      },
      "execution_count": null,
      "outputs": [
        {
          "output_type": "execute_result",
          "data": {
            "text/plain": [
              "[49]"
            ]
          },
          "metadata": {},
          "execution_count": 58
        }
      ]
    },
    {
      "cell_type": "code",
      "source": [
        ""
      ],
      "metadata": {
        "id": "rLVdBE0OA3s4"
      },
      "execution_count": null,
      "outputs": []
    },
    {
      "cell_type": "markdown",
      "source": [
        "아래건 다른 방법, kbest"
      ],
      "metadata": {
        "id": "STxUr9eL9aH4"
      }
    },
    {
      "cell_type": "code",
      "source": [
        ""
      ],
      "metadata": {
        "id": "Wa4xXLoO9cNH"
      },
      "execution_count": null,
      "outputs": []
    },
    {
      "cell_type": "code",
      "source": [
        "# target(Price)와 가장 correlated 된 features 를 k개 고르기.\n",
        "## f_regresison, SelectKBest 불러오기.\n",
        "from sklearn.feature_selection import f_regression, SelectKBest\n",
        "from sklearn.model_selection import train_test_split\n",
        "x_train, x_test, y01_train, y01_test = train_test_split(train_x, train_y01, test_size = 0.3, random_state=42)\n",
        "\n",
        "## selctor 정의하기.\n",
        "selector_kbest01 = SelectKBest(score_func=f_regression, k=20)\n",
        "## 학습데이터에 fit_transform \n",
        "X_train_selected01 = selector.fit_transform(x_train, y01_train)\n",
        "## 테스트 데이터는 transform\n",
        "X_test_selected01 = selector.transform(x_test)\n",
        "all_names = x_train.columns\n",
        "## selector.get_support()\n",
        "selected_mask = selector.get_support()\n",
        "## 선택된 특성(변수)들\n",
        "selected_names = all_names[selected_mask]\n",
        "## 선택되지 않은 특성(변수)들\n",
        "unselected_names = all_names[~selected_mask]\n",
        "print('Selected names: ', selected_names)\n",
        "print('Unselected names: ', unselected_names)\n"
      ],
      "metadata": {
        "colab": {
          "base_uri": "https://localhost:8080/"
        },
        "id": "d3UOfhhY-JyH",
        "outputId": "3da8dfdd-251c-4484-934c-52bfc78167a3"
      },
      "execution_count": null,
      "outputs": [
        {
          "output_type": "stream",
          "name": "stdout",
          "text": [
            "[18:07:52] WARNING: /workspace/src/objective/regression_obj.cu:152: reg:linear is now deprecated in favor of reg:squarederror.\n",
            "Selected names:  Index(['X_03', 'X_05', 'X_07', 'X_09', 'X_18', 'X_19', 'X_20', 'X_21', 'X_22',\n",
            "       'X_49'],\n",
            "      dtype='object')\n",
            "Unselected names:  Index(['X_01', 'X_02', 'X_06', 'X_08', 'X_10', 'X_11', 'X_12', 'X_13', 'X_14',\n",
            "       'X_15', 'X_16', 'X_17', 'X_24', 'X_25', 'X_26', 'X_27', 'X_28', 'X_29',\n",
            "       'X_30', 'X_31', 'X_32', 'X_33', 'X_34', 'X_35', 'X_36', 'X_37', 'X_38',\n",
            "       'X_39', 'X_40', 'X_41', 'X_42', 'X_43', 'X_44', 'X_45', 'X_46', 'X_50',\n",
            "       'X_51', 'X_52', 'X_53', 'X_54', 'X_55', 'X_56'],\n",
            "      dtype='object')\n"
          ]
        }
      ]
    },
    {
      "cell_type": "code",
      "source": [
        ""
      ],
      "metadata": {
        "id": "pOqOmUQN_Xj_"
      },
      "execution_count": null,
      "outputs": []
    },
    {
      "cell_type": "code",
      "source": [
        ""
      ],
      "metadata": {
        "id": "Xhgo3CIt-9HC"
      },
      "execution_count": null,
      "outputs": []
    },
    {
      "cell_type": "code",
      "source": [
        ""
      ],
      "metadata": {
        "id": "pHvWj85L9cQi"
      },
      "execution_count": null,
      "outputs": []
    }
  ]
}