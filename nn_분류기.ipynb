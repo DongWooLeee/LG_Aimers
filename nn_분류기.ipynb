{
  "nbformat": 4,
  "nbformat_minor": 0,
  "metadata": {
    "colab": {
      "name": "nn_분류기.ipynb",
      "provenance": [],
      "authorship_tag": "ABX9TyPwcrPnnLH1puvjr8610vK9",
      "include_colab_link": true
    },
    "kernelspec": {
      "name": "python3",
      "display_name": "Python 3"
    },
    "language_info": {
      "name": "python"
    },
    "accelerator": "GPU",
    "gpuClass": "standard"
  },
  "cells": [
    {
      "cell_type": "markdown",
      "metadata": {
        "id": "view-in-github",
        "colab_type": "text"
      },
      "source": [
        "<a href=\"https://colab.research.google.com/github/dangdang2222/LG_Aimers/blob/main/nn_%EB%B6%84%EB%A5%98%EA%B8%B0.ipynb\" target=\"_parent\"><img src=\"https://colab.research.google.com/assets/colab-badge.svg\" alt=\"Open In Colab\"/></a>"
      ]
    },
    {
      "cell_type": "code",
      "execution_count": 1,
      "metadata": {
        "colab": {
          "base_uri": "https://localhost:8080/"
        },
        "id": "x6VQQMgCijRI",
        "outputId": "832aa406-484a-4605-e8ff-ca6c76d74759"
      },
      "outputs": [
        {
          "output_type": "stream",
          "name": "stdout",
          "text": [
            "Mounted at /content/drive\n"
          ]
        }
      ],
      "source": [
        "from google.colab import drive\n",
        "drive.mount('/content/drive')"
      ]
    },
    {
      "cell_type": "code",
      "source": [
        "import numpy as np\n",
        "import pandas as pd\n",
        "import seaborn as sns\n",
        "import matplotlib.pyplot as plt\n",
        "train = pd.read_csv('./drive/MyDrive/LG_Aimer/train.csv')\n",
        "test = pd.read_csv('./drive/MyDrive/LG_Aimer/test.csv')\n",
        "meta_x_features= pd.read_csv('./drive/MyDrive/LG_Aimer/meta/x_feature_info.csv')\n",
        "meta_y_features= pd.read_csv('./drive/MyDrive/LG_Aimer/meta/y_feature_info.csv')\n",
        "\n",
        "from sklearn.linear_model import LinearRegression\n",
        "from sklearn.multioutput import MultiOutputRegressor\n",
        "import random\n",
        "import os\n",
        "def seed_everything(seed):\n",
        "    random.seed(seed)\n",
        "    os.environ['PYTHONHASHSEED']=str(seed)\n",
        "    np.random.seed(seed)\n",
        "seed_everything(42)\n",
        "\n",
        "train_df = pd.read_csv('./drive/MyDrive/LG_Aimer/train.csv')\n",
        "drop_sensors = ['ID','X_04', 'X_23', 'X_47', 'X_48']\n",
        "train_df= train_df.drop(labels = drop_sensors,axis=1, inplace=False)\n",
        "train_x = train_df.filter(regex='X') # Input : X Featrue\n",
        "train_y = train_df.filter(regex='Y') # Output : Y Feature"
      ],
      "metadata": {
        "id": "ab99_EfHi1n4"
      },
      "execution_count": 2,
      "outputs": []
    },
    {
      "cell_type": "code",
      "source": [
        "meta_x_features"
      ],
      "metadata": {
        "id": "sLXgux-hjPZ1"
      },
      "execution_count": null,
      "outputs": []
    },
    {
      "cell_type": "code",
      "source": [
        "df = pd.read_csv('./drive/MyDrive/LG_Aimer/train.csv')\n",
        "df1 = df.copy()\n",
        "df1=df[(df['Y_01']>=0.2)&(df['Y_01']<2.0)&(df['Y_02']>=0.2)\n",
        "&(df['Y_02']<=2.1)&(df['Y_02']>=0.2)\n",
        "&(df['Y_03']>=0.2)&(df['Y_03']<=2.1)\n",
        "&(df['Y_04']<=19)&(df['Y_04']>=7)&(df['Y_05']<=36.5)&(df['Y_05']>=22)\n",
        "&(df['Y_06']>=-19.2)&(df['Y_06']<=19)&(df['Y_07']>=2.4)&(df['Y_07']<=4)\n",
        "&(df['Y_08']>=-29.2)&(df['Y_08']<=-24)&(df['Y_09']>=-29.2)&(df['Y_09']<=-24)\n",
        "&(df['Y_10']>=-30.6)&(df['Y_10']<=-20)&(df['Y_11']>=19.6)&(df['Y_11']<=26.6)\n",
        "&(df['Y_12']>=-29.2)&(df['Y_12']<=-24)&(df['Y_13']>=-29.2)&(df['Y_13']<=-24)\n",
        "&(df['Y_14']>=-29.2)&(df['Y_14']<=-24)]\n",
        "\n",
        "for idx in range(0,39607):\n",
        "    if idx in df1.index:\n",
        "        df.loc[idx,'pass']=1\n",
        "    else:\n",
        "        df.loc[idx,'pass']=0"
      ],
      "metadata": {
        "id": "9sUUQl72i7in"
      },
      "execution_count": 6,
      "outputs": []
    },
    {
      "cell_type": "code",
      "source": [
        "from sklearn.model_selection import train_test_split\n",
        "\n",
        "drop_sensors = ['ID','X_04', 'X_23', 'X_47', 'X_48','X_14','X_15','X_16','X_17','X_18','Y_01', 'Y_02', 'Y_03', 'Y_04', 'Y_05', 'Y_06', 'Y_07', 'Y_08', 'Y_09',\n",
        "       'Y_10', 'Y_11', 'Y_12', 'Y_13', 'Y_14']\n",
        "df= df.drop(labels = drop_sensors,axis=1, inplace=False)\n",
        "label = df['pass']\n",
        "df= df.drop(labels = 'pass',axis=1, inplace=False)\n",
        "print(len(df.columns))\n",
        "x_train, x_test, y_train, y_test = train_test_split(df, label, test_size=0.3, random_state=10)"
      ],
      "metadata": {
        "colab": {
          "base_uri": "https://localhost:8080/"
        },
        "id": "sIVwaZ1yjFyF",
        "outputId": "f655d24f-5c39-4f6c-9d31-abdb26a62798"
      },
      "execution_count": 7,
      "outputs": [
        {
          "output_type": "stream",
          "name": "stdout",
          "text": [
            "47\n"
          ]
        }
      ]
    },
    {
      "cell_type": "code",
      "source": [
        "x_train = x_train.to_numpy().reshape(x_train.shape[0], x_train.shape[1],1)\n",
        "print(x_train.shape)\n",
        "x_test = x_test.to_numpy().reshape(x_test.shape[0],x_test.shape[1],1)\n",
        "print(x_test.shape)"
      ],
      "metadata": {
        "id": "oBpa_7H1tQRt",
        "outputId": "11c99fbd-b766-4c6c-f739-5609f24dae6d",
        "colab": {
          "base_uri": "https://localhost:8080/"
        }
      },
      "execution_count": 20,
      "outputs": [
        {
          "output_type": "stream",
          "name": "stdout",
          "text": [
            "(27724, 47, 1)\n",
            "(11883, 47, 1)\n"
          ]
        }
      ]
    },
    {
      "cell_type": "markdown",
      "source": [
        "## DNN 분류기"
      ],
      "metadata": {
        "id": "Gvsh38KCjj2R"
      }
    },
    {
      "cell_type": "code",
      "source": [
        "from keras.models import Sequential\n",
        "from keras.layers import Dense, LSTM, Input, Bidirectional,TimeDistributed, Flatten\n",
        "from keras.layers.convolutional import Conv1D, MaxPooling1D\n",
        "from numpy import array\n",
        "from numpy.random import uniform\n",
        "from numpy import hstack\n",
        "import matplotlib.pyplot as plt\n",
        "from sklearn.model_selection import train_test_split\n",
        "from sklearn.metrics import mean_squared_error\n",
        "from keras.models import Model\n",
        "from keras.callbacks import EarlyStopping\n",
        "from sklearn.model_selection import RepeatedKFold\n",
        "from tensorflow.keras import optimizers\n",
        "\n",
        "model = Sequential()\n",
        "model.add(Input(shape=(47,1)))\n",
        "model.add(Dense(256,activation='relu'))\n",
        "model.add(Dense(128, activation='relu'))\n",
        "model.add(Dense(64,activation='relu'))\n",
        "model.add(Flatten())\n",
        "model.add(Dense(128,activation='relu'))\n",
        "model.add(Dense(64,activation='relu'))\n",
        "model.add(Dense(1, activation='sigmoid'))\n",
        "\n",
        "model.compile(optimizer=optimizers.RMSprop(learning_rate=0.001),loss='binary_crossentropy',metrics=['accuracy'])\n",
        "model.summary()"
      ],
      "metadata": {
        "colab": {
          "base_uri": "https://localhost:8080/"
        },
        "id": "__M0dVRKjXEq",
        "outputId": "d1df6575-6af7-4700-f48c-b16932b9be32"
      },
      "execution_count": 21,
      "outputs": [
        {
          "output_type": "stream",
          "name": "stdout",
          "text": [
            "Model: \"sequential_1\"\n",
            "_________________________________________________________________\n",
            " Layer (type)                Output Shape              Param #   \n",
            "=================================================================\n",
            " dense_6 (Dense)             (None, 47, 256)           512       \n",
            "                                                                 \n",
            " dense_7 (Dense)             (None, 47, 128)           32896     \n",
            "                                                                 \n",
            " dense_8 (Dense)             (None, 47, 64)            8256      \n",
            "                                                                 \n",
            " flatten_1 (Flatten)         (None, 3008)              0         \n",
            "                                                                 \n",
            " dense_9 (Dense)             (None, 128)               385152    \n",
            "                                                                 \n",
            " dense_10 (Dense)            (None, 64)                8256      \n",
            "                                                                 \n",
            " dense_11 (Dense)            (None, 1)                 65        \n",
            "                                                                 \n",
            "=================================================================\n",
            "Total params: 435,137\n",
            "Trainable params: 435,137\n",
            "Non-trainable params: 0\n",
            "_________________________________________________________________\n"
          ]
        }
      ]
    },
    {
      "cell_type": "code",
      "source": [
        "early_stopping = EarlyStopping(monitor = 'val_loss', mode = 'min', patience = 30, verbose = 1)\n",
        "hist = model.fit(x_train, y_train, epochs = 1000, batch_size = 20, validation_data = (x_test, y_test),callbacks = [early_stopping])"
      ],
      "metadata": {
        "id": "ZRh5vKVVo1he"
      },
      "execution_count": null,
      "outputs": []
    },
    {
      "cell_type": "code",
      "source": [
        "preds = model.predict(x_test)"
      ],
      "metadata": {
        "id": "0PBA4mWepaPX"
      },
      "execution_count": 27,
      "outputs": []
    },
    {
      "cell_type": "code",
      "source": [
        "predss = []\n",
        "\n",
        "count = 0 \n",
        "for i in preds:\n",
        "  if i < 0.907: #임계값 바꾸기\n",
        "    count+=1\n",
        "    predss.append(0)\n",
        "  else:\n",
        "    predss.append(1)\n",
        "print(count)"
      ],
      "metadata": {
        "id": "m6Ye_q3Tw4HK",
        "outputId": "510b2abb-6356-4032-e29c-2c55ce7d169c",
        "colab": {
          "base_uri": "https://localhost:8080/"
        }
      },
      "execution_count": 57,
      "outputs": [
        {
          "output_type": "stream",
          "name": "stdout",
          "text": [
            "1162\n"
          ]
        }
      ]
    },
    {
      "cell_type": "code",
      "source": [
        "from sklearn.metrics import confusion_matrix\n",
        "\n",
        "cm = confusion_matrix(y_test, predss)\n",
        "print(cm)"
      ],
      "metadata": {
        "id": "-oP5CypfzvV3",
        "outputId": "062bb22e-a1b8-4c05-d2f8-4d16694a33a8",
        "colab": {
          "base_uri": "https://localhost:8080/"
        }
      },
      "execution_count": 56,
      "outputs": [
        {
          "output_type": "stream",
          "name": "stdout",
          "text": [
            "[[   78  1081]\n",
            " [  594 10130]]\n"
          ]
        }
      ]
    }
  ]
}